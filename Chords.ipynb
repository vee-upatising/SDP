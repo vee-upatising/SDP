{
 "cells": [
  {
   "cell_type": "code",
   "execution_count": 6,
   "metadata": {},
   "outputs": [],
   "source": [
    "import numpy as np\n",
    "import mido\n",
    "import tensorflow as tf\n",
    "from mido import MidiFile, MidiTrack, Message"
   ]
  },
  {
   "cell_type": "code",
   "execution_count": 7,
   "metadata": {},
   "outputs": [],
   "source": [
    "chordOne = 25\n",
    "chordTwo = 36\n",
    "chordThree = 94 \n",
    "chordFour = 22"
   ]
  },
  {
   "cell_type": "code",
   "execution_count": 8,
   "metadata": {},
   "outputs": [],
   "source": [
    "#new midi file\n",
    "mid = MidiFile()\n",
    "track = MidiTrack()\n",
    "mid.tracks.append(track)\n",
    "\n",
    "track.append(Message('program_change', program=0, time=0))\n",
    "track.append(Message('note_on', note= chordOne, velocity=64, time=20))\n",
    "track.append(Message('note_off', note= chordOne, velocity=64, time=100))\n",
    "track.append(Message('note_on', note= chordTwo, velocity=64, time=20))\n",
    "track.append(Message('note_off', note= chordTwo, velocity=64, time=100))\n",
    "track.append(Message('note_on', note= chordThree, velocity=64, time=20))\n",
    "track.append(Message('note_off', note= chordThree, velocity=64, time=100))\n",
    "track.append(Message('note_on', note= chordFour, velocity=64, time=20))\n",
    "track.append(Message('note_off', note= chordFour, velocity=64, time=100))\n",
    "mid.save(r'C:\\Users\\Vee\\Desktop\\python\\chords\\1.mid')"
   ]
  },
  {
   "cell_type": "code",
   "execution_count": null,
   "metadata": {},
   "outputs": [],
   "source": []
  }
 ],
 "metadata": {
  "kernelspec": {
   "display_name": "Python 3",
   "language": "python",
   "name": "python3"
  },
  "language_info": {
   "codemirror_mode": {
    "name": "ipython",
    "version": 3
   },
   "file_extension": ".py",
   "mimetype": "text/x-python",
   "name": "python",
   "nbconvert_exporter": "python",
   "pygments_lexer": "ipython3",
   "version": "3.7.3"
  }
 },
 "nbformat": 4,
 "nbformat_minor": 2
}
