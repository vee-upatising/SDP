{
 "cells": [
  {
   "cell_type": "code",
   "execution_count": 83,
   "metadata": {},
   "outputs": [],
   "source": [
    "import numpy as np\n",
    "import random\n",
    "import tensorflow as tf\n",
    "import keras\n",
    "from keras.models import Sequential\n",
    "from keras.layers import Dense, Activation, Dropout, Bidirectional,BatchNormalization\n",
    "from keras.layers import LSTM, RepeatVector, TimeDistributed\n",
    "from sklearn.model_selection import train_test_split\n",
    "\n",
    "import numpy as np\n",
    "import os\n",
    "from mido import MidiFile, MidiTrack, Message\n",
    "import mido\n",
    "\n",
    "from random import randrange\n",
    "import NoteBins\n",
    "\n",
    "import matplotlib.pyplot as plt"
   ]
  },
  {
   "cell_type": "code",
   "execution_count": 63,
   "metadata": {
    "scrolled": true
   },
   "outputs": [],
   "source": [
    "paths = []\n",
    "songs = []\n",
    "for r, d, f in os.walk(r\"C:\\Users\\Vee\\Desktop\\python\\blues\"):\n",
    "    for file in f:\n",
    "        if '.mid' in file:\n",
    "            paths.append(os.path.join(r, file))\n",
    "\n",
    "for path in paths:\n",
    "    mid = MidiFile(path, type = 1)\n",
    "    songs.append(mid)"
   ]
  },
  {
   "cell_type": "code",
   "execution_count": 64,
   "metadata": {},
   "outputs": [],
   "source": [
    "notes = []\n",
    "dataset = []\n",
    "fuckboy = []"
   ]
  },
  {
   "cell_type": "code",
   "execution_count": 65,
   "metadata": {},
   "outputs": [],
   "source": [
    "#for each in midi object in list of songs\n",
    "for i in range(len(songs)):\n",
    "    #for each note in midi object\n",
    "    for msg in songs[i]:\n",
    "        #filtering out meta messages\n",
    "        if not msg.is_meta:\n",
    "            #filtering out control changes\n",
    "            if (msg.type == 'note_on'):\n",
    "                #normalizing note and velocity values\n",
    "                notes.append([NoteBins.note_reg(msg.note)/11])\n",
    "    for i in range(1, len(notes)):\n",
    "        fuckboy.append(notes[i])\n",
    "        if (i % 16 == 0):\n",
    "            dataset.append(fuckboy)\n",
    "            fuckboy = []\n",
    "    fuckboy = []\n",
    "    notes = []"
   ]
  },
  {
   "cell_type": "code",
   "execution_count": 66,
   "metadata": {},
   "outputs": [
    {
     "data": {
      "text/plain": [
       "(3569, 16, 1)"
      ]
     },
     "execution_count": 66,
     "metadata": {},
     "output_type": "execute_result"
    }
   ],
   "source": [
    "dataset = np.array(dataset)\n",
    "dataset.shape"
   ]
  },
  {
   "cell_type": "code",
   "execution_count": 67,
   "metadata": {},
   "outputs": [],
   "source": [
    "bruv = []\n",
    "#for each in midi object in list of songs\n",
    "for i in range(len(songs)):\n",
    "    #for each note in midi object\n",
    "    for msg in songs[i]:\n",
    "        #filtering out meta messages\n",
    "        if not msg.is_meta:\n",
    "            #filtering out control changes\n",
    "            if (msg.type == 'note_on'):\n",
    "                #normalizing note and velocity values\n",
    "                notes.append([NoteBins.note_reg(msg.note)/11])\n",
    "    for i in range(1, len(notes)):\n",
    "        fuckboy.append(notes[i])\n",
    "        if (i % 16 == 0):\n",
    "            bruv.append([fuckboy[0:4],fuckboy[4:8],fuckboy[8:12],fuckboy[12:16]])\n",
    "            fuckboy = []\n",
    "    fuckboy = []\n",
    "    notes = []"
   ]
  },
  {
   "cell_type": "code",
   "execution_count": 68,
   "metadata": {},
   "outputs": [
    {
     "data": {
      "text/plain": [
       "(3569, 4, 4)"
      ]
     },
     "execution_count": 68,
     "metadata": {},
     "output_type": "execute_result"
    }
   ],
   "source": [
    "bruv = np.array(bruv)\n",
    "bruv = bruv.reshape(len(bruv),4,4)\n",
    "bruv.shape"
   ]
  },
  {
   "cell_type": "code",
   "execution_count": 69,
   "metadata": {},
   "outputs": [],
   "source": [
    "#splitting data into train and test sets. 3/4 train, 1/4 test.\n",
    "x_train,x_test,y_train,y_test = train_test_split(bruv, dataset, test_size=0.4, shuffle=False, random_state=42)"
   ]
  },
  {
   "cell_type": "code",
   "execution_count": 106,
   "metadata": {
    "scrolled": true
   },
   "outputs": [
    {
     "name": "stdout",
     "output_type": "stream",
     "text": [
      "Model: \"sequential_8\"\n",
      "_________________________________________________________________\n",
      "Layer (type)                 Output Shape              Param #   \n",
      "=================================================================\n",
      "bidirectional_23 (Bidirectio (None, 256)               136192    \n",
      "_________________________________________________________________\n",
      "repeat_vector_8 (RepeatVecto (None, 16, 256)           0         \n",
      "_________________________________________________________________\n",
      "bidirectional_24 (Bidirectio (None, 16, 512)           1050624   \n",
      "_________________________________________________________________\n",
      "bidirectional_25 (Bidirectio (None, 16, 512)           1574912   \n",
      "_________________________________________________________________\n",
      "bidirectional_26 (Bidirectio (None, 16, 512)           1574912   \n",
      "_________________________________________________________________\n",
      "batch_normalization_7 (Batch (None, 16, 512)           2048      \n",
      "_________________________________________________________________\n",
      "time_distributed_27 (TimeDis (None, 16, 512)           262656    \n",
      "_________________________________________________________________\n",
      "dropout_20 (Dropout)         (None, 16, 512)           0         \n",
      "_________________________________________________________________\n",
      "time_distributed_28 (TimeDis (None, 16, 512)           262656    \n",
      "_________________________________________________________________\n",
      "dropout_21 (Dropout)         (None, 16, 512)           0         \n",
      "_________________________________________________________________\n",
      "time_distributed_29 (TimeDis (None, 16, 512)           262656    \n",
      "_________________________________________________________________\n",
      "dropout_22 (Dropout)         (None, 16, 512)           0         \n",
      "_________________________________________________________________\n",
      "time_distributed_30 (TimeDis (None, 16, 1)             513       \n",
      "=================================================================\n",
      "Total params: 5,127,169\n",
      "Trainable params: 5,126,145\n",
      "Non-trainable params: 1,024\n",
      "_________________________________________________________________\n",
      "None\n"
     ]
    }
   ],
   "source": [
    "# define model\n",
    "model = Sequential()\n",
    "#shaping input to match data\n",
    "model.add(Bidirectional(LSTM(128),input_shape=(4, 4)))\n",
    "#specifying output to have 40 timesteps\n",
    "model.add(RepeatVector(16))\n",
    "#specifying 1 feature as the output\n",
    "model.add(Bidirectional(LSTM(256, activation = 'selu', return_sequences=True, dropout = 0.2)))\n",
    "model.add(Bidirectional(LSTM(256, activation = 'relu', return_sequences=True, dropout = 0.2)))\n",
    "model.add(Bidirectional(LSTM(256, activation = 'selu', return_sequences=True, dropout = 0.2)))\n",
    "model.add(BatchNormalization())\n",
    "model.add(TimeDistributed(Dense(512, activation = 'selu')))\n",
    "model.add(Dropout(0.3))\n",
    "model.add(TimeDistributed(Dense(512, activation = 'selu')))\n",
    "model.add(Dropout(0.3))\n",
    "model.add(TimeDistributed(Dense(512, activation = 'selu')))\n",
    "model.add(Dropout(0.3))\n",
    "model.add(TimeDistributed(Dense(1, activation = 'linear')))\n",
    "model.compile(loss='mean_squared_error', optimizer='adam')\n",
    "print(model.summary())"
   ]
  },
  {
   "cell_type": "code",
   "execution_count": 114,
   "metadata": {
    "scrolled": true
   },
   "outputs": [
    {
     "name": "stdout",
     "output_type": "stream",
     "text": [
      "Train on 2141 samples, validate on 1428 samples\n",
      "Epoch 1/100\n",
      "2141/2141 [==============================] - 0s 231us/step - loss: 1.3175 - val_loss: 0.1611\n",
      "Epoch 2/100\n",
      "2141/2141 [==============================] - 0s 207us/step - loss: 1.2683 - val_loss: 0.1578\n",
      "Epoch 3/100\n",
      "2141/2141 [==============================] - 0s 209us/step - loss: 1.1927 - val_loss: 0.1554\n",
      "Epoch 4/100\n",
      "2141/2141 [==============================] - 0s 207us/step - loss: 1.1879 - val_loss: 0.1537\n",
      "Epoch 5/100\n",
      "2141/2141 [==============================] - 0s 206us/step - loss: 1.1629 - val_loss: 0.1508\n",
      "Epoch 6/100\n",
      "2141/2141 [==============================] - 0s 208us/step - loss: 1.1035 - val_loss: 0.1482\n",
      "Epoch 7/100\n",
      "2141/2141 [==============================] - 0s 206us/step - loss: 1.0719 - val_loss: 0.1440\n",
      "Epoch 8/100\n",
      "2141/2141 [==============================] - 0s 205us/step - loss: 1.0788 - val_loss: 0.1375\n",
      "Epoch 9/100\n",
      "2141/2141 [==============================] - 0s 210us/step - loss: 1.0238 - val_loss: 0.1317\n",
      "Epoch 10/100\n",
      "2141/2141 [==============================] - 0s 211us/step - loss: 1.0080 - val_loss: 0.1299\n",
      "Epoch 11/100\n",
      "2141/2141 [==============================] - 0s 209us/step - loss: 0.9936 - val_loss: 0.1301\n",
      "Epoch 12/100\n",
      "2141/2141 [==============================] - 0s 207us/step - loss: 0.9668 - val_loss: 0.1311\n",
      "Epoch 13/100\n",
      "2141/2141 [==============================] - 0s 207us/step - loss: 0.9337 - val_loss: 0.1329\n",
      "Epoch 14/100\n",
      "2141/2141 [==============================] - 0s 206us/step - loss: 0.9055 - val_loss: 0.1336\n",
      "Epoch 15/100\n",
      "2141/2141 [==============================] - 0s 207us/step - loss: 0.8960 - val_loss: 0.1313\n",
      "Epoch 16/100\n",
      "2141/2141 [==============================] - 0s 207us/step - loss: 0.8750 - val_loss: 0.1272\n",
      "Epoch 17/100\n",
      "2141/2141 [==============================] - 0s 208us/step - loss: 0.8581 - val_loss: 0.1234\n",
      "Epoch 18/100\n",
      "2141/2141 [==============================] - 0s 210us/step - loss: 0.8386 - val_loss: 0.1209\n",
      "Epoch 19/100\n",
      "2141/2141 [==============================] - 0s 208us/step - loss: 0.8125 - val_loss: 0.1195\n",
      "Epoch 20/100\n",
      "2141/2141 [==============================] - 0s 212us/step - loss: 0.7960 - val_loss: 0.1194\n",
      "Epoch 21/100\n",
      "2141/2141 [==============================] - 0s 213us/step - loss: 0.7788 - val_loss: 0.1201\n",
      "Epoch 22/100\n",
      "2141/2141 [==============================] - 0s 215us/step - loss: 0.7808 - val_loss: 0.1212\n",
      "Epoch 23/100\n",
      "2141/2141 [==============================] - 0s 212us/step - loss: 0.7535 - val_loss: 0.1218\n",
      "Epoch 24/100\n",
      "2141/2141 [==============================] - 0s 210us/step - loss: 0.7346 - val_loss: 0.1219\n",
      "Epoch 25/100\n",
      "2141/2141 [==============================] - 0s 209us/step - loss: 0.7227 - val_loss: 0.1215\n",
      "Epoch 26/100\n",
      "2141/2141 [==============================] - 0s 207us/step - loss: 0.7028 - val_loss: 0.1210\n",
      "Epoch 27/100\n",
      "2141/2141 [==============================] - 0s 205us/step - loss: 0.6934 - val_loss: 0.1207\n",
      "Epoch 28/100\n",
      "2141/2141 [==============================] - 0s 208us/step - loss: 0.6759 - val_loss: 0.1202\n",
      "Epoch 29/100\n",
      "2141/2141 [==============================] - 0s 211us/step - loss: 0.6654 - val_loss: 0.1202\n",
      "Epoch 30/100\n",
      "2141/2141 [==============================] - 0s 207us/step - loss: 0.6582 - val_loss: 0.1203\n",
      "Epoch 31/100\n",
      "2141/2141 [==============================] - 0s 209us/step - loss: 0.6413 - val_loss: 0.1205\n",
      "Epoch 32/100\n",
      "2141/2141 [==============================] - 0s 207us/step - loss: 0.6228 - val_loss: 0.1203\n",
      "Epoch 33/100\n",
      "2141/2141 [==============================] - 0s 209us/step - loss: 0.6148 - val_loss: 0.1198\n",
      "Epoch 34/100\n",
      "2141/2141 [==============================] - 0s 208us/step - loss: 0.6025 - val_loss: 0.1191\n",
      "Epoch 35/100\n",
      "2141/2141 [==============================] - 0s 207us/step - loss: 0.5815 - val_loss: 0.1186\n",
      "Epoch 36/100\n",
      "2141/2141 [==============================] - 0s 206us/step - loss: 0.5738 - val_loss: 0.1180\n",
      "Epoch 37/100\n",
      "2141/2141 [==============================] - 0s 208us/step - loss: 0.5688 - val_loss: 0.1170\n",
      "Epoch 38/100\n",
      "2141/2141 [==============================] - 0s 206us/step - loss: 0.5546 - val_loss: 0.1163\n",
      "Epoch 39/100\n",
      "2141/2141 [==============================] - 0s 209us/step - loss: 0.5434 - val_loss: 0.1159\n",
      "Epoch 40/100\n",
      "2141/2141 [==============================] - 0s 207us/step - loss: 0.5377 - val_loss: 0.1158\n",
      "Epoch 41/100\n",
      "2141/2141 [==============================] - 0s 209us/step - loss: 0.5187 - val_loss: 0.1161\n",
      "Epoch 42/100\n",
      "2141/2141 [==============================] - 0s 209us/step - loss: 0.5123 - val_loss: 0.1165\n",
      "Epoch 43/100\n",
      "2141/2141 [==============================] - 0s 208us/step - loss: 0.5060 - val_loss: 0.1167\n",
      "Epoch 44/100\n",
      "2141/2141 [==============================] - 0s 209us/step - loss: 0.4951 - val_loss: 0.1168\n",
      "Epoch 45/100\n",
      "2141/2141 [==============================] - 0s 207us/step - loss: 0.4900 - val_loss: 0.1168\n",
      "Epoch 46/100\n",
      "2141/2141 [==============================] - 0s 207us/step - loss: 0.4768 - val_loss: 0.1166\n",
      "Epoch 47/100\n",
      "2141/2141 [==============================] - 0s 208us/step - loss: 0.4649 - val_loss: 0.1162\n",
      "Epoch 48/100\n",
      "2141/2141 [==============================] - 0s 206us/step - loss: 0.4548 - val_loss: 0.1159\n",
      "Epoch 49/100\n",
      "2141/2141 [==============================] - 0s 209us/step - loss: 0.4484 - val_loss: 0.1156\n",
      "Epoch 50/100\n",
      "2141/2141 [==============================] - 0s 213us/step - loss: 0.4397 - val_loss: 0.1152\n",
      "Epoch 51/100\n",
      "2141/2141 [==============================] - 0s 209us/step - loss: 0.4331 - val_loss: 0.1148\n",
      "Epoch 52/100\n",
      "2141/2141 [==============================] - 0s 209us/step - loss: 0.4246 - val_loss: 0.1144\n",
      "Epoch 53/100\n",
      "2141/2141 [==============================] - 0s 208us/step - loss: 0.4134 - val_loss: 0.1140\n",
      "Epoch 54/100\n",
      "2141/2141 [==============================] - 0s 206us/step - loss: 0.4090 - val_loss: 0.1134\n",
      "Epoch 55/100\n",
      "2141/2141 [==============================] - 0s 209us/step - loss: 0.4035 - val_loss: 0.1130\n",
      "Epoch 56/100\n",
      "2141/2141 [==============================] - 0s 207us/step - loss: 0.3962 - val_loss: 0.1127\n",
      "Epoch 57/100\n",
      "2141/2141 [==============================] - 0s 209us/step - loss: 0.3873 - val_loss: 0.1124\n",
      "Epoch 58/100\n",
      "2141/2141 [==============================] - 0s 208us/step - loss: 0.3784 - val_loss: 0.1124\n",
      "Epoch 59/100\n",
      "2141/2141 [==============================] - 0s 207us/step - loss: 0.3754 - val_loss: 0.1122\n",
      "Epoch 60/100\n",
      "2141/2141 [==============================] - 0s 207us/step - loss: 0.3625 - val_loss: 0.1121\n",
      "Epoch 61/100\n",
      "2141/2141 [==============================] - 0s 209us/step - loss: 0.3597 - val_loss: 0.1120\n",
      "Epoch 62/100\n",
      "2141/2141 [==============================] - 0s 207us/step - loss: 0.3569 - val_loss: 0.1120\n",
      "Epoch 63/100\n",
      "2141/2141 [==============================] - 0s 207us/step - loss: 0.3482 - val_loss: 0.1120\n",
      "Epoch 64/100\n",
      "2141/2141 [==============================] - 0s 208us/step - loss: 0.3387 - val_loss: 0.1120\n",
      "Epoch 65/100\n",
      "2141/2141 [==============================] - 0s 211us/step - loss: 0.3367 - val_loss: 0.1118\n",
      "Epoch 66/100\n",
      "2141/2141 [==============================] - 0s 206us/step - loss: 0.3314 - val_loss: 0.1116\n",
      "Epoch 67/100\n",
      "2141/2141 [==============================] - 0s 208us/step - loss: 0.3235 - val_loss: 0.1115\n",
      "Epoch 68/100\n",
      "2141/2141 [==============================] - 0s 208us/step - loss: 0.3186 - val_loss: 0.1113\n",
      "Epoch 69/100\n",
      "2141/2141 [==============================] - 0s 208us/step - loss: 0.3163 - val_loss: 0.1112\n",
      "Epoch 70/100\n",
      "2141/2141 [==============================] - 0s 208us/step - loss: 0.3117 - val_loss: 0.1110\n",
      "Epoch 71/100\n",
      "2141/2141 [==============================] - 0s 208us/step - loss: 0.3053 - val_loss: 0.1107\n",
      "Epoch 72/100\n",
      "2141/2141 [==============================] - 0s 208us/step - loss: 0.2993 - val_loss: 0.1103\n",
      "Epoch 73/100\n",
      "2141/2141 [==============================] - 0s 208us/step - loss: 0.2964 - val_loss: 0.1098\n",
      "Epoch 74/100\n",
      "2141/2141 [==============================] - 0s 208us/step - loss: 0.2941 - val_loss: 0.1092\n",
      "Epoch 75/100\n",
      "2141/2141 [==============================] - 0s 209us/step - loss: 0.2891 - val_loss: 0.1086\n",
      "Epoch 76/100\n",
      "2141/2141 [==============================] - 0s 207us/step - loss: 0.2824 - val_loss: 0.1083\n",
      "Epoch 77/100\n",
      "2141/2141 [==============================] - 0s 209us/step - loss: 0.2833 - val_loss: 0.1079\n"
     ]
    },
    {
     "name": "stdout",
     "output_type": "stream",
     "text": [
      "Epoch 78/100\n",
      "2141/2141 [==============================] - 0s 207us/step - loss: 0.2729 - val_loss: 0.1076\n",
      "Epoch 79/100\n",
      "2141/2141 [==============================] - 0s 209us/step - loss: 0.2729 - val_loss: 0.1072\n",
      "Epoch 80/100\n",
      "2141/2141 [==============================] - 0s 207us/step - loss: 0.2665 - val_loss: 0.1068\n",
      "Epoch 81/100\n",
      "2141/2141 [==============================] - 0s 209us/step - loss: 0.2674 - val_loss: 0.1066\n",
      "Epoch 82/100\n",
      "2141/2141 [==============================] - 0s 208us/step - loss: 0.2607 - val_loss: 0.1063\n",
      "Epoch 83/100\n",
      "2141/2141 [==============================] - 0s 207us/step - loss: 0.2561 - val_loss: 0.1059\n",
      "Epoch 84/100\n",
      "2141/2141 [==============================] - 0s 208us/step - loss: 0.2530 - val_loss: 0.1055\n",
      "Epoch 85/100\n",
      "2141/2141 [==============================] - 0s 207us/step - loss: 0.2508 - val_loss: 0.1051\n",
      "Epoch 86/100\n",
      "2141/2141 [==============================] - 0s 207us/step - loss: 0.2472 - val_loss: 0.1045\n",
      "Epoch 87/100\n",
      "2141/2141 [==============================] - 0s 208us/step - loss: 0.2395 - val_loss: 0.1040\n",
      "Epoch 88/100\n",
      "2141/2141 [==============================] - 0s 207us/step - loss: 0.2381 - val_loss: 0.1037\n",
      "Epoch 89/100\n",
      "2141/2141 [==============================] - 0s 208us/step - loss: 0.2350 - val_loss: 0.1033\n",
      "Epoch 90/100\n",
      "2141/2141 [==============================] - 0s 209us/step - loss: 0.2311 - val_loss: 0.1030\n",
      "Epoch 91/100\n",
      "2141/2141 [==============================] - 0s 206us/step - loss: 0.2304 - val_loss: 0.1028\n",
      "Epoch 92/100\n",
      "2141/2141 [==============================] - 0s 209us/step - loss: 0.2267 - val_loss: 0.1027\n",
      "Epoch 93/100\n",
      "2141/2141 [==============================] - 0s 208us/step - loss: 0.2210 - val_loss: 0.1026\n",
      "Epoch 94/100\n",
      "2141/2141 [==============================] - 0s 208us/step - loss: 0.2220 - val_loss: 0.1025\n",
      "Epoch 95/100\n",
      "2141/2141 [==============================] - 0s 208us/step - loss: 0.2164 - val_loss: 0.1023\n",
      "Epoch 96/100\n",
      "2141/2141 [==============================] - 0s 207us/step - loss: 0.2132 - val_loss: 0.1022\n",
      "Epoch 97/100\n",
      "2141/2141 [==============================] - 0s 208us/step - loss: 0.2121 - val_loss: 0.1020\n",
      "Epoch 98/100\n",
      "2141/2141 [==============================] - 0s 206us/step - loss: 0.2118 - val_loss: 0.1017\n",
      "Epoch 99/100\n",
      "2141/2141 [==============================] - 0s 207us/step - loss: 0.2065 - val_loss: 0.1015\n",
      "Epoch 100/100\n",
      "2141/2141 [==============================] - 0s 209us/step - loss: 0.2036 - val_loss: 0.1013\n"
     ]
    }
   ],
   "source": [
    "history = model.fit(x_train, y_train, epochs=100, batch_size=2500, verbose=1,validation_data=(x_test, y_test))"
   ]
  },
  {
   "cell_type": "code",
   "execution_count": 115,
   "metadata": {},
   "outputs": [
    {
     "data": {
      "image/png": "[encoded data removed]",
      "text/plain": [
       "<Figure size 432x288 with 1 Axes>"
      ]
     },
     "metadata": {
      "needs_background": "light"
     },
     "output_type": "display_data"
    }
   ],
   "source": [
    "# Plot training & validation loss values\n",
    "plt.plot(history.history['loss'])\n",
    "plt.plot(history.history['val_loss'])\n",
    "plt.title('Model Loss')\n",
    "plt.ylabel('Loss')\n",
    "plt.xlabel('Epoch')\n",
    "plt.legend(['Test', 'Validation'], loc='upper right')\n",
    "plt.show()"
   ]
  },
  {
   "cell_type": "code",
   "execution_count": 118,
   "metadata": {},
   "outputs": [],
   "source": [
    "fuckie = [[[randrange(-1000,1000),randrange(-1000,1000),randrange(-1000,1000),randrange(-1000,1000)], [randrange(-1000,1000),randrange(-1000,1000),randrange(-1000,1000),randrange(-1000,1000)], [randrange(-1000,1000),randrange(-1000,1000),randrange(-1000,1000),randrange(-1000,1000)], [randrange(-1000,1000),randrange(-1000,1000),randrange(-1000,1000),randrange(-1000,1000)]]]\n",
    "fuckie = np.array(fuckie)\n",
    "fuckie.reshape(1,4,4)\n",
    "\n",
    "jamie = model.predict_on_batch(fuckie)\n",
    "#adjusting from normalization\n",
    "for x in range(12):\n",
    "    jamie[0][x][0] = abs(jamie[0][x][0] * 11)\n",
    "    while(jamie[0][x][0] > 127):\n",
    "        jamie[0][x][0] = jamie[0][x][0] / 10"
   ]
  },
  {
   "cell_type": "code",
   "execution_count": 119,
   "metadata": {},
   "outputs": [],
   "source": [
    "timing = np.load('csp.npy',allow_pickle=True)\n",
    "count = 0\n",
    "mid = MidiFile()\n",
    "track = MidiTrack()\n",
    "mid.tracks.append(track)\n",
    "track2 = MidiTrack()\n",
    "mid.tracks.append(track2)\n",
    "track3 = MidiTrack()\n",
    "mid.tracks.append(track3)\n",
    "track4 = MidiTrack()\n",
    "mid.tracks.append(track4)\n",
    "octave = 12 * 6\n",
    "t = randrange(len(timing))\n",
    "\n",
    "track.append(Message('program_change', program=7,time=0))\n",
    "track2.append(Message('program_change', program=7, time=0))\n",
    "track3.append(Message('program_change', program=7,time=0))\n",
    "track4.append(Message('program_change', program=7, time=0))\n",
    "    \n",
    "for i in range(2):\n",
    "    track2.append(Message('note_on', note= 58, velocity=randrange(70,80), time=0))\n",
    "    track2.append(Message('note_off', note= 58, velocity=randrange(70,80), time=1920))\n",
    "    track3.append(Message('note_on', note= 60, velocity=randrange(70,80), time=0))\n",
    "    track3.append(Message('note_off', note= 60, velocity=randrange(70,80), time=1920))\n",
    "    track4.append(Message('note_on', note= 62, velocity=randrange(70,80), time=0))\n",
    "    track4.append(Message('note_off', note=62, velocity=randrange(70,80), time=1920))\n",
    "\n",
    "    track2.append(Message('note_on', note= 57, velocity=randrange(70,80), time=0))\n",
    "    track2.append(Message('note_off', note= 57, velocity=randrange(70,80), time=1920))\n",
    "    track3.append(Message('note_on', note= 58, velocity=randrange(70,80), time=0))\n",
    "    track3.append(Message('note_off', note= 58, velocity=randrange(70,80), time=1920))\n",
    "    track4.append(Message('note_on', note= 60, velocity=randrange(70,80), time=0))\n",
    "    track4.append(Message('note_off', note=60, velocity=randrange(70,80), time=1920))\n",
    "\n",
    "    track2.append(Message('note_on', note= 55, velocity=randrange(70,80), time=0))\n",
    "    track2.append(Message('note_off', note= 55, velocity=randrange(70,80), time=1920))\n",
    "    track3.append(Message('note_on', note= 57, velocity=randrange(70,80), time=0))\n",
    "    track3.append(Message('note_off', note= 57, velocity=randrange(70,80), time=1920))\n",
    "    track4.append(Message('note_on', note= 58, velocity=randrange(70,80), time=0))\n",
    "    track4.append(Message('note_off', note=58, velocity=randrange(70,80), time=1920))\n",
    "\n",
    "    track2.append(Message('note_on', note= 53, velocity=randrange(70,80), time=0))\n",
    "    track2.append(Message('note_off', note= 53, velocity=randrange(70,80), time=1920))\n",
    "    track3.append(Message('note_on', note= 55, velocity=randrange(70,80), time=0))\n",
    "    track3.append(Message('note_off', note= 55, velocity=randrange(70,80), time=1920))\n",
    "    track4.append(Message('note_on', note= 57, velocity=randrange(70,80), time=0))\n",
    "    track4.append(Message('note_off', note=57, velocity=randrange(70,80), time=1920))\n",
    "for x in range(2):\n",
    "    for i in range(16):\n",
    "        if(i == 0):\n",
    "            track.append(Message('note_on', note= octave + NoteBins.note_reg(int(jamie[0][i][0])), velocity=randrange(90,110), time=0))\n",
    "        else:\n",
    "            track.append(Message('note_on', note= octave + NoteBins.note_reg(int(jamie[0][i][0])), velocity=randrange(90,110), time=20))\n",
    "        track.append(Message('note_off', note= octave + NoteBins.note_reg(int(jamie[0][i][0])), velocity=randrange(90,110), time=timing[t].get(str(i))))\n",
    "mid.save('jek.mid')"
   ]
  },
  {
   "cell_type": "code",
   "execution_count": 75,
   "metadata": {},
   "outputs": [],
   "source": [
    "from keras.models import load_model\n",
    "\n",
    "# Creates a HDF5 file 'my_model.h5'\n",
    "model.save('expanded.h5')"
   ]
  },
  {
   "cell_type": "code",
   "execution_count": 39,
   "metadata": {
    "scrolled": true
   },
   "outputs": [
    {
     "ename": "AttributeError",
     "evalue": "type object 'TFLiteConverter' has no attribute 'from_keras_model'",
     "output_type": "error",
     "traceback": [
      "\u001b[1;31m---------------------------------------------------------------------------\u001b[0m",
      "\u001b[1;31mAttributeError\u001b[0m                            Traceback (most recent call last)",
      "\u001b[1;32m<ipython-input-39-0d95e07fe09c>\u001b[0m in \u001b[0;36m<module>\u001b[1;34m\u001b[0m\n\u001b[0;32m      1\u001b[0m \u001b[1;31m# Convert the model to the TensorFlow Lite format with quantization\u001b[0m\u001b[1;33m\u001b[0m\u001b[1;33m\u001b[0m\u001b[1;33m\u001b[0m\u001b[0m\n\u001b[1;32m----> 2\u001b[1;33m \u001b[0mconverter\u001b[0m \u001b[1;33m=\u001b[0m \u001b[0mtf\u001b[0m\u001b[1;33m.\u001b[0m\u001b[0mlite\u001b[0m\u001b[1;33m.\u001b[0m\u001b[0mTFLiteConverter\u001b[0m\u001b[1;33m.\u001b[0m\u001b[0mfrom_keras_model\u001b[0m\u001b[1;33m(\u001b[0m\u001b[0mmodel\u001b[0m\u001b[1;33m)\u001b[0m\u001b[1;33m\u001b[0m\u001b[1;33m\u001b[0m\u001b[0m\n\u001b[0m\u001b[0;32m      3\u001b[0m \u001b[0mconverter\u001b[0m\u001b[1;33m.\u001b[0m\u001b[0moptimizations\u001b[0m \u001b[1;33m=\u001b[0m \u001b[1;33m[\u001b[0m\u001b[0mtf\u001b[0m\u001b[1;33m.\u001b[0m\u001b[0mlite\u001b[0m\u001b[1;33m.\u001b[0m\u001b[0mOptimize\u001b[0m\u001b[1;33m.\u001b[0m\u001b[0mOPTIMIZE_FOR_SIZE\u001b[0m\u001b[1;33m]\u001b[0m\u001b[1;33m\u001b[0m\u001b[1;33m\u001b[0m\u001b[0m\n\u001b[0;32m      4\u001b[0m \u001b[0mtflite_model\u001b[0m \u001b[1;33m=\u001b[0m \u001b[0mconverter\u001b[0m\u001b[1;33m.\u001b[0m\u001b[0mconvert\u001b[0m\u001b[1;33m(\u001b[0m\u001b[1;33m)\u001b[0m\u001b[1;33m\u001b[0m\u001b[1;33m\u001b[0m\u001b[0m\n\u001b[0;32m      5\u001b[0m \u001b[1;33m\u001b[0m\u001b[0m\n",
      "\u001b[1;31mAttributeError\u001b[0m: type object 'TFLiteConverter' has no attribute 'from_keras_model'"
     ]
    }
   ],
   "source": [
    "# Convert the model to the TensorFlow Lite format with quantization\n",
    "converter = tf.lite.TFLiteConverter.from_keras_model(model)\n",
    "converter.optimizations = [tf.lite.Optimize.OPTIMIZE_FOR_SIZE]\n",
    "tflite_model = converter.convert()\n",
    "\n",
    "# Save the model to disk\n",
    "open(\"all.tflite\", \"wb\").write(tflite_model)"
   ]
  },
  {
   "cell_type": "code",
   "execution_count": null,
   "metadata": {},
   "outputs": [],
   "source": [
    "import tensorflow as tf\n",
    "tf.__version__"
   ]
  },
  {
   "cell_type": "code",
   "execution_count": 61,
   "metadata": {},
   "outputs": [],
   "source": [
    "predict = model.predict(bruv)"
   ]
  },
  {
   "cell_type": "code",
   "execution_count": 62,
   "metadata": {},
   "outputs": [],
   "source": [
    "#adjusting from normalization\n",
    "for y in range(len(songs)):\n",
    "    for x in range(15):\n",
    "            predict[y][x][0] = predict[y][x][0] * 11\n",
    "            while(predict[y][x][0] > 127):\n",
    "                predict[y][x][0] = predict[y][x][0] / 10"
   ]
  },
  {
   "cell_type": "code",
   "execution_count": 65,
   "metadata": {},
   "outputs": [],
   "source": [
    "for z in range(1500,1524):\n",
    "    mid = MidiFile()\n",
    "    track = MidiTrack()\n",
    "    mid.tracks.append(track)\n",
    "    track2 = MidiTrack()\n",
    "    mid.tracks.append(track2)\n",
    "    track3 = MidiTrack()\n",
    "    mid.tracks.append(track3)\n",
    "    track4 = MidiTrack()\n",
    "    mid.tracks.append(track4)\n",
    "    octave = 12 * 5\n",
    "    t = randrange(len(timing))\n",
    "\n",
    "    track.append(Message('program_change', program=2,time=0))\n",
    "    track2.append(Message('program_change', program=0, time=0))\n",
    "    \n",
    "    for i in range(2):\n",
    "        track2.append(Message('note_on', note= 48, velocity=64, time=0))\n",
    "        track2.append(Message('note_off', note= 48, velocity=64, time=1920))\n",
    "        track3.append(Message('note_on', note= 50, velocity=64, time=0))\n",
    "        track3.append(Message('note_off', note= 50, velocity=64, time=1920))\n",
    "        track4.append(Message('note_on', note= 52, velocity=64, time=0))\n",
    "        track4.append(Message('note_off', note=52, velocity=64, time=1920))\n",
    "\n",
    "        track2.append(Message('note_on', note= 47, velocity=64, time=0))\n",
    "        track2.append(Message('note_off', note= 47, velocity=64, time=1920))\n",
    "        track3.append(Message('note_on', note= 48, velocity=64, time=0))\n",
    "        track3.append(Message('note_off', note= 48, velocity=64, time=1920))\n",
    "        track4.append(Message('note_on', note= 50, velocity=64, time=0))\n",
    "        track4.append(Message('note_off', note=50, velocity=64, time=1920))\n",
    "\n",
    "        track2.append(Message('note_on', note= 45, velocity=64, time=0))\n",
    "        track2.append(Message('note_off', note= 45, velocity=64, time=1920))\n",
    "        track3.append(Message('note_on', note= 47, velocity=64, time=0))\n",
    "        track3.append(Message('note_off', note= 47, velocity=64, time=1920))\n",
    "        track4.append(Message('note_on', note= 48, velocity=64, time=0))\n",
    "        track4.append(Message('note_off', note=48, velocity=64, time=1920))\n",
    "\n",
    "        track2.append(Message('note_on', note= 43, velocity=64, time=0))\n",
    "        track2.append(Message('note_off', note= 43, velocity=64, time=1920))\n",
    "        track3.append(Message('note_on', note= 45, velocity=64, time=0))\n",
    "        track3.append(Message('note_off', note= 45, velocity=64, time=1920))\n",
    "        track4.append(Message('note_on', note= 47, velocity=64, time=0))\n",
    "        track4.append(Message('note_off', note=47, velocity=64, time=1920))\n",
    "    for x in range(3):\n",
    "        for i in range(12):\n",
    "            track.append(Message('note_on', note= octave + NoteBins.note_reg(int(predict[z][i][0])), velocity=64, time=20))\n",
    "            track.append(Message('note_off', note= octave + NoteBins.note_reg(int(predict[z][i][0])), velocity=64, time=timing[t].get(str(i))))\n",
    "    mid.save('test' + str(z) + '.mid')"
   ]
  },
  {
   "cell_type": "code",
   "execution_count": 64,
   "metadata": {},
   "outputs": [
    {
     "data": {
      "text/plain": [
       "array([[[5.620357  ],\n",
       "        [5.600093  ],\n",
       "        [5.56239   ],\n",
       "        ...,\n",
       "        [5.4134326 ],\n",
       "        [5.4159575 ],\n",
       "        [0.4930788 ]],\n",
       "\n",
       "       [[5.6203566 ],\n",
       "        [5.600094  ],\n",
       "        [5.562388  ],\n",
       "        ...,\n",
       "        [5.413438  ],\n",
       "        [5.415968  ],\n",
       "        [0.4930799 ]],\n",
       "\n",
       "       [[5.620356  ],\n",
       "        [5.600092  ],\n",
       "        [5.5623827 ],\n",
       "        ...,\n",
       "        [5.4134274 ],\n",
       "        [5.4159474 ],\n",
       "        [0.49307746]],\n",
       "\n",
       "       ...,\n",
       "\n",
       "       [[0.51094157],\n",
       "        [0.50909966],\n",
       "        [0.50567216],\n",
       "        ...,\n",
       "        [0.49213105],\n",
       "        [0.4923614 ],\n",
       "        [0.49308082]],\n",
       "\n",
       "       [[0.5109415 ],\n",
       "        [0.5090991 ],\n",
       "        [0.5056712 ],\n",
       "        ...,\n",
       "        [0.4921301 ],\n",
       "        [0.49235952],\n",
       "        [0.49307835]],\n",
       "\n",
       "       [[0.5109415 ],\n",
       "        [0.50909925],\n",
       "        [0.5056713 ],\n",
       "        ...,\n",
       "        [0.49213016],\n",
       "        [0.49235964],\n",
       "        [0.4930785 ]]], dtype=float32)"
      ]
     },
     "execution_count": 64,
     "metadata": {},
     "output_type": "execute_result"
    }
   ],
   "source": [
    "predict"
   ]
  },
  {
   "cell_type": "code",
   "execution_count": null,
   "metadata": {},
   "outputs": [],
   "source": []
  }
 ],
 "metadata": {
  "kernelspec": {
   "display_name": "Python 3",
   "language": "python",
   "name": "python3"
  },
  "language_info": {
   "codemirror_mode": {
    "name": "ipython",
    "version": 3
   },
   "file_extension": ".py",
   "mimetype": "text/x-python",
   "name": "python",
   "nbconvert_exporter": "python",
   "pygments_lexer": "ipython3",
   "version": "3.7.3"
  }
 },
 "nbformat": 4,
 "nbformat_minor": 2
}
