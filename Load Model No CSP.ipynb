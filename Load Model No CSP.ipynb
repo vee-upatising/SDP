{
 "cells": [
  {
   "cell_type": "code",
   "execution_count": 12,
   "metadata": {},
   "outputs": [],
   "source": [
    "import numpy as np\n",
    "import mido\n",
    "import tensorflow as tf\n",
    "import time\n",
    "\n",
    "from keras.models import load_model\n",
    "from mido import MidiFile, MidiTrack, Message\n",
    "from random import randrange\n",
    "\n",
    "\n",
    "model = load_model('sb.h5')"
   ]
  },
  {
   "cell_type": "code",
   "execution_count": 13,
   "metadata": {},
   "outputs": [
    {
     "data": {
      "text/plain": [
       "array([[[ 9.45454545,  1.09090909, 67.27272727,  9.        ]]])"
      ]
     },
     "execution_count": 13,
     "metadata": {},
     "output_type": "execute_result"
    }
   ],
   "source": [
    "#Midi Notes range from 0 - 127\n",
    "#Input 4 notes for a chord progression\n",
    "user_input = [[[104/11], [12/11], [740/11], [99/11]]]\n",
    "user_input = np.array(user_input)\n",
    "#reshaping input to 3D\n",
    "user_input.reshape(1,1,4)"
   ]
  },
  {
   "cell_type": "code",
   "execution_count": 14,
   "metadata": {},
   "outputs": [
    {
     "data": {
      "text/plain": [
       "array([[[ 19],\n",
       "        [ 39],\n",
       "        [ 60],\n",
       "        [ 85],\n",
       "        [115],\n",
       "        [147],\n",
       "        [175],\n",
       "        [196],\n",
       "        [207],\n",
       "        [204],\n",
       "        [191],\n",
       "        [172],\n",
       "        [166],\n",
       "        [169],\n",
       "        [167],\n",
       "        [161]]])"
      ]
     },
     "execution_count": 14,
     "metadata": {},
     "output_type": "execute_result"
    }
   ],
   "source": [
    "#Performing inference on the model\n",
    "start_time = time.time()\n",
    "predict = model.predict_on_batch(user_input)\n",
    "elapsed_time = time.time() - start_time\n",
    "#Adjusting from normalization\n",
    "predict = predict * 11\n",
    "predict = abs(predict)\n",
    "predict.astype(int)"
   ]
  },
  {
   "cell_type": "code",
   "execution_count": 15,
   "metadata": {
    "scrolled": true
   },
   "outputs": [
    {
     "data": {
      "text/plain": [
       "0.787346363067627"
      ]
     },
     "execution_count": 15,
     "metadata": {},
     "output_type": "execute_result"
    }
   ],
   "source": [
    "elapsed_time"
   ]
  },
  {
   "cell_type": "code",
   "execution_count": 20,
   "metadata": {},
   "outputs": [],
   "source": [
    "#helper function to classify notes into bins\n",
    "def note_reg(note):\n",
    "    C = [0, 12, 24, 36, 48, 60, 72, 84, 96, 108, 120]\n",
    "    C_sharp = [1, 13, 25, 37, 49, 61, 73, 85, 97, 109, 121]\n",
    "    D = [2, 14, 26, 38, 50, 62, 74, 86, 98, 110, 122]\n",
    "    D_sharp = [3, 15, 27, 39, 51, 63, 75, 87, 99, 111, 123]\n",
    "    E = [4, 16, 28, 40, 52, 64, 76, 88, 100, 112, 124]\n",
    "    F = [5, 17, 29, 41, 53, 65, 77, 89, 101, 113, 125]\n",
    "    F_sharp = [6, 18, 30, 42, 54, 66, 78, 90, 102, 114, 126]\n",
    "    G = [7, 19, 31, 43, 55, 67, 79, 91, 103, 115, 127]\n",
    "    G_sharp = [8, 20, 32, 44, 56, 68, 80, 92, 104, 116]\n",
    "    A = [9, 21, 33, 45, 57, 69, 81, 93, 105, 117]\n",
    "    A_sharp = [10, 22, 34, 46, 58, 70, 82, 94, 106, 118]\n",
    "    B = [11, 23, 35, 47, 59, 71, 83, 95, 107, 119]\n",
    "    if (note in C):\n",
    "        return 0\n",
    "    elif(note in C_sharp):\n",
    "        return 1\n",
    "    elif(note in D):\n",
    "        return 2\n",
    "    elif(note in D_sharp):\n",
    "        return 3\n",
    "    elif(note in E):\n",
    "        return 4\n",
    "    elif(note in F):\n",
    "        return 5\n",
    "    elif(note in F_sharp):\n",
    "        return 6\n",
    "    elif(note in G):\n",
    "        return 7\n",
    "    elif(note in G_sharp):\n",
    "        return 8\n",
    "    elif(note in A):\n",
    "        return 9\n",
    "    elif(note in A_sharp):\n",
    "        return 10\n",
    "    elif(note in B):\n",
    "        return 11\n",
    "    else:\n",
    "        return note_reg(int(note/10))"
   ]
  },
  {
   "cell_type": "markdown",
   "metadata": {},
   "source": [
    "#timing array\n",
    "timing = np.load('csp.npy',allow_pickle=True)"
   ]
  },
  {
   "cell_type": "markdown",
   "metadata": {},
   "source": [
    "#new midi file\n",
    "mid = MidiFile()\n",
    "track = MidiTrack()\n",
    "mid.tracks.append(track)\n",
    "\n",
    "#scalable octave variable\n",
    "octave = 12 * 6\n",
    "#timing array index\n",
    "t = randrange(len(timing))\n",
    "\n",
    "\n",
    "track.append(Message('program_change', program=0, time=0))\n",
    "for x in range(5):\n",
    "    for i in range(12):\n",
    "        track.append(Message('note_on', note= octave + note_reg(int(predict[0][i][0])), velocity=64, time=20))\n",
    "        track.append(Message('note_off', note= octave + note_reg(int(predict[0][i][0])), velocity=64, time=timing[t].get(str(i))))\n",
    "mid.save('song.mid')"
   ]
  },
  {
   "cell_type": "code",
   "execution_count": 21,
   "metadata": {},
   "outputs": [],
   "source": [
    "#new midi file\n",
    "mid = MidiFile()\n",
    "track = MidiTrack()\n",
    "mid.tracks.append(track)\n",
    "\n",
    "#scalable octave variable\n",
    "octave = 12 * 6\n",
    "#timing array index\n",
    "\n",
    "\n",
    "track.append(Message('program_change', program=0, time=0))\n",
    "for x in range(5):\n",
    "    for i in range(16):\n",
    "        track.append(Message('note_on', note= octave + note_reg(int(predict[0][i][0])), velocity=64, time=20))\n",
    "        track.append(Message('note_off', note= octave + note_reg(int(predict[0][i][0])), velocity=64, time=460))\n",
    "mid.save('song.mid')"
   ]
  },
  {
   "cell_type": "raw",
   "metadata": {},
   "source": [
    "# Convert the model to the TensorFlow Lite format with quantization\n",
    "from tensorflow.contrib import lite\n",
    "converter = lite.TFLiteConverter.from_keras_model_file( 'classical.h5' ) \n",
    "converter.optimizations = [tf.lite.Optimize.OPTIMIZE_FOR_SIZE]\n",
    "tflite_model = converter.convert()\n",
    "\n",
    "# Save the model to disk\n",
    "open(\"all.tflite\", \"wb\").write(tflite_model)"
   ]
  },
  {
   "cell_type": "code",
   "execution_count": 2,
   "metadata": {},
   "outputs": [
    {
     "data": {
      "text/plain": [
       "'2.3.0'"
      ]
     },
     "execution_count": 2,
     "metadata": {},
     "output_type": "execute_result"
    }
   ],
   "source": [
    "import keras\n",
    "keras.__version__"
   ]
  },
  {
   "cell_type": "code",
   "execution_count": null,
   "metadata": {},
   "outputs": [],
   "source": []
  }
 ],
 "metadata": {
  "kernelspec": {
   "display_name": "Python 3",
   "language": "python",
   "name": "python3"
  },
  "language_info": {
   "codemirror_mode": {
    "name": "ipython",
    "version": 3
   },
   "file_extension": ".py",
   "mimetype": "text/x-python",
   "name": "python",
   "nbconvert_exporter": "python",
   "pygments_lexer": "ipython3",
   "version": "3.7.3"
  }
 },
 "nbformat": 4,
 "nbformat_minor": 2
}
