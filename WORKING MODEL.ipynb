{
 "cells": [
  {
   "cell_type": "code",
   "execution_count": 1,
   "metadata": {},
   "outputs": [
    {
     "name": "stderr",
     "output_type": "stream",
     "text": [
      "Using TensorFlow backend.\n"
     ]
    }
   ],
   "source": [
    "import numpy as np\n",
    "import pandas as pd\n",
    "import random\n",
    "import tensorflow as tf\n",
    "\n",
    "from tensorflow import keras\n",
    "from keras import backend as K\n",
    "from keras.models import Sequential\n",
    "from keras.layers import Dense, Activation, Dropout, GRU\n",
    "from keras.layers import LSTM, Reshape, RepeatVector, TimeDistributed\n",
    "from sklearn.model_selection import train_test_split\n",
    "from keras.preprocessing.text import Tokenizer\n",
    "from collections import Counter\n",
    "\n",
    "import numpy as np\n",
    "import os\n",
    "from mido import MidiFile, MidiTrack, Message\n",
    "import mido\n",
    "\n",
    "from scipy.special import softmax\n",
    "import NoteBins\n",
    "\n",
    "import matplotlib.pyplot as plt"
   ]
  },
  {
   "cell_type": "code",
   "execution_count": 2,
   "metadata": {
    "scrolled": true
   },
   "outputs": [],
   "source": [
    "paths = []\n",
    "songs = []\n",
    "for r, d, f in os.walk(r\"C:\\Users\\Vee\\Desktop\\python\\blues\"):\n",
    "    for file in f:\n",
    "        if '.mid' in file:\n",
    "            paths.append(os.path.join(r, file))\n",
    "\n",
    "for path in paths:\n",
    "    mid = MidiFile(path, type = 1)\n",
    "    songs.append(mid)"
   ]
  },
  {
   "cell_type": "code",
   "execution_count": 5,
   "metadata": {},
   "outputs": [],
   "source": [
    "notes = []\n",
    "dataset = []\n",
    "fuckboy = []"
   ]
  },
  {
   "cell_type": "code",
   "execution_count": 6,
   "metadata": {},
   "outputs": [],
   "source": [
    "#for each in midi object in list of songs\n",
    "for i in range(len(songs)):\n",
    "    #for each note in midi object\n",
    "    for msg in songs[i]:\n",
    "        #filtering out meta messages\n",
    "        if not msg.is_meta:\n",
    "            #filtering out control changes\n",
    "            if (msg.type == 'note_on'):\n",
    "                #normalizing note and velocity values\n",
    "                notes.append([NoteBins.note_reg(msg.note)/11])\n",
    "    for i in range(1, len(notes)):\n",
    "        fuckboy.append(notes[i])\n",
    "        if (i % 20 == 0):\n",
    "            dataset.append(fuckboy)\n",
    "            fuckboy = []\n",
    "    fuckboy = []\n",
    "    notes = []"
   ]
  },
  {
   "cell_type": "code",
   "execution_count": 7,
   "metadata": {},
   "outputs": [
    {
     "data": {
      "text/plain": [
       "(1839, 20, 1)"
      ]
     },
     "execution_count": 7,
     "metadata": {},
     "output_type": "execute_result"
    }
   ],
   "source": [
    "dataset = np.array(dataset)\n",
    "dataset.shape"
   ]
  },
  {
   "cell_type": "code",
   "execution_count": 8,
   "metadata": {},
   "outputs": [],
   "source": [
    "bruv = []\n",
    "#for each in midi object in list of songs\n",
    "for i in range(len(songs)):\n",
    "    #for each note in midi object\n",
    "    for msg in songs[i]:\n",
    "        #filtering out meta messages\n",
    "        if not msg.is_meta:\n",
    "            #filtering out control changes\n",
    "            if (msg.type == 'note_on'):\n",
    "                #normalizing note and velocity values\n",
    "                notes.append([NoteBins.note_reg(msg.note)/11])\n",
    "    for i in range(1, len(notes)):\n",
    "        fuckboy.append(notes[i])\n",
    "        if (i % 20 == 0):\n",
    "            bruv.append(fuckboy[0:4])\n",
    "            fuckboy = []\n",
    "    fuckboy = []\n",
    "    notes = []"
   ]
  },
  {
   "cell_type": "code",
   "execution_count": 9,
   "metadata": {},
   "outputs": [
    {
     "data": {
      "text/plain": [
       "(1839, 4, 1)"
      ]
     },
     "execution_count": 9,
     "metadata": {},
     "output_type": "execute_result"
    }
   ],
   "source": [
    "bruv = np.array(bruv)\n",
    "bruv.shape"
   ]
  },
  {
   "cell_type": "code",
   "execution_count": 10,
   "metadata": {},
   "outputs": [],
   "source": [
    "#splitting data into train and test sets. 3/4 train, 1/4 test.\n",
    "x_train,x_test,y_train,y_test = train_test_split(bruv, dataset, test_size=0.2, shuffle=False, random_state=42)"
   ]
  },
  {
   "cell_type": "code",
   "execution_count": 46,
   "metadata": {},
   "outputs": [
    {
     "name": "stdout",
     "output_type": "stream",
     "text": [
      "Model: \"sequential_10\"\n",
      "_________________________________________________________________\n",
      "Layer (type)                 Output Shape              Param #   \n",
      "=================================================================\n",
      "lstm_22 (LSTM)               (None, 4)                 96        \n",
      "_________________________________________________________________\n",
      "repeat_vector_10 (RepeatVect (None, 20, 4)             0         \n",
      "_________________________________________________________________\n",
      "lstm_23 (LSTM)               (None, 20, 64)            17664     \n",
      "_________________________________________________________________\n",
      "lstm_24 (LSTM)               (None, 20, 128)           98816     \n",
      "_________________________________________________________________\n",
      "lstm_25 (LSTM)               (None, 20, 256)           394240    \n",
      "_________________________________________________________________\n",
      "time_distributed_24 (TimeDis (None, 20, 512)           131584    \n",
      "_________________________________________________________________\n",
      "time_distributed_25 (TimeDis (None, 20, 1024)          525312    \n",
      "_________________________________________________________________\n",
      "time_distributed_26 (TimeDis (None, 20, 1)             1025      \n",
      "=================================================================\n",
      "Total params: 1,168,737\n",
      "Trainable params: 1,168,737\n",
      "Non-trainable params: 0\n",
      "_________________________________________________________________\n",
      "None\n"
     ]
    }
   ],
   "source": [
    "# define model\n",
    "model = Sequential()\n",
    "#shaping input to match data\n",
    "model.add(LSTM(4, activation = 'tanh', input_shape=(4, 1), recurrent_activation='sigmoid', use_bias=True, kernel_initializer='glorot_uniform', recurrent_initializer='orthogonal', bias_initializer='zeros', unit_forget_bias=True))\n",
    "#specifying output to have 40 timesteps\n",
    "model.add(RepeatVector(20))\n",
    "#specifying 1 feature as the output\n",
    "model.add(LSTM(64, activation = 'tanh', return_sequences=True, recurrent_activation='sigmoid', use_bias=True, kernel_initializer='glorot_uniform', recurrent_initializer='orthogonal', bias_initializer='zeros', unit_forget_bias=True, dropout = 0.2))\n",
    "model.add(LSTM(128, activation = 'sigmoid', return_sequences=True, dropout = 0.2, recurrent_dropout=0.5 , recurrent_activation='tanh'))\n",
    "model.add(LSTM(256, activation = 'sigmoid', return_sequences=True, dropout = 0.2, recurrent_dropout=0.5 , recurrent_activation='tanh'))\n",
    "model.add(TimeDistributed(Dense(512, activation = 'selu')))\n",
    "model.add(TimeDistributed(Dense(1024, activation = 'selu')))\n",
    "model.add(TimeDistributed(Dense(1, activation = 'selu')))\n",
    "model.compile(loss='mean_absolute_error', optimizer='adam')\n",
    "print(model.summary())"
   ]
  },
  {
   "cell_type": "code",
   "execution_count": 47,
   "metadata": {
    "scrolled": true
   },
   "outputs": [
    {
     "name": "stdout",
     "output_type": "stream",
     "text": [
      "Train on 1839 samples, validate on 368 samples\n",
      "Epoch 1/20\n",
      "1839/1839 [==============================] - 5s 3ms/step - loss: 0.3205 - val_loss: 0.2814\n",
      "Epoch 2/20\n",
      "1839/1839 [==============================] - 2s 1ms/step - loss: 0.2700 - val_loss: 0.2751\n",
      "Epoch 3/20\n",
      "1839/1839 [==============================] - 2s 1ms/step - loss: 0.2673 - val_loss: 0.2799\n",
      "Epoch 4/20\n",
      "1839/1839 [==============================] - 2s 1ms/step - loss: 0.2669 - val_loss: 0.2784\n",
      "Epoch 5/20\n",
      "1839/1839 [==============================] - 2s 1ms/step - loss: 0.2662 - val_loss: 0.2759\n",
      "Epoch 6/20\n",
      "1839/1839 [==============================] - 2s 1ms/step - loss: 0.2653 - val_loss: 0.2751\n",
      "Epoch 7/20\n",
      "1839/1839 [==============================] - 2s 1ms/step - loss: 0.2651 - val_loss: 0.2745\n",
      "Epoch 8/20\n",
      "1839/1839 [==============================] - 2s 1ms/step - loss: 0.2646 - val_loss: 0.2726\n",
      "Epoch 9/20\n",
      "1839/1839 [==============================] - 2s 1ms/step - loss: 0.2642 - val_loss: 0.2722\n",
      "Epoch 10/20\n",
      "1839/1839 [==============================] - 2s 1ms/step - loss: 0.2640 - val_loss: 0.2732\n",
      "Epoch 11/20\n",
      "1839/1839 [==============================] - 2s 1ms/step - loss: 0.2642 - val_loss: 0.2719\n",
      "Epoch 12/20\n",
      "1839/1839 [==============================] - 2s 1ms/step - loss: 0.2644 - val_loss: 0.2724\n",
      "Epoch 13/20\n",
      "1839/1839 [==============================] - 2s 1ms/step - loss: 0.2633 - val_loss: 0.2703\n",
      "Epoch 14/20\n",
      "1839/1839 [==============================] - 2s 1ms/step - loss: 0.2629 - val_loss: 0.2723\n",
      "Epoch 15/20\n",
      "1839/1839 [==============================] - 2s 1ms/step - loss: 0.2621 - val_loss: 0.2705\n",
      "Epoch 16/20\n",
      "1839/1839 [==============================] - 2s 1ms/step - loss: 0.2614 - val_loss: 0.2679\n",
      "Epoch 17/20\n",
      "1839/1839 [==============================] - 2s 1ms/step - loss: 0.2604 - val_loss: 0.2654\n",
      "Epoch 18/20\n",
      "1839/1839 [==============================] - 2s 1ms/step - loss: 0.2611 - val_loss: 0.2670\n",
      "Epoch 19/20\n",
      "1839/1839 [==============================] - 2s 1ms/step - loss: 0.2606 - val_loss: 0.2675\n",
      "Epoch 20/20\n",
      "1839/1839 [==============================] - 2s 1ms/step - loss: 0.2600 - val_loss: 0.2660\n"
     ]
    }
   ],
   "source": [
    "history = model.fit(bruv, dataset, epochs=20, batch_size=200, verbose=1,validation_data=(x_test, y_test))"
   ]
  },
  {
   "cell_type": "code",
   "execution_count": 48,
   "metadata": {},
   "outputs": [
    {
     "data": {
      "image/png": "[encoded data removed]",
      "text/plain": [
       "<Figure size 432x288 with 1 Axes>"
      ]
     },
     "metadata": {
      "needs_background": "light"
     },
     "output_type": "display_data"
    }
   ],
   "source": [
    "# Plot training & validation loss values\n",
    "plt.plot(history.history['loss'])\n",
    "plt.plot(history.history['val_loss'])\n",
    "plt.title('Model loss')\n",
    "plt.ylabel('Loss')\n",
    "plt.xlabel('Epoch')\n",
    "plt.legend(['Validation', 'Test'], loc='upper right')\n",
    "plt.show()"
   ]
  },
  {
   "cell_type": "code",
   "execution_count": 201,
   "metadata": {},
   "outputs": [],
   "source": [
    "j = 0\n",
    "fuckie = [[[0], [11], [5], [1]]]\n",
    "fuckie = np.array(fuckie)\n",
    "fuckie.reshape(1,4,1)\n",
    "predict = model.predict(bruv)\n",
    "#disregarding negative values\n",
    "predict = abs(predict)\n",
    "\n",
    "jamie = model.predict_on_batch(fuckie)"
   ]
  },
  {
   "cell_type": "raw",
   "metadata": {
    "scrolled": true
   },
   "source": [
    "#adjusting from normalization\n",
    "for y in range(len(songs)):\n",
    "    for x in range(20):\n",
    "            predict[y][x][0] = predict[y][x][0] * 11\n",
    "            while(predict[y][x][0] > 127):\n",
    "                predict[y][x][0] = predict[y][x][0] / 10"
   ]
  },
  {
   "cell_type": "raw",
   "metadata": {},
   "source": [
    "#forced mode\n",
    "mid = MidiFile()\n",
    "track = MidiTrack()\n",
    "mid.tracks.append(track)\n",
    "\n",
    "track.append(Message('program_change', program=5, time=0))\n",
    "x = 0\n",
    "octave = 12 * 5\n",
    "for g in range(5):\n",
    "    for i in range(20):\n",
    "        track.append(Message('note_on', note= octave + NoteBins.note_reg(int(predict[x][i][0])), velocity=64, time=77)) #how much of space to use\n",
    "        track.append(Message('note_off', note= octave + NoteBins.note_reg(int(predict[x][i][0])), velocity=64, time=120)) #allocate space\n",
    "mid.save('james.mid')"
   ]
  },
  {
   "cell_type": "code",
   "execution_count": 202,
   "metadata": {},
   "outputs": [],
   "source": [
    "#adjusting from normalization\n",
    "for x in range(20):\n",
    "    jamie[0][x][0] = abs(jamie[0][x][0] * 11)\n",
    "    while(jamie[0][x][0] > 127):\n",
    "        jamie[0][x][0] = jamie[0][x][0] / 10"
   ]
  },
  {
   "cell_type": "code",
   "execution_count": 203,
   "metadata": {
    "scrolled": true
   },
   "outputs": [
    {
     "data": {
      "text/plain": [
       "array([[[ 9.024078 ],\n",
       "        [11.781755 ],\n",
       "        [12.728604 ],\n",
       "        [12.066352 ],\n",
       "        [10.794249 ],\n",
       "        [ 9.626781 ],\n",
       "        [ 8.803759 ],\n",
       "        [ 8.270329 ],\n",
       "        [ 7.9140053],\n",
       "        [ 7.6591725],\n",
       "        [ 7.4778514],\n",
       "        [ 7.3626633],\n",
       "        [ 7.3068943],\n",
       "        [ 7.2982154],\n",
       "        [ 7.322666 ],\n",
       "        [ 7.367214 ],\n",
       "        [ 7.4208603],\n",
       "        [ 7.476285 ],\n",
       "        [ 7.528892 ],\n",
       "        [ 7.576095 ]]], dtype=float32)"
      ]
     },
     "execution_count": 203,
     "metadata": {},
     "output_type": "execute_result"
    }
   ],
   "source": [
    "jamie\n",
    "#jamie[0][0][0]"
   ]
  },
  {
   "cell_type": "code",
   "execution_count": 208,
   "metadata": {},
   "outputs": [],
   "source": [
    "#forced mode\n",
    "mid = MidiFile()\n",
    "track = MidiTrack()\n",
    "mid.tracks.append(track)\n",
    "octave = 12 * 4\n",
    "\n",
    "track.append(Message('program_change', program=2,time=0))\n",
    "for x in range(5):\n",
    "    for i in range(11):\n",
    "        track.append(Message('note_on', note= octave + NoteBins.note_reg(int(jamie[0][i][0])), velocity=64, time=20))\n",
    "        track.append(Message('note_off', note= octave + NoteBins.note_reg(int(jamie[0][i][0])), velocity=64, time=200))\n",
    "mid.save('jamie.mid')"
   ]
  },
  {
   "cell_type": "code",
   "execution_count": 140,
   "metadata": {},
   "outputs": [],
   "source": [
    "#from keras.models import load_model\n",
    "\n",
    "# Creates a HDF5 file 'my_model.h5'\n",
    "#model.save('my_model.h5')"
   ]
  },
  {
   "cell_type": "code",
   "execution_count": null,
   "metadata": {},
   "outputs": [],
   "source": []
  }
 ],
 "metadata": {
  "kernelspec": {
   "display_name": "Python 3",
   "language": "python",
   "name": "python3"
  },
  "language_info": {
   "codemirror_mode": {
    "name": "ipython",
    "version": 3
   },
   "file_extension": ".py",
   "mimetype": "text/x-python",
   "name": "python",
   "nbconvert_exporter": "python",
   "pygments_lexer": "ipython3",
   "version": "3.7.3"
  }
 },
 "nbformat": 4,
 "nbformat_minor": 2
}
