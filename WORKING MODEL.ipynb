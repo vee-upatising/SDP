{
 "cells": [
  {
   "cell_type": "code",
   "execution_count": 18,
   "metadata": {},
   "outputs": [],
   "source": [
    "import numpy as np\n",
    "import pandas as pd\n",
    "import random\n",
    "import tensorflow as tf\n",
    "\n",
    "from tensorflow import keras\n",
    "from keras import backend as K\n",
    "from keras.models import Sequential\n",
    "from keras.layers import Dense, Activation, Dropout, GRU\n",
    "from keras.layers import LSTM, Reshape, RepeatVector, TimeDistributed\n",
    "from sklearn.model_selection import train_test_split\n",
    "\n",
    "import numpy as np\n",
    "import os\n",
    "from mido import MidiFile, MidiTrack, Message\n",
    "import mido\n",
    "\n",
    "from random import randrange\n",
    "import NoteBins\n",
    "\n",
    "import matplotlib.pyplot as plt"
   ]
  },
  {
   "cell_type": "code",
   "execution_count": 2,
   "metadata": {
    "scrolled": true
   },
   "outputs": [],
   "source": [
    "paths = []\n",
    "songs = []\n",
    "for r, d, f in os.walk(r\"C:\\Users\\Vee\\Desktop\\python\\blues\"):\n",
    "    for file in f:\n",
    "        if '.mid' in file:\n",
    "            paths.append(os.path.join(r, file))\n",
    "\n",
    "for path in paths:\n",
    "    mid = MidiFile(path, type = 1)\n",
    "    songs.append(mid)"
   ]
  },
  {
   "cell_type": "code",
   "execution_count": 3,
   "metadata": {},
   "outputs": [],
   "source": [
    "notes = []\n",
    "dataset = []\n",
    "fuckboy = []"
   ]
  },
  {
   "cell_type": "code",
   "execution_count": 4,
   "metadata": {},
   "outputs": [],
   "source": [
    "#for each in midi object in list of songs\n",
    "for i in range(len(songs)):\n",
    "    #for each note in midi object\n",
    "    for msg in songs[i]:\n",
    "        #filtering out meta messages\n",
    "        if not msg.is_meta:\n",
    "            #filtering out control changes\n",
    "            if (msg.type == 'note_on'):\n",
    "                #normalizing note and velocity values\n",
    "                notes.append([NoteBins.note_reg(msg.note)/11])\n",
    "    for i in range(1, len(notes)):\n",
    "        fuckboy.append(notes[i])\n",
    "        if (i % 12 == 0):\n",
    "            dataset.append(fuckboy)\n",
    "            fuckboy = []\n",
    "    fuckboy = []\n",
    "    notes = []"
   ]
  },
  {
   "cell_type": "code",
   "execution_count": 5,
   "metadata": {},
   "outputs": [
    {
     "data": {
      "text/plain": [
       "(4678, 12, 1)"
      ]
     },
     "execution_count": 5,
     "metadata": {},
     "output_type": "execute_result"
    }
   ],
   "source": [
    "dataset = np.array(dataset)\n",
    "dataset.shape"
   ]
  },
  {
   "cell_type": "code",
   "execution_count": 6,
   "metadata": {},
   "outputs": [],
   "source": [
    "bruv = []\n",
    "#for each in midi object in list of songs\n",
    "for i in range(len(songs)):\n",
    "    #for each note in midi object\n",
    "    for msg in songs[i]:\n",
    "        #filtering out meta messages\n",
    "        if not msg.is_meta:\n",
    "            #filtering out control changes\n",
    "            if (msg.type == 'note_on'):\n",
    "                #normalizing note and velocity values\n",
    "                notes.append([NoteBins.note_reg(msg.note)/11])\n",
    "    for i in range(1, len(notes)):\n",
    "        fuckboy.append(notes[i])\n",
    "        if (i % 12 == 0):\n",
    "            bruv.append(fuckboy[0:4])\n",
    "            fuckboy = []\n",
    "    fuckboy = []\n",
    "    notes = []"
   ]
  },
  {
   "cell_type": "code",
   "execution_count": 7,
   "metadata": {},
   "outputs": [
    {
     "data": {
      "text/plain": [
       "(4678, 4, 1)"
      ]
     },
     "execution_count": 7,
     "metadata": {},
     "output_type": "execute_result"
    }
   ],
   "source": [
    "bruv = np.array(bruv)\n",
    "bruv.shape"
   ]
  },
  {
   "cell_type": "code",
   "execution_count": 8,
   "metadata": {},
   "outputs": [],
   "source": [
    "#splitting data into train and test sets. 3/4 train, 1/4 test.\n",
    "x_train,x_test,y_train,y_test = train_test_split(bruv, dataset, test_size=0.4, shuffle=False, random_state=42)"
   ]
  },
  {
   "cell_type": "code",
   "execution_count": 59,
   "metadata": {
    "scrolled": true
   },
   "outputs": [
    {
     "name": "stdout",
     "output_type": "stream",
     "text": [
      "Model: \"sequential_9\"\n",
      "_________________________________________________________________\n",
      "Layer (type)                 Output Shape              Param #   \n",
      "=================================================================\n",
      "lstm_23 (LSTM)               (None, 128)               66560     \n",
      "_________________________________________________________________\n",
      "repeat_vector_7 (RepeatVecto (None, 12, 128)           0         \n",
      "_________________________________________________________________\n",
      "lstm_24 (LSTM)               (None, 12, 256)           394240    \n",
      "_________________________________________________________________\n",
      "lstm_25 (LSTM)               (None, 12, 512)           1574912   \n",
      "_________________________________________________________________\n",
      "time_distributed_9 (TimeDist (None, 12, 1024)          525312    \n",
      "_________________________________________________________________\n",
      "time_distributed_10 (TimeDis (None, 12, 2048)          2099200   \n",
      "_________________________________________________________________\n",
      "time_distributed_11 (TimeDis (None, 12, 1)             2049      \n",
      "=================================================================\n",
      "Total params: 4,662,273\n",
      "Trainable params: 4,662,273\n",
      "Non-trainable params: 0\n",
      "_________________________________________________________________\n",
      "None\n"
     ]
    }
   ],
   "source": [
    "# define model\n",
    "model = Sequential()\n",
    "#shaping input to match data\n",
    "model.add(LSTM(128, activation = 'relu', input_shape=(4, 1)))\n",
    "#specifying output to have 40 timesteps\n",
    "model.add(RepeatVector(12))\n",
    "#specifying 1 feature as the output\n",
    "model.add(LSTM(256, activation = 'relu', return_sequences=True, dropout = 0.3))\n",
    "model.add(LSTM(512, activation = 'relu', return_sequences=True, dropout = 0.3))\n",
    "model.add(TimeDistributed(Dense(1024, activation = 'selu')))\n",
    "model.add(TimeDistributed(Dense(2048, activation = 'selu')))\n",
    "model.add(TimeDistributed(Dense(1, activation = 'linear')))\n",
    "model.compile(loss='mean_absolute_error', optimizer='adam')\n",
    "print(model.summary())"
   ]
  },
  {
   "cell_type": "code",
   "execution_count": 60,
   "metadata": {
    "scrolled": true
   },
   "outputs": [
    {
     "name": "stdout",
     "output_type": "stream",
     "text": [
      "Train on 4678 samples, validate on 1872 samples\n",
      "Epoch 1/20\n",
      "4678/4678 [==============================] - 2s 377us/step - loss: 0.4210 - val_loss: 0.3494\n",
      "Epoch 2/20\n",
      "4678/4678 [==============================] - 1s 115us/step - loss: 0.3010 - val_loss: 0.2985\n",
      "Epoch 3/20\n",
      "4678/4678 [==============================] - 1s 116us/step - loss: 0.2799 - val_loss: 0.2744\n",
      "Epoch 4/20\n",
      "4678/4678 [==============================] - 1s 119us/step - loss: 0.2755 - val_loss: 0.2700\n",
      "Epoch 5/20\n",
      "4678/4678 [==============================] - 1s 118us/step - loss: 0.2700 - val_loss: 0.2780\n",
      "Epoch 6/20\n",
      "4678/4678 [==============================] - 1s 119us/step - loss: 0.2687 - val_loss: 0.2716\n",
      "Epoch 7/20\n",
      "4678/4678 [==============================] - 1s 119us/step - loss: 0.2703 - val_loss: 0.2702\n",
      "Epoch 8/20\n",
      "4678/4678 [==============================] - 1s 116us/step - loss: 0.2684 - val_loss: 0.2743\n",
      "Epoch 9/20\n",
      "4678/4678 [==============================] - 1s 117us/step - loss: 0.2675 - val_loss: 0.2715\n",
      "Epoch 10/20\n",
      "4678/4678 [==============================] - 1s 116us/step - loss: 0.2678 - val_loss: 0.2723\n",
      "Epoch 11/20\n",
      "4678/4678 [==============================] - 1s 117us/step - loss: 0.2672 - val_loss: 0.2696\n",
      "Epoch 12/20\n",
      "4678/4678 [==============================] - 1s 116us/step - loss: 0.2665 - val_loss: 0.2704\n",
      "Epoch 13/20\n",
      "4678/4678 [==============================] - 1s 120us/step - loss: 0.2661 - val_loss: 0.2688\n",
      "Epoch 14/20\n",
      "4678/4678 [==============================] - 1s 121us/step - loss: 0.2656 - val_loss: 0.2684\n",
      "Epoch 15/20\n",
      "4678/4678 [==============================] - 1s 120us/step - loss: 0.2654 - val_loss: 0.2685\n",
      "Epoch 16/20\n",
      "4678/4678 [==============================] - 1s 118us/step - loss: 0.2651 - val_loss: 0.2681\n",
      "Epoch 17/20\n",
      "4678/4678 [==============================] - 1s 120us/step - loss: 0.2646 - val_loss: 0.2677\n",
      "Epoch 18/20\n",
      "4678/4678 [==============================] - 1s 117us/step - loss: 0.2640 - val_loss: 0.2671\n",
      "Epoch 19/20\n",
      "4678/4678 [==============================] - 1s 116us/step - loss: 0.2636 - val_loss: 0.2666\n",
      "Epoch 20/20\n",
      "4678/4678 [==============================] - 1s 122us/step - loss: 0.2634 - val_loss: 0.2662\n"
     ]
    }
   ],
   "source": [
    "history = model.fit(bruv, dataset, epochs=20, batch_size=1000, verbose=1,validation_data=(x_test, y_test))"
   ]
  },
  {
   "cell_type": "code",
   "execution_count": 62,
   "metadata": {},
   "outputs": [
    {
     "data": {
      "image/png": "[encoded data removed]",
      "text/plain": [
       "<Figure size 432x288 with 1 Axes>"
      ]
     },
     "metadata": {
      "needs_background": "light"
     },
     "output_type": "display_data"
    }
   ],
   "source": [
    "# Plot training & validation loss values\n",
    "plt.plot(history.history['loss'])\n",
    "plt.plot(history.history['val_loss'])\n",
    "plt.title('Model loss')\n",
    "plt.ylabel('Loss')\n",
    "plt.xlabel('Epoch')\n",
    "plt.legend(['Validation', 'Test'], loc='upper right')\n",
    "plt.show()"
   ]
  },
  {
   "cell_type": "code",
   "execution_count": 67,
   "metadata": {},
   "outputs": [],
   "source": [
    "j = 0\n",
    "fuckie = [[[30], [25], [92], [120]]]\n",
    "fuckie = np.array(fuckie)\n",
    "fuckie.reshape(1,4,1)\n",
    "\n",
    "jamie = model.predict_on_batch(fuckie)"
   ]
  },
  {
   "cell_type": "raw",
   "metadata": {
    "scrolled": true
   },
   "source": [
    "#adjusting from normalization\n",
    "for y in range(len(songs)):\n",
    "    for x in range(20):\n",
    "            predict[y][x][0] = predict[y][x][0] * 11\n",
    "            while(predict[y][x][0] > 127):\n",
    "                predict[y][x][0] = predict[y][x][0] / 10"
   ]
  },
  {
   "cell_type": "raw",
   "metadata": {},
   "source": [
    "#forced mode\n",
    "mid = MidiFile()\n",
    "track = MidiTrack()\n",
    "mid.tracks.append(track)\n",
    "\n",
    "track.append(Message('program_change', program=5, time=0))\n",
    "x = 0\n",
    "octave = 12 * 5\n",
    "for g in range(5):\n",
    "    for i in range(20):\n",
    "        track.append(Message('note_on', note= octave + NoteBins.note_reg(int(predict[x][i][0])), velocity=64, time=77)) #how much of space to use\n",
    "        track.append(Message('note_off', note= octave + NoteBins.note_reg(int(predict[x][i][0])), velocity=64, time=120)) #allocate space\n",
    "mid.save('james.mid')"
   ]
  },
  {
   "cell_type": "code",
   "execution_count": 68,
   "metadata": {},
   "outputs": [],
   "source": [
    "#adjusting from normalization\n",
    "for x in range(12):\n",
    "    jamie[0][x][0] = abs(jamie[0][x][0] * 11)\n",
    "    while(jamie[0][x][0] > 127):\n",
    "        jamie[0][x][0] = jamie[0][x][0] / 10"
   ]
  },
  {
   "cell_type": "code",
   "execution_count": 69,
   "metadata": {
    "scrolled": true
   },
   "outputs": [],
   "source": [
    "timing = np.load('csp.npy',allow_pickle=True)\n",
    "\n",
    "#jamie[0][0][0]"
   ]
  },
  {
   "cell_type": "code",
   "execution_count": 70,
   "metadata": {},
   "outputs": [],
   "source": [
    "#forced mode\n",
    "mid = MidiFile()\n",
    "track = MidiTrack()\n",
    "mid.tracks.append(track)\n",
    "octave = 12 * 5\n",
    "t = randrange(len(timing))\n",
    "\n",
    "track.append(Message('program_change', program=2,time=0))\n",
    "for x in range(5):\n",
    "    for i in range(12):\n",
    "        track.append(Message('note_on', note= octave + NoteBins.note_reg(int(jamie[0][i][0])), velocity=64, time=20))\n",
    "        track.append(Message('note_off', note= octave + NoteBins.note_reg(int(jamie[0][i][0])), velocity=64, time=timing[t].get(str(i))))\n",
    "mid.save('jek.mid')"
   ]
  },
  {
   "cell_type": "code",
   "execution_count": 36,
   "metadata": {},
   "outputs": [],
   "source": [
    "from keras.models import load_model\n",
    "\n",
    "# Creates a HDF5 file 'my_model.h5'\n",
    "model.save('decent.h5')"
   ]
  },
  {
   "cell_type": "code",
   "execution_count": 13,
   "metadata": {},
   "outputs": [
    {
     "ename": "AttributeError",
     "evalue": "type object 'TFLiteConverter' has no attribute 'from_keras_model'",
     "output_type": "error",
     "traceback": [
      "\u001b[1;31m---------------------------------------------------------------------------\u001b[0m",
      "\u001b[1;31mAttributeError\u001b[0m                            Traceback (most recent call last)",
      "\u001b[1;32m<ipython-input-13-0d95e07fe09c>\u001b[0m in \u001b[0;36m<module>\u001b[1;34m\u001b[0m\n\u001b[0;32m      1\u001b[0m \u001b[1;31m# Convert the model to the TensorFlow Lite format with quantization\u001b[0m\u001b[1;33m\u001b[0m\u001b[1;33m\u001b[0m\u001b[1;33m\u001b[0m\u001b[0m\n\u001b[1;32m----> 2\u001b[1;33m \u001b[0mconverter\u001b[0m \u001b[1;33m=\u001b[0m \u001b[0mtf\u001b[0m\u001b[1;33m.\u001b[0m\u001b[0mlite\u001b[0m\u001b[1;33m.\u001b[0m\u001b[0mTFLiteConverter\u001b[0m\u001b[1;33m.\u001b[0m\u001b[0mfrom_keras_model\u001b[0m\u001b[1;33m(\u001b[0m\u001b[0mmodel\u001b[0m\u001b[1;33m)\u001b[0m\u001b[1;33m\u001b[0m\u001b[1;33m\u001b[0m\u001b[0m\n\u001b[0m\u001b[0;32m      3\u001b[0m \u001b[0mconverter\u001b[0m\u001b[1;33m.\u001b[0m\u001b[0moptimizations\u001b[0m \u001b[1;33m=\u001b[0m \u001b[1;33m[\u001b[0m\u001b[0mtf\u001b[0m\u001b[1;33m.\u001b[0m\u001b[0mlite\u001b[0m\u001b[1;33m.\u001b[0m\u001b[0mOptimize\u001b[0m\u001b[1;33m.\u001b[0m\u001b[0mOPTIMIZE_FOR_SIZE\u001b[0m\u001b[1;33m]\u001b[0m\u001b[1;33m\u001b[0m\u001b[1;33m\u001b[0m\u001b[0m\n\u001b[0;32m      4\u001b[0m \u001b[0mtflite_model\u001b[0m \u001b[1;33m=\u001b[0m \u001b[0mconverter\u001b[0m\u001b[1;33m.\u001b[0m\u001b[0mconvert\u001b[0m\u001b[1;33m(\u001b[0m\u001b[1;33m)\u001b[0m\u001b[1;33m\u001b[0m\u001b[1;33m\u001b[0m\u001b[0m\n\u001b[0;32m      5\u001b[0m \u001b[1;33m\u001b[0m\u001b[0m\n",
      "\u001b[1;31mAttributeError\u001b[0m: type object 'TFLiteConverter' has no attribute 'from_keras_model'"
     ]
    }
   ],
   "source": [
    "# Convert the model to the TensorFlow Lite format with quantization\n",
    "converter = tf.lite.TFLiteConverter.from_keras_model(model)\n",
    "converter.optimizations = [tf.lite.Optimize.OPTIMIZE_FOR_SIZE]\n",
    "tflite_model = converter.convert()\n",
    "\n",
    "# Save the model to disk\n",
    "open(\"all.tflite\", \"wb\").write(tflite_model)"
   ]
  },
  {
   "cell_type": "code",
   "execution_count": 1,
   "metadata": {},
   "outputs": [
    {
     "data": {
      "text/plain": [
       "'2.0.0'"
      ]
     },
     "execution_count": 1,
     "metadata": {},
     "output_type": "execute_result"
    }
   ],
   "source": [
    "import tensorflow as tf\n",
    "tf.__version__"
   ]
  },
  {
   "cell_type": "code",
   "execution_count": null,
   "metadata": {},
   "outputs": [],
   "source": []
  }
 ],
 "metadata": {
  "kernelspec": {
   "display_name": "Python 3",
   "language": "python",
   "name": "python3"
  },
  "language_info": {
   "codemirror_mode": {
    "name": "ipython",
    "version": 3
   },
   "file_extension": ".py",
   "mimetype": "text/x-python",
   "name": "python",
   "nbconvert_exporter": "python",
   "pygments_lexer": "ipython3",
   "version": "3.7.3"
  }
 },
 "nbformat": 4,
 "nbformat_minor": 2
}
