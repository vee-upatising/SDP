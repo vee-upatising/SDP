{
 "cells": [
  {
   "cell_type": "code",
   "execution_count": 29,
   "metadata": {},
   "outputs": [],
   "source": [
    "import numpy as np\n",
    "import random\n",
    "\n",
    "from keras.models import Sequential\n",
    "from keras.layers import Dense, Activation, Dropout\n",
    "from keras.layers import LSTM\n",
    "from sklearn.model_selection import train_test_split"
   ]
  },
  {
   "cell_type": "code",
   "execution_count": 30,
   "metadata": {},
   "outputs": [],
   "source": [
    "#random int between 1 and 8. 4 ints in each array. 1000 arrays.\n",
    "data = [[random.randint(1,8) for j in range(4)] for i in range(1000)]\n",
    "data = np.array(data, dtype=float)\n",
    "#random int between 1 and 8. 16 ints in each array. 1000 arrays.\n",
    "target = [[random.randint(1,8) for j in range(16)] for i in range(1000)]\n",
    "target = np.array(target, dtype=float)"
   ]
  },
  {
   "cell_type": "code",
   "execution_count": 31,
   "metadata": {},
   "outputs": [],
   "source": [
    "#reshaping data into correct sized tensors. Then normalizing values. A,B,C,D,E,F,G,<EOS> so 8 characters in vocabulary\n",
    "data = data.reshape((1000, 1, 4))/8 \n",
    "target = target.reshape((1000, 1, 16))/8 "
   ]
  },
  {
   "cell_type": "code",
   "execution_count": 32,
   "metadata": {},
   "outputs": [
    {
     "data": {
      "text/plain": [
       "array([[[5., 8., 6., 1.]],\n",
       "\n",
       "       [[1., 5., 4., 4.]],\n",
       "\n",
       "       [[3., 6., 3., 1.]],\n",
       "\n",
       "       ...,\n",
       "\n",
       "       [[5., 5., 7., 7.]],\n",
       "\n",
       "       [[7., 2., 4., 3.]],\n",
       "\n",
       "       [[3., 5., 1., 2.]]])"
      ]
     },
     "execution_count": 32,
     "metadata": {},
     "output_type": "execute_result"
    }
   ],
   "source": [
    "data*8"
   ]
  },
  {
   "cell_type": "code",
   "execution_count": 33,
   "metadata": {},
   "outputs": [
    {
     "data": {
      "text/plain": [
       "array([[[6., 8., 8., ..., 7., 5., 6.]],\n",
       "\n",
       "       [[6., 4., 3., ..., 1., 5., 4.]],\n",
       "\n",
       "       [[5., 7., 8., ..., 8., 1., 3.]],\n",
       "\n",
       "       ...,\n",
       "\n",
       "       [[3., 7., 8., ..., 3., 8., 6.]],\n",
       "\n",
       "       [[8., 2., 3., ..., 2., 4., 7.]],\n",
       "\n",
       "       [[6., 8., 2., ..., 7., 4., 1.]]])"
      ]
     },
     "execution_count": 33,
     "metadata": {},
     "output_type": "execute_result"
    }
   ],
   "source": [
    "target*8"
   ]
  },
  {
   "cell_type": "code",
   "execution_count": 34,
   "metadata": {},
   "outputs": [],
   "source": [
    "#splitting data into train and test sets. 3/4 train, 1/4 test.\n",
    "x_train,x_test,y_train,y_test = train_test_split(data, target, test_size=0.25, shuffle=False, random_state=42)"
   ]
  },
  {
   "cell_type": "code",
   "execution_count": 35,
   "metadata": {},
   "outputs": [
    {
     "name": "stdout",
     "output_type": "stream",
     "text": [
      "Model: \"sequential_4\"\n",
      "_________________________________________________________________\n",
      "Layer (type)                 Output Shape              Param #   \n",
      "=================================================================\n",
      "lstm_13 (LSTM)               (None, 1, 128)            68096     \n",
      "_________________________________________________________________\n",
      "lstm_14 (LSTM)               (None, 1, 128)            131584    \n",
      "_________________________________________________________________\n",
      "dropout_7 (Dropout)          (None, 1, 128)            0         \n",
      "_________________________________________________________________\n",
      "dense_10 (Dense)             (None, 1, 128)            16512     \n",
      "_________________________________________________________________\n",
      "lstm_15 (LSTM)               (None, 1, 128)            131584    \n",
      "_________________________________________________________________\n",
      "dropout_8 (Dropout)          (None, 1, 128)            0         \n",
      "_________________________________________________________________\n",
      "dense_11 (Dense)             (None, 1, 128)            16512     \n",
      "_________________________________________________________________\n",
      "lstm_16 (LSTM)               (None, 1, 128)            131584    \n",
      "_________________________________________________________________\n",
      "dense_12 (Dense)             (None, 1, 16)             2064      \n",
      "_________________________________________________________________\n",
      "activation_4 (Activation)    (None, 1, 16)             0         \n",
      "=================================================================\n",
      "Total params: 497,936\n",
      "Trainable params: 497,936\n",
      "Non-trainable params: 0\n",
      "_________________________________________________________________\n",
      "None\n"
     ]
    }
   ],
   "source": [
    "#getting the right tensor shape for this was a BITCH\n",
    "model = Sequential()  \n",
    "model.add(LSTM(128, input_shape=(1, 4),return_sequences=True, activation = 'relu'))\n",
    "model.add(LSTM(128, return_sequences=True, activation = 'relu'))\n",
    "model.add(Dropout(0.2))\n",
    "model.add(Dense(units=128))\n",
    "model.add(LSTM(128, return_sequences=True, activation = 'relu'))\n",
    "model.add(Dropout(0.2))\n",
    "model.add(Dense(units=128))\n",
    "model.add(LSTM(128, return_sequences=True, activation = 'relu'))\n",
    "model.add(Dense(units=16))\n",
    "model.add(Activation('tanh'))\n",
    "\n",
    "\n",
    "\n",
    "model.compile(loss='mean_absolute_error', optimizer='adam')\n",
    "print(model.summary())"
   ]
  },
  {
   "cell_type": "code",
   "execution_count": 36,
   "metadata": {},
   "outputs": [
    {
     "name": "stderr",
     "output_type": "stream",
     "text": [
      "D:\\Anaconda\\lib\\site-packages\\ipykernel_launcher.py:1: UserWarning: The `nb_epoch` argument in `fit` has been renamed `epochs`.\n",
      "  \"\"\"Entry point for launching an IPython kernel.\n"
     ]
    },
    {
     "name": "stdout",
     "output_type": "stream",
     "text": [
      "Train on 1000 samples, validate on 250 samples\n",
      "Epoch 1/100\n",
      " - 3s - loss: 0.5589 - val_loss: 0.5568\n",
      "Epoch 2/100\n",
      " - 0s - loss: 0.5455 - val_loss: 0.5378\n",
      "Epoch 3/100\n",
      " - 0s - loss: 0.5195 - val_loss: 0.4970\n",
      "Epoch 4/100\n",
      " - 0s - loss: 0.4609 - val_loss: 0.4048\n",
      "Epoch 5/100\n",
      " - 0s - loss: 0.3442 - val_loss: 0.2669\n",
      "Epoch 6/100\n",
      " - 0s - loss: 0.2740 - val_loss: 0.2917\n",
      "Epoch 7/100\n",
      " - 0s - loss: 0.2783 - val_loss: 0.2511\n",
      "Epoch 8/100\n",
      " - 0s - loss: 0.2525 - val_loss: 0.2596\n",
      "Epoch 9/100\n",
      " - 0s - loss: 0.2577 - val_loss: 0.2519\n",
      "Epoch 10/100\n",
      " - 0s - loss: 0.2499 - val_loss: 0.2485\n",
      "Epoch 11/100\n",
      " - 0s - loss: 0.2506 - val_loss: 0.2489\n",
      "Epoch 12/100\n",
      " - 0s - loss: 0.2494 - val_loss: 0.2481\n",
      "Epoch 13/100\n",
      " - 0s - loss: 0.2483 - val_loss: 0.2485\n",
      "Epoch 14/100\n",
      " - 0s - loss: 0.2485 - val_loss: 0.2483\n",
      "Epoch 15/100\n",
      " - 0s - loss: 0.2482 - val_loss: 0.2482\n",
      "Epoch 16/100\n",
      " - 0s - loss: 0.2480 - val_loss: 0.2482\n",
      "Epoch 17/100\n",
      " - 0s - loss: 0.2484 - val_loss: 0.2480\n",
      "Epoch 18/100\n",
      " - 0s - loss: 0.2482 - val_loss: 0.2480\n",
      "Epoch 19/100\n",
      " - 0s - loss: 0.2484 - val_loss: 0.2480\n",
      "Epoch 20/100\n",
      " - 0s - loss: 0.2483 - val_loss: 0.2479\n",
      "Epoch 21/100\n",
      " - 0s - loss: 0.2481 - val_loss: 0.2478\n",
      "Epoch 22/100\n",
      " - 0s - loss: 0.2482 - val_loss: 0.2478\n",
      "Epoch 23/100\n",
      " - 0s - loss: 0.2480 - val_loss: 0.2479\n",
      "Epoch 24/100\n",
      " - 0s - loss: 0.2480 - val_loss: 0.2479\n",
      "Epoch 25/100\n",
      " - 0s - loss: 0.2479 - val_loss: 0.2478\n",
      "Epoch 26/100\n",
      " - 0s - loss: 0.2480 - val_loss: 0.2479\n",
      "Epoch 27/100\n",
      " - 0s - loss: 0.2476 - val_loss: 0.2479\n",
      "Epoch 28/100\n",
      " - 0s - loss: 0.2481 - val_loss: 0.2479\n",
      "Epoch 29/100\n",
      " - 0s - loss: 0.2482 - val_loss: 0.2479\n",
      "Epoch 30/100\n",
      " - 0s - loss: 0.2480 - val_loss: 0.2479\n",
      "Epoch 31/100\n",
      " - 0s - loss: 0.2479 - val_loss: 0.2479\n",
      "Epoch 32/100\n",
      " - 0s - loss: 0.2478 - val_loss: 0.2478\n",
      "Epoch 33/100\n",
      " - 0s - loss: 0.2480 - val_loss: 0.2479\n",
      "Epoch 34/100\n",
      " - 0s - loss: 0.2480 - val_loss: 0.2479\n",
      "Epoch 35/100\n",
      " - 0s - loss: 0.2481 - val_loss: 0.2479\n",
      "Epoch 36/100\n",
      " - 0s - loss: 0.2477 - val_loss: 0.2478\n",
      "Epoch 37/100\n",
      " - 0s - loss: 0.2476 - val_loss: 0.2478\n",
      "Epoch 38/100\n",
      " - 0s - loss: 0.2479 - val_loss: 0.2479\n",
      "Epoch 39/100\n",
      " - 0s - loss: 0.2478 - val_loss: 0.2479\n",
      "Epoch 40/100\n",
      " - 0s - loss: 0.2480 - val_loss: 0.2478\n",
      "Epoch 41/100\n",
      " - 0s - loss: 0.2480 - val_loss: 0.2479\n",
      "Epoch 42/100\n",
      " - 0s - loss: 0.2477 - val_loss: 0.2479\n",
      "Epoch 43/100\n",
      " - 0s - loss: 0.2478 - val_loss: 0.2479\n",
      "Epoch 44/100\n",
      " - 0s - loss: 0.2476 - val_loss: 0.2479\n",
      "Epoch 45/100\n",
      " - 0s - loss: 0.2481 - val_loss: 0.2478\n",
      "Epoch 46/100\n",
      " - 0s - loss: 0.2482 - val_loss: 0.2478\n",
      "Epoch 47/100\n",
      " - 0s - loss: 0.2481 - val_loss: 0.2478\n",
      "Epoch 48/100\n",
      " - 0s - loss: 0.2478 - val_loss: 0.2478\n",
      "Epoch 49/100\n",
      " - 0s - loss: 0.2482 - val_loss: 0.2478\n",
      "Epoch 50/100\n",
      " - 0s - loss: 0.2480 - val_loss: 0.2479\n",
      "Epoch 51/100\n",
      " - 0s - loss: 0.2478 - val_loss: 0.2478\n",
      "Epoch 52/100\n",
      " - 0s - loss: 0.2478 - val_loss: 0.2478\n",
      "Epoch 53/100\n",
      " - 0s - loss: 0.2482 - val_loss: 0.2479\n",
      "Epoch 54/100\n",
      " - 0s - loss: 0.2482 - val_loss: 0.2478\n",
      "Epoch 55/100\n",
      " - 0s - loss: 0.2478 - val_loss: 0.2478\n",
      "Epoch 56/100\n",
      " - 0s - loss: 0.2477 - val_loss: 0.2478\n",
      "Epoch 57/100\n",
      " - 0s - loss: 0.2477 - val_loss: 0.2478\n",
      "Epoch 58/100\n",
      " - 0s - loss: 0.2477 - val_loss: 0.2478\n",
      "Epoch 59/100\n",
      " - 0s - loss: 0.2478 - val_loss: 0.2479\n",
      "Epoch 60/100\n",
      " - 0s - loss: 0.2478 - val_loss: 0.2479\n",
      "Epoch 61/100\n",
      " - 0s - loss: 0.2476 - val_loss: 0.2477\n",
      "Epoch 62/100\n",
      " - 0s - loss: 0.2479 - val_loss: 0.2479\n",
      "Epoch 63/100\n",
      " - 0s - loss: 0.2479 - val_loss: 0.2479\n",
      "Epoch 64/100\n",
      " - 0s - loss: 0.2476 - val_loss: 0.2479\n",
      "Epoch 65/100\n",
      " - 0s - loss: 0.2478 - val_loss: 0.2478\n",
      "Epoch 66/100\n",
      " - 0s - loss: 0.2476 - val_loss: 0.2478\n",
      "Epoch 67/100\n",
      " - 0s - loss: 0.2477 - val_loss: 0.2477\n",
      "Epoch 68/100\n",
      " - 0s - loss: 0.2477 - val_loss: 0.2478\n",
      "Epoch 69/100\n",
      " - 0s - loss: 0.2478 - val_loss: 0.2478\n",
      "Epoch 70/100\n",
      " - 0s - loss: 0.2479 - val_loss: 0.2478\n",
      "Epoch 71/100\n",
      " - 0s - loss: 0.2478 - val_loss: 0.2479\n",
      "Epoch 72/100\n",
      " - 0s - loss: 0.2480 - val_loss: 0.2479\n",
      "Epoch 73/100\n",
      " - 0s - loss: 0.2476 - val_loss: 0.2478\n",
      "Epoch 74/100\n",
      " - 0s - loss: 0.2477 - val_loss: 0.2477\n",
      "Epoch 75/100\n",
      " - 0s - loss: 0.2476 - val_loss: 0.2477\n",
      "Epoch 76/100\n",
      " - 0s - loss: 0.2476 - val_loss: 0.2477\n",
      "Epoch 77/100\n",
      " - 0s - loss: 0.2477 - val_loss: 0.2478\n",
      "Epoch 78/100\n",
      " - 0s - loss: 0.2476 - val_loss: 0.2478\n",
      "Epoch 79/100\n",
      " - 0s - loss: 0.2475 - val_loss: 0.2477\n",
      "Epoch 80/100\n",
      " - 0s - loss: 0.2479 - val_loss: 0.2478\n",
      "Epoch 81/100\n",
      " - 0s - loss: 0.2476 - val_loss: 0.2478\n",
      "Epoch 82/100\n",
      " - 0s - loss: 0.2477 - val_loss: 0.2478\n",
      "Epoch 83/100\n",
      " - 0s - loss: 0.2477 - val_loss: 0.2478\n",
      "Epoch 84/100\n",
      " - 0s - loss: 0.2476 - val_loss: 0.2478\n",
      "Epoch 85/100\n",
      " - 0s - loss: 0.2478 - val_loss: 0.2478\n",
      "Epoch 86/100\n",
      " - 0s - loss: 0.2475 - val_loss: 0.2477\n",
      "Epoch 87/100\n",
      " - 0s - loss: 0.2477 - val_loss: 0.2478\n",
      "Epoch 88/100\n",
      " - 0s - loss: 0.2476 - val_loss: 0.2478\n",
      "Epoch 89/100\n",
      " - 0s - loss: 0.2478 - val_loss: 0.2478\n",
      "Epoch 90/100\n",
      " - 0s - loss: 0.2475 - val_loss: 0.2479\n",
      "Epoch 91/100\n",
      " - 0s - loss: 0.2476 - val_loss: 0.2477\n",
      "Epoch 92/100\n",
      " - 0s - loss: 0.2478 - val_loss: 0.2476\n",
      "Epoch 93/100\n",
      " - 0s - loss: 0.2476 - val_loss: 0.2477\n",
      "Epoch 94/100\n",
      " - 0s - loss: 0.2477 - val_loss: 0.2478\n",
      "Epoch 95/100\n",
      " - 0s - loss: 0.2476 - val_loss: 0.2477\n",
      "Epoch 96/100\n",
      " - 0s - loss: 0.2475 - val_loss: 0.2478\n",
      "Epoch 97/100\n",
      " - 0s - loss: 0.2474 - val_loss: 0.2478\n",
      "Epoch 98/100\n",
      " - 0s - loss: 0.2476 - val_loss: 0.2478\n",
      "Epoch 99/100\n",
      " - 0s - loss: 0.2478 - val_loss: 0.2479\n",
      "Epoch 100/100\n",
      " - 0s - loss: 0.2476 - val_loss: 0.2477\n"
     ]
    },
    {
     "data": {
      "text/plain": [
       "<keras.callbacks.History at 0x216968a4400>"
      ]
     },
     "execution_count": 36,
     "metadata": {},
     "output_type": "execute_result"
    }
   ],
   "source": [
    "model.fit(data, target, nb_epoch=100, batch_size=200, verbose=2,validation_data=(x_test, y_test))"
   ]
  },
  {
   "cell_type": "code",
   "execution_count": 40,
   "metadata": {},
   "outputs": [],
   "source": [
    "guess = np.array([1, 2, 3, 4])\n",
    "guess = guess.reshape(1,1,4)"
   ]
  },
  {
   "cell_type": "code",
   "execution_count": 42,
   "metadata": {},
   "outputs": [
    {
     "data": {
      "text/plain": [
       "array([[[4.578665 , 4.606306 , 5.302658 , 4.667034 , 4.672136 ,\n",
       "         4.57725  , 4.51742  , 4.573648 , 4.38261  , 5.2194486,\n",
       "         4.61569  , 4.71391  , 5.2831087, 5.2301826, 5.2145734,\n",
       "         5.3287463]]], dtype=float32)"
      ]
     },
     "execution_count": 42,
     "metadata": {},
     "output_type": "execute_result"
    }
   ],
   "source": [
    "model.predict_on_batch(guess)*8"
   ]
  }
 ],
 "metadata": {
  "kernelspec": {
   "display_name": "Python 3",
   "language": "python",
   "name": "python3"
  },
  "language_info": {
   "codemirror_mode": {
    "name": "ipython",
    "version": 3
   },
   "file_extension": ".py",
   "mimetype": "text/x-python",
   "name": "python",
   "nbconvert_exporter": "python",
   "pygments_lexer": "ipython3",
   "version": "3.7.3"
  }
 },
 "nbformat": 4,
 "nbformat_minor": 2
}
