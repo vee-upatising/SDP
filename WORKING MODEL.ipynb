{
 "cells": [
  {
   "cell_type": "code",
   "execution_count": 10,
   "metadata": {},
   "outputs": [],
   "source": [
    "import numpy as np\n",
    "import random\n",
    "\n",
    "from keras.models import Sequential\n",
    "from keras.layers import Dense, Activation, Dropout\n",
    "from keras.layers import LSTM\n",
    "from sklearn.model_selection import train_test_split"
   ]
  },
  {
   "cell_type": "code",
   "execution_count": 11,
   "metadata": {},
   "outputs": [],
   "source": [
    "#random int between 1 and 8. 4 ints in each array. 1000 arrays.\n",
    "data = [[random.randint(1,8) for j in range(4)] for i in range(1000)]\n",
    "data = np.array(data, dtype=float)\n",
    "#random int between 1 and 8. 16 ints in each array. 1000 arrays.\n",
    "target = [[random.randint(1,8) for j in range(16)] for i in range(1000)]\n",
    "target = np.array(target, dtype=float)"
   ]
  },
  {
   "cell_type": "code",
   "execution_count": 12,
   "metadata": {},
   "outputs": [],
   "source": [
    "#reshaping data into correct sized tensors. Then normalizing values. A,B,C,D,E,F,G,<EOS> so 8 characters in vocabulary\n",
    "data = data.reshape((1000, 1, 4))/8 \n",
    "target = target.reshape((1000, 1, 16))/8 "
   ]
  },
  {
   "cell_type": "code",
   "execution_count": 13,
   "metadata": {},
   "outputs": [
    {
     "data": {
      "text/plain": [
       "array([[[1., 5., 4., 4.]],\n",
       "\n",
       "       [[8., 3., 6., 5.]],\n",
       "\n",
       "       [[5., 6., 6., 6.]],\n",
       "\n",
       "       ...,\n",
       "\n",
       "       [[3., 7., 6., 6.]],\n",
       "\n",
       "       [[7., 4., 6., 4.]],\n",
       "\n",
       "       [[6., 8., 8., 8.]]])"
      ]
     },
     "execution_count": 13,
     "metadata": {},
     "output_type": "execute_result"
    }
   ],
   "source": [
    "data*8"
   ]
  },
  {
   "cell_type": "code",
   "execution_count": 14,
   "metadata": {},
   "outputs": [
    {
     "data": {
      "text/plain": [
       "array([[[7., 8., 3., ..., 1., 4., 7.]],\n",
       "\n",
       "       [[8., 7., 4., ..., 5., 7., 3.]],\n",
       "\n",
       "       [[4., 6., 7., ..., 3., 1., 1.]],\n",
       "\n",
       "       ...,\n",
       "\n",
       "       [[6., 2., 5., ..., 3., 8., 1.]],\n",
       "\n",
       "       [[3., 6., 7., ..., 1., 5., 6.]],\n",
       "\n",
       "       [[5., 1., 7., ..., 7., 5., 5.]]])"
      ]
     },
     "execution_count": 14,
     "metadata": {},
     "output_type": "execute_result"
    }
   ],
   "source": [
    "target*8"
   ]
  },
  {
   "cell_type": "code",
   "execution_count": 15,
   "metadata": {},
   "outputs": [],
   "source": [
    "#splitting data into train and test sets. 3/4 train, 1/4 test.\n",
    "x_train,x_test,y_train,y_test = train_test_split(data, target, test_size=0.25, shuffle=False, random_state=42)"
   ]
  },
  {
   "cell_type": "code",
   "execution_count": 16,
   "metadata": {},
   "outputs": [
    {
     "name": "stdout",
     "output_type": "stream",
     "text": [
      "Model: \"sequential_2\"\n",
      "_________________________________________________________________\n",
      "Layer (type)                 Output Shape              Param #   \n",
      "=================================================================\n",
      "lstm_5 (LSTM)                (None, 1, 128)            68096     \n",
      "_________________________________________________________________\n",
      "lstm_6 (LSTM)                (None, 1, 128)            131584    \n",
      "_________________________________________________________________\n",
      "dropout_3 (Dropout)          (None, 1, 128)            0         \n",
      "_________________________________________________________________\n",
      "dense_4 (Dense)              (None, 1, 128)            16512     \n",
      "_________________________________________________________________\n",
      "lstm_7 (LSTM)                (None, 1, 128)            131584    \n",
      "_________________________________________________________________\n",
      "dropout_4 (Dropout)          (None, 1, 128)            0         \n",
      "_________________________________________________________________\n",
      "dense_5 (Dense)              (None, 1, 128)            16512     \n",
      "_________________________________________________________________\n",
      "lstm_8 (LSTM)                (None, 1, 128)            131584    \n",
      "_________________________________________________________________\n",
      "dense_6 (Dense)              (None, 1, 16)             2064      \n",
      "_________________________________________________________________\n",
      "activation_2 (Activation)    (None, 1, 16)             0         \n",
      "=================================================================\n",
      "Total params: 497,936\n",
      "Trainable params: 497,936\n",
      "Non-trainable params: 0\n",
      "_________________________________________________________________\n",
      "None\n"
     ]
    }
   ],
   "source": [
    "#getting the right tensor shape for this was a BITCH\n",
    "model = Sequential()  \n",
    "model.add(LSTM(128, input_shape=(1, 4),return_sequences=True, activation = 'relu'))\n",
    "model.add(LSTM(128, return_sequences=True, activation = 'relu'))\n",
    "model.add(Dropout(0.2))\n",
    "model.add(Dense(units=128))\n",
    "model.add(LSTM(128, return_sequences=True, activation = 'relu'))\n",
    "model.add(Dropout(0.2))\n",
    "model.add(Dense(units=128))\n",
    "model.add(LSTM(128, return_sequences=True, activation = 'relu'))\n",
    "model.add(Dense(units=16))\n",
    "model.add(Activation('tanh'))\n",
    "\n",
    "\n",
    "\n",
    "model.compile(loss='mean_absolute_error', optimizer='adam')\n",
    "print(model.summary())"
   ]
  },
  {
   "cell_type": "code",
   "execution_count": 17,
   "metadata": {},
   "outputs": [
    {
     "name": "stderr",
     "output_type": "stream",
     "text": [
      "D:\\Anaconda\\lib\\site-packages\\ipykernel_launcher.py:1: UserWarning: The `nb_epoch` argument in `fit` has been renamed `epochs`.\n",
      "  \"\"\"Entry point for launching an IPython kernel.\n"
     ]
    },
    {
     "name": "stdout",
     "output_type": "stream",
     "text": [
      "Train on 1000 samples, validate on 250 samples\n",
      "Epoch 1/100\n",
      " - 2s - loss: 0.5604 - val_loss: 0.5563\n",
      "Epoch 2/100\n",
      " - 0s - loss: 0.5481 - val_loss: 0.5395\n",
      "Epoch 3/100\n",
      " - 0s - loss: 0.5259 - val_loss: 0.5060\n",
      "Epoch 4/100\n",
      " - 0s - loss: 0.4790 - val_loss: 0.4335\n",
      "Epoch 5/100\n",
      " - 0s - loss: 0.3848 - val_loss: 0.3054\n",
      "Epoch 6/100\n",
      " - 0s - loss: 0.2777 - val_loss: 0.2828\n",
      "Epoch 7/100\n",
      " - 0s - loss: 0.2891 - val_loss: 0.2706\n",
      "Epoch 8/100\n",
      " - 0s - loss: 0.2592 - val_loss: 0.2531\n",
      "Epoch 9/100\n",
      " - 0s - loss: 0.2585 - val_loss: 0.2590\n",
      "Epoch 10/100\n",
      " - 0s - loss: 0.2554 - val_loss: 0.2495\n",
      "Epoch 11/100\n",
      " - 0s - loss: 0.2510 - val_loss: 0.2506\n",
      "Epoch 12/100\n",
      " - 0s - loss: 0.2522 - val_loss: 0.2496\n",
      "Epoch 13/100\n",
      " - 0s - loss: 0.2507 - val_loss: 0.2498\n",
      "Epoch 14/100\n",
      " - 0s - loss: 0.2506 - val_loss: 0.2498\n",
      "Epoch 15/100\n",
      " - 0s - loss: 0.2506 - val_loss: 0.2498\n",
      "Epoch 16/100\n",
      " - 0s - loss: 0.2502 - val_loss: 0.2494\n",
      "Epoch 17/100\n",
      " - 0s - loss: 0.2501 - val_loss: 0.2491\n",
      "Epoch 18/100\n",
      " - 0s - loss: 0.2501 - val_loss: 0.2490\n",
      "Epoch 19/100\n",
      " - 0s - loss: 0.2499 - val_loss: 0.2489\n",
      "Epoch 20/100\n",
      " - 0s - loss: 0.2501 - val_loss: 0.2490\n",
      "Epoch 21/100\n",
      " - 0s - loss: 0.2499 - val_loss: 0.2489\n",
      "Epoch 22/100\n",
      " - 0s - loss: 0.2500 - val_loss: 0.2487\n",
      "Epoch 23/100\n",
      " - 0s - loss: 0.2501 - val_loss: 0.2486\n",
      "Epoch 24/100\n",
      " - 0s - loss: 0.2499 - val_loss: 0.2485\n",
      "Epoch 25/100\n",
      " - 0s - loss: 0.2501 - val_loss: 0.2485\n",
      "Epoch 26/100\n",
      " - 0s - loss: 0.2498 - val_loss: 0.2485\n",
      "Epoch 27/100\n",
      " - 0s - loss: 0.2501 - val_loss: 0.2486\n",
      "Epoch 28/100\n",
      " - 0s - loss: 0.2501 - val_loss: 0.2487\n",
      "Epoch 29/100\n",
      " - 0s - loss: 0.2502 - val_loss: 0.2487\n",
      "Epoch 30/100\n",
      " - 0s - loss: 0.2498 - val_loss: 0.2487\n",
      "Epoch 31/100\n",
      " - 0s - loss: 0.2498 - val_loss: 0.2486\n",
      "Epoch 32/100\n",
      " - 0s - loss: 0.2500 - val_loss: 0.2485\n",
      "Epoch 33/100\n",
      " - 0s - loss: 0.2500 - val_loss: 0.2485\n",
      "Epoch 34/100\n",
      " - 0s - loss: 0.2498 - val_loss: 0.2484\n",
      "Epoch 35/100\n",
      " - 0s - loss: 0.2499 - val_loss: 0.2484\n",
      "Epoch 36/100\n",
      " - 0s - loss: 0.2498 - val_loss: 0.2484\n",
      "Epoch 37/100\n",
      " - 0s - loss: 0.2498 - val_loss: 0.2485\n",
      "Epoch 38/100\n",
      " - 0s - loss: 0.2500 - val_loss: 0.2486\n",
      "Epoch 39/100\n",
      " - 0s - loss: 0.2498 - val_loss: 0.2485\n",
      "Epoch 40/100\n",
      " - 0s - loss: 0.2503 - val_loss: 0.2485\n",
      "Epoch 41/100\n",
      " - 0s - loss: 0.2498 - val_loss: 0.2485\n",
      "Epoch 42/100\n",
      " - 0s - loss: 0.2501 - val_loss: 0.2485\n",
      "Epoch 43/100\n",
      " - 0s - loss: 0.2500 - val_loss: 0.2486\n",
      "Epoch 44/100\n",
      " - 0s - loss: 0.2499 - val_loss: 0.2486\n",
      "Epoch 45/100\n",
      " - 0s - loss: 0.2498 - val_loss: 0.2485\n",
      "Epoch 46/100\n",
      " - 0s - loss: 0.2501 - val_loss: 0.2484\n",
      "Epoch 47/100\n",
      " - 0s - loss: 0.2500 - val_loss: 0.2485\n",
      "Epoch 48/100\n",
      " - 0s - loss: 0.2498 - val_loss: 0.2484\n",
      "Epoch 49/100\n",
      " - 0s - loss: 0.2499 - val_loss: 0.2484\n",
      "Epoch 50/100\n",
      " - 0s - loss: 0.2498 - val_loss: 0.2484\n",
      "Epoch 51/100\n",
      " - 0s - loss: 0.2499 - val_loss: 0.2485\n",
      "Epoch 52/100\n",
      " - 0s - loss: 0.2499 - val_loss: 0.2485\n",
      "Epoch 53/100\n",
      " - 0s - loss: 0.2498 - val_loss: 0.2485\n",
      "Epoch 54/100\n",
      " - 0s - loss: 0.2496 - val_loss: 0.2485\n",
      "Epoch 55/100\n",
      " - 0s - loss: 0.2500 - val_loss: 0.2484\n",
      "Epoch 56/100\n",
      " - 0s - loss: 0.2498 - val_loss: 0.2484\n",
      "Epoch 57/100\n",
      " - 0s - loss: 0.2496 - val_loss: 0.2484\n",
      "Epoch 58/100\n",
      " - 0s - loss: 0.2496 - val_loss: 0.2485\n",
      "Epoch 59/100\n",
      " - 0s - loss: 0.2496 - val_loss: 0.2484\n",
      "Epoch 60/100\n",
      " - 0s - loss: 0.2496 - val_loss: 0.2484\n",
      "Epoch 61/100\n",
      " - 0s - loss: 0.2495 - val_loss: 0.2484\n",
      "Epoch 62/100\n",
      " - 0s - loss: 0.2498 - val_loss: 0.2484\n",
      "Epoch 63/100\n",
      " - 0s - loss: 0.2497 - val_loss: 0.2484\n",
      "Epoch 64/100\n",
      " - 0s - loss: 0.2497 - val_loss: 0.2483\n",
      "Epoch 65/100\n",
      " - 0s - loss: 0.2495 - val_loss: 0.2483\n",
      "Epoch 66/100\n",
      " - 0s - loss: 0.2498 - val_loss: 0.2484\n",
      "Epoch 67/100\n",
      " - 0s - loss: 0.2497 - val_loss: 0.2484\n",
      "Epoch 68/100\n",
      " - 0s - loss: 0.2495 - val_loss: 0.2483\n",
      "Epoch 69/100\n",
      " - 0s - loss: 0.2496 - val_loss: 0.2483\n",
      "Epoch 70/100\n",
      " - 0s - loss: 0.2497 - val_loss: 0.2482\n",
      "Epoch 71/100\n",
      " - 0s - loss: 0.2497 - val_loss: 0.2483\n",
      "Epoch 72/100\n",
      " - 0s - loss: 0.2496 - val_loss: 0.2483\n",
      "Epoch 73/100\n",
      " - 0s - loss: 0.2496 - val_loss: 0.2484\n",
      "Epoch 74/100\n",
      " - 0s - loss: 0.2494 - val_loss: 0.2484\n",
      "Epoch 75/100\n",
      " - 0s - loss: 0.2497 - val_loss: 0.2482\n",
      "Epoch 76/100\n",
      " - 0s - loss: 0.2498 - val_loss: 0.2482\n",
      "Epoch 77/100\n",
      " - 0s - loss: 0.2498 - val_loss: 0.2482\n",
      "Epoch 78/100\n",
      " - 0s - loss: 0.2496 - val_loss: 0.2484\n",
      "Epoch 79/100\n",
      " - 0s - loss: 0.2494 - val_loss: 0.2484\n",
      "Epoch 80/100\n",
      " - 0s - loss: 0.2498 - val_loss: 0.2484\n",
      "Epoch 81/100\n",
      " - 0s - loss: 0.2495 - val_loss: 0.2484\n",
      "Epoch 82/100\n",
      " - 0s - loss: 0.2497 - val_loss: 0.2483\n",
      "Epoch 83/100\n",
      " - 0s - loss: 0.2498 - val_loss: 0.2482\n",
      "Epoch 84/100\n",
      " - 0s - loss: 0.2496 - val_loss: 0.2482\n",
      "Epoch 85/100\n",
      " - 0s - loss: 0.2496 - val_loss: 0.2481\n",
      "Epoch 86/100\n",
      " - 0s - loss: 0.2498 - val_loss: 0.2481\n",
      "Epoch 87/100\n",
      " - 0s - loss: 0.2499 - val_loss: 0.2484\n",
      "Epoch 88/100\n",
      " - 0s - loss: 0.2496 - val_loss: 0.2485\n",
      "Epoch 89/100\n",
      " - 0s - loss: 0.2497 - val_loss: 0.2484\n",
      "Epoch 90/100\n",
      " - 0s - loss: 0.2497 - val_loss: 0.2483\n",
      "Epoch 91/100\n",
      " - 0s - loss: 0.2496 - val_loss: 0.2482\n",
      "Epoch 92/100\n",
      " - 0s - loss: 0.2497 - val_loss: 0.2482\n",
      "Epoch 93/100\n",
      " - 0s - loss: 0.2495 - val_loss: 0.2483\n",
      "Epoch 94/100\n",
      " - 0s - loss: 0.2496 - val_loss: 0.2483\n",
      "Epoch 95/100\n",
      " - 0s - loss: 0.2496 - val_loss: 0.2482\n",
      "Epoch 96/100\n",
      " - 0s - loss: 0.2497 - val_loss: 0.2482\n",
      "Epoch 97/100\n",
      " - 0s - loss: 0.2495 - val_loss: 0.2482\n",
      "Epoch 98/100\n",
      " - 0s - loss: 0.2497 - val_loss: 0.2482\n",
      "Epoch 99/100\n",
      " - 0s - loss: 0.2496 - val_loss: 0.2483\n",
      "Epoch 100/100\n",
      " - 0s - loss: 0.2495 - val_loss: 0.2482\n"
     ]
    },
    {
     "data": {
      "text/plain": [
       "<keras.callbacks.History at 0x2168bc01160>"
      ]
     },
     "execution_count": 17,
     "metadata": {},
     "output_type": "execute_result"
    }
   ],
   "source": [
    "model.fit(data, target, nb_epoch=100, batch_size=200, verbose=2,validation_data=(x_test, y_test))"
   ]
  },
  {
   "cell_type": "code",
   "execution_count": 20,
   "metadata": {},
   "outputs": [
    {
     "data": {
      "text/plain": [
       "array([[[4.7695127, 4.6966414, 4.840691 , ..., 4.780595 , 4.166058 ,\n",
       "         4.386244 ]],\n",
       "\n",
       "       [[4.888697 , 4.819085 , 4.9599524, ..., 4.8992205, 4.278331 ,\n",
       "         4.5040503]],\n",
       "\n",
       "       [[4.7964416, 4.7241616, 4.867595 , ..., 4.807404 , 4.191208 ,\n",
       "         4.4127154]],\n",
       "\n",
       "       ...,\n",
       "\n",
       "       [[4.772891 , 4.7      , 4.8440366, ..., 4.783985 , 4.1691046,\n",
       "         4.3895125]],\n",
       "\n",
       "       [[4.8779297, 4.808011 , 4.9491687, ..., 4.8885   , 4.2681327,\n",
       "         4.4933643]],\n",
       "\n",
       "       [[4.8122654, 4.740395 , 4.8834205, ..., 4.8231015, 4.205991 ,\n",
       "         4.4282575]]], dtype=float32)"
      ]
     },
     "execution_count": 20,
     "metadata": {},
     "output_type": "execute_result"
    }
   ],
   "source": [
    "model.predict(data)*8"
   ]
  },
  {
   "cell_type": "code",
   "execution_count": null,
   "metadata": {},
   "outputs": [],
   "source": []
  }
 ],
 "metadata": {
  "kernelspec": {
   "display_name": "Python 3",
   "language": "python",
   "name": "python3"
  },
  "language_info": {
   "codemirror_mode": {
    "name": "ipython",
    "version": 3
   },
   "file_extension": ".py",
   "mimetype": "text/x-python",
   "name": "python",
   "nbconvert_exporter": "python",
   "pygments_lexer": "ipython3",
   "version": "3.7.3"
  }
 },
 "nbformat": 4,
 "nbformat_minor": 2
}
