{
 "cells": [
  {
   "cell_type": "code",
   "execution_count": 1,
   "metadata": {},
   "outputs": [
    {
     "name": "stderr",
     "output_type": "stream",
     "text": [
      "Using TensorFlow backend.\n"
     ]
    }
   ],
   "source": [
    "import numpy as np\n",
    "import pandas as pd\n",
    "import random\n",
    "import tensorflow as tf\n",
    "\n",
    "from tensorflow import keras\n",
    "from keras import backend as K\n",
    "from keras.models import Sequential\n",
    "from keras.layers import Dense, Activation, Dropout, Bidirectional\n",
    "from keras.layers import LSTM, Reshape, RepeatVector, TimeDistributed\n",
    "from sklearn.model_selection import train_test_split\n",
    "\n",
    "import numpy as np\n",
    "import os\n",
    "from mido import MidiFile, MidiTrack, Message\n",
    "import mido\n",
    "\n",
    "from random import randrange\n",
    "import NoteBins\n",
    "\n",
    "import matplotlib.pyplot as plt"
   ]
  },
  {
   "cell_type": "code",
   "execution_count": 3,
   "metadata": {
    "scrolled": true
   },
   "outputs": [],
   "source": [
    "paths = []\n",
    "songs = []\n",
    "for r, d, f in os.walk(r\"C:\\Users\\Vee\\Desktop\\python\\classical\"):\n",
    "    for file in f:\n",
    "        if '.mid' in file:\n",
    "            paths.append(os.path.join(r, file))\n",
    "\n",
    "for path in paths:\n",
    "    mid = MidiFile(path, type = 1)\n",
    "    songs.append(mid)"
   ]
  },
  {
   "cell_type": "code",
   "execution_count": 4,
   "metadata": {},
   "outputs": [],
   "source": [
    "notes = []\n",
    "dataset = []\n",
    "fuckboy = []"
   ]
  },
  {
   "cell_type": "code",
   "execution_count": 5,
   "metadata": {},
   "outputs": [],
   "source": [
    "#for each in midi object in list of songs\n",
    "for i in range(len(songs)):\n",
    "    #for each note in midi object\n",
    "    for msg in songs[i]:\n",
    "        #filtering out meta messages\n",
    "        if not msg.is_meta:\n",
    "            #filtering out control changes\n",
    "            if (msg.type == 'note_on'):\n",
    "                #normalizing note and velocity values\n",
    "                notes.append([NoteBins.note_reg(msg.note)/11])\n",
    "    for i in range(1, len(notes)):\n",
    "        fuckboy.append(notes[i])\n",
    "        if (i % 16 == 0):\n",
    "            dataset.append(fuckboy)\n",
    "            fuckboy = []\n",
    "    fuckboy = []\n",
    "    notes = []"
   ]
  },
  {
   "cell_type": "code",
   "execution_count": 6,
   "metadata": {},
   "outputs": [],
   "source": [
    "dataset = np.array(dataset)\n",
    "dataset.shape\n",
    "np.save('answers', dataset) "
   ]
  },
  {
   "cell_type": "code",
   "execution_count": 7,
   "metadata": {},
   "outputs": [],
   "source": [
    "bruv = []\n",
    "#for each in midi object in list of songs\n",
    "for i in range(len(songs)):\n",
    "    #for each note in midi object\n",
    "    for msg in songs[i]:\n",
    "        #filtering out meta messages\n",
    "        if not msg.is_meta:\n",
    "            #filtering out control changes\n",
    "            if (msg.type == 'note_on'):\n",
    "                #normalizing note and velocity values\n",
    "                notes.append([NoteBins.note_reg(msg.note)/11])\n",
    "    for i in range(1, len(notes)):\n",
    "        fuckboy.append(notes[i])\n",
    "        if (i % 16 == 0):\n",
    "            bruv.append(fuckboy[0:4])\n",
    "            fuckboy = []\n",
    "    fuckboy = []\n",
    "    notes = []"
   ]
  },
  {
   "cell_type": "code",
   "execution_count": 8,
   "metadata": {},
   "outputs": [],
   "source": [
    "bruv = np.array(bruv)\n",
    "bruv.shape\n",
    "np.save('q', bruv) "
   ]
  },
  {
   "cell_type": "code",
   "execution_count": 9,
   "metadata": {},
   "outputs": [],
   "source": [
    "#splitting data into train and test sets. 3/4 train, 1/4 test.\n",
    "x_train,x_test,y_train,y_test = train_test_split(bruv, dataset, test_size=0.4, shuffle=False, random_state=42)"
   ]
  },
  {
   "cell_type": "code",
   "execution_count": 3,
   "metadata": {
    "scrolled": true
   },
   "outputs": [
    {
     "name": "stdout",
     "output_type": "stream",
     "text": [
      "WARNING:tensorflow:From C:\\Users\\Vee\\Anaconda3\\lib\\site-packages\\keras\\backend\\tensorflow_backend.py:3313: add_dispatch_support.<locals>.wrapper (from tensorflow.python.ops.array_ops) is deprecated and will be removed in a future version.\n",
      "Instructions for updating:\n",
      "Use tf.where in 2.0, which has the same broadcast rule as np.where\n",
      "Model: \"sequential_1\"\n",
      "_________________________________________________________________\n",
      "Layer (type)                 Output Shape              Param #   \n",
      "=================================================================\n",
      "bidirectional_1 (Bidirection (None, 256)               133120    \n",
      "_________________________________________________________________\n",
      "repeat_vector_1 (RepeatVecto (None, 16, 256)           0         \n",
      "_________________________________________________________________\n",
      "bidirectional_2 (Bidirection (None, 16, 512)           1050624   \n",
      "_________________________________________________________________\n",
      "bidirectional_3 (Bidirection (None, 16, 512)           1574912   \n",
      "_________________________________________________________________\n",
      "bidirectional_4 (Bidirection (None, 16, 512)           1574912   \n",
      "_________________________________________________________________\n",
      "time_distributed_1 (TimeDist (None, 16, 512)           262656    \n",
      "_________________________________________________________________\n",
      "dropout_1 (Dropout)          (None, 16, 512)           0         \n",
      "_________________________________________________________________\n",
      "time_distributed_2 (TimeDist (None, 16, 512)           262656    \n",
      "_________________________________________________________________\n",
      "dropout_2 (Dropout)          (None, 16, 512)           0         \n",
      "_________________________________________________________________\n",
      "time_distributed_3 (TimeDist (None, 16, 512)           262656    \n",
      "_________________________________________________________________\n",
      "dropout_3 (Dropout)          (None, 16, 512)           0         \n",
      "_________________________________________________________________\n",
      "time_distributed_4 (TimeDist (None, 16, 1)             513       \n",
      "=================================================================\n",
      "Total params: 5,122,049\n",
      "Trainable params: 5,122,049\n",
      "Non-trainable params: 0\n",
      "_________________________________________________________________\n",
      "None\n"
     ]
    }
   ],
   "source": [
    "# define model\n",
    "model = Sequential()\n",
    "#shaping input to match data\n",
    "model.add(Bidirectional(LSTM(128), input_shape=(4, 1)))\n",
    "#specifying output to have 40 timesteps\n",
    "model.add(RepeatVector(16))\n",
    "#specifying 1 feature as the output\n",
    "model.add(Bidirectional(LSTM(256, activation = 'selu', return_sequences=True, dropout = 0.2)))\n",
    "model.add(Bidirectional(LSTM(256, activation = 'relu', return_sequences=True, dropout = 0.2)))\n",
    "model.add(Bidirectional(LSTM(256, activation = 'tanh', return_sequences=True, dropout = 0.2)))\n",
    "model.add(TimeDistributed(Dense(512, activation = 'selu')))\n",
    "model.add(Dropout(0.3))\n",
    "model.add(TimeDistributed(Dense(512, activation = 'selu')))\n",
    "model.add(Dropout(0.3))\n",
    "model.add(TimeDistributed(Dense(512, activation = 'selu')))\n",
    "model.add(Dropout(0.3))\n",
    "model.add(TimeDistributed(Dense(1, activation = 'linear')))\n",
    "model.compile(loss='mean_squared_error', optimizer='adam')\n",
    "print(model.summary())"
   ]
  },
  {
   "cell_type": "code",
   "execution_count": 14,
   "metadata": {
    "scrolled": true
   },
   "outputs": [
    {
     "name": "stdout",
     "output_type": "stream",
     "text": [
      "Train on 20056 samples, validate on 13371 samples\n",
      "Epoch 1/20\n",
      "20056/20056 [==============================] - 4s 211us/step - loss: 0.3378 - val_loss: 0.1336\n",
      "Epoch 2/20\n",
      "20056/20056 [==============================] - 4s 191us/step - loss: 0.1089 - val_loss: 0.0947\n",
      "Epoch 3/20\n",
      "20056/20056 [==============================] - 4s 191us/step - loss: 0.0997 - val_loss: 0.0930\n",
      "Epoch 4/20\n",
      "20056/20056 [==============================] - 4s 191us/step - loss: 0.0975 - val_loss: 0.0913\n",
      "Epoch 5/20\n",
      "20056/20056 [==============================] - 4s 191us/step - loss: 0.0951 - val_loss: 0.0902\n",
      "Epoch 6/20\n",
      "20056/20056 [==============================] - 4s 191us/step - loss: 0.0939 - val_loss: 0.0894\n",
      "Epoch 7/20\n",
      "20056/20056 [==============================] - 4s 192us/step - loss: 0.0925 - val_loss: 0.0894\n",
      "Epoch 8/20\n",
      "20056/20056 [==============================] - 4s 193us/step - loss: 0.0918 - val_loss: 0.0915\n",
      "Epoch 9/20\n",
      "20056/20056 [==============================] - 4s 193us/step - loss: 0.0915 - val_loss: 0.0883\n",
      "Epoch 10/20\n",
      "20056/20056 [==============================] - 4s 192us/step - loss: 0.0910 - val_loss: 0.0885\n",
      "Epoch 11/20\n",
      "20056/20056 [==============================] - 4s 192us/step - loss: 0.0904 - val_loss: 0.0889\n",
      "Epoch 12/20\n",
      "20056/20056 [==============================] - 4s 192us/step - loss: 0.0901 - val_loss: 0.0886\n",
      "Epoch 13/20\n",
      "20056/20056 [==============================] - 4s 192us/step - loss: 0.0898 - val_loss: 0.0878\n",
      "Epoch 14/20\n",
      "20056/20056 [==============================] - 4s 193us/step - loss: 0.0892 - val_loss: 0.0870\n",
      "Epoch 15/20\n",
      "20056/20056 [==============================] - 4s 193us/step - loss: 0.0889 - val_loss: 0.0865\n",
      "Epoch 16/20\n",
      "20056/20056 [==============================] - 4s 192us/step - loss: 0.0886 - val_loss: 0.0895\n",
      "Epoch 17/20\n",
      "20056/20056 [==============================] - 4s 192us/step - loss: 0.0888 - val_loss: 0.0930\n",
      "Epoch 18/20\n",
      "20056/20056 [==============================] - 4s 193us/step - loss: 0.0894 - val_loss: 0.0861\n",
      "Epoch 19/20\n",
      "20056/20056 [==============================] - 4s 196us/step - loss: 0.0885 - val_loss: 0.0853\n",
      "Epoch 20/20\n",
      "20056/20056 [==============================] - 4s 198us/step - loss: 0.0880 - val_loss: 0.0880\n"
     ]
    }
   ],
   "source": [
    "history = model.fit(x_train, y_train, epochs=20, batch_size=2500, verbose=1,validation_data=(x_test, y_test))"
   ]
  },
  {
   "cell_type": "code",
   "execution_count": 15,
   "metadata": {},
   "outputs": [
    {
     "data": {
      "image/png": "[encoded data removed]",
      "text/plain": [
       "<Figure size 432x288 with 1 Axes>"
      ]
     },
     "metadata": {
      "needs_background": "light"
     },
     "output_type": "display_data"
    }
   ],
   "source": [
    "# Plot training & validation loss values\n",
    "plt.plot(history.history['loss'])\n",
    "plt.plot(history.history['val_loss'])\n",
    "plt.title('Model Loss')\n",
    "plt.ylabel('Loss')\n",
    "plt.xlabel('Epoch')\n",
    "plt.legend(['Test', 'Validation'], loc='upper right')\n",
    "plt.show()"
   ]
  },
  {
   "cell_type": "code",
   "execution_count": null,
   "metadata": {},
   "outputs": [],
   "source": [
    "fuckie = [[[randrange(-1000,1000)], [randrange(-1000,1000)], [randrange(-1000,1000)], [randrange(-1000,1000)]]]\n",
    "fuckie = np.array(fuckie)\n",
    "fuckie.reshape(1,4,1)\n",
    "\n",
    "jamie = model.predict_on_batch(fuckie)\n",
    "#adjusting from normalization\n",
    "for x in range(12):\n",
    "    jamie[0][x][0] = abs(jamie[0][x][0] * 11)\n",
    "    while(jamie[0][x][0] > 127):\n",
    "        jamie[0][x][0] = jamie[0][x][0] / 10"
   ]
  },
  {
   "cell_type": "code",
   "execution_count": null,
   "metadata": {},
   "outputs": [],
   "source": [
    "timing = np.load('csp.npy',allow_pickle=True)\n",
    "count = 0\n",
    "mid = MidiFile()\n",
    "track = MidiTrack()\n",
    "mid.tracks.append(track)\n",
    "track2 = MidiTrack()\n",
    "mid.tracks.append(track2)\n",
    "track3 = MidiTrack()\n",
    "mid.tracks.append(track3)\n",
    "track4 = MidiTrack()\n",
    "mid.tracks.append(track4)\n",
    "octave = 12 * 6\n",
    "t = randrange(len(timing))\n",
    "\n",
    "track.append(Message('program_change', program=6,time=0))\n",
    "track2.append(Message('program_change', program=6, time=0))\n",
    "track3.append(Message('program_change', program=6,time=0))\n",
    "track4.append(Message('program_change', program=6, time=0))\n",
    "    \n",
    "for i in range(2):\n",
    "    track2.append(Message('note_on', note= 58, velocity=randrange(70,80), time=0))\n",
    "    track2.append(Message('note_off', note= 58, velocity=randrange(70,80), time=1920))\n",
    "    track3.append(Message('note_on', note= 60, velocity=randrange(70,80), time=0))\n",
    "    track3.append(Message('note_off', note= 60, velocity=randrange(70,80), time=1920))\n",
    "    track4.append(Message('note_on', note= 62, velocity=randrange(70,80), time=0))\n",
    "    track4.append(Message('note_off', note=62, velocity=randrange(70,80), time=1920))\n",
    "\n",
    "    track2.append(Message('note_on', note= 57, velocity=randrange(70,80), time=0))\n",
    "    track2.append(Message('note_off', note= 57, velocity=randrange(70,80), time=1920))\n",
    "    track3.append(Message('note_on', note= 58, velocity=randrange(70,80), time=0))\n",
    "    track3.append(Message('note_off', note= 58, velocity=randrange(70,80), time=1920))\n",
    "    track4.append(Message('note_on', note= 60, velocity=randrange(70,80), time=0))\n",
    "    track4.append(Message('note_off', note=60, velocity=randrange(70,80), time=1920))\n",
    "\n",
    "    track2.append(Message('note_on', note= 55, velocity=randrange(70,80), time=0))\n",
    "    track2.append(Message('note_off', note= 55, velocity=randrange(70,80), time=1920))\n",
    "    track3.append(Message('note_on', note= 57, velocity=randrange(70,80), time=0))\n",
    "    track3.append(Message('note_off', note= 57, velocity=randrange(70,80), time=1920))\n",
    "    track4.append(Message('note_on', note= 58, velocity=randrange(70,80), time=0))\n",
    "    track4.append(Message('note_off', note=58, velocity=randrange(70,80), time=1920))\n",
    "\n",
    "    track2.append(Message('note_on', note= 53, velocity=randrange(70,80), time=0))\n",
    "    track2.append(Message('note_off', note= 53, velocity=randrange(70,80), time=1920))\n",
    "    track3.append(Message('note_on', note= 55, velocity=randrange(70,80), time=0))\n",
    "    track3.append(Message('note_off', note= 55, velocity=randrange(70,80), time=1920))\n",
    "    track4.append(Message('note_on', note= 57, velocity=randrange(70,80), time=0))\n",
    "    track4.append(Message('note_off', note=57, velocity=randrange(70,80), time=1920))\n",
    "for x in range(2):\n",
    "    for i in range(16):\n",
    "        if(i == 0):\n",
    "            track.append(Message('note_on', note= octave + NoteBins.note_reg(int(jamie[0][i][0])), velocity=randrange(90,110), time=0))\n",
    "        else:\n",
    "            track.append(Message('note_on', note= octave + NoteBins.note_reg(int(jamie[0][i][0])), velocity=randrange(90,110), time=20))\n",
    "        track.append(Message('note_off', note= octave + NoteBins.note_reg(int(jamie[0][i][0])), velocity=randrange(90,110), time=timing[t].get(str(i))))\n",
    "mid.save('jek.mid')"
   ]
  },
  {
   "cell_type": "code",
   "execution_count": 18,
   "metadata": {},
   "outputs": [],
   "source": [
    "from keras.models import load_model\n",
    "\n",
    "# Creates a HDF5 file 'my_model.h5'\n",
    "model.save('bi.h5')"
   ]
  },
  {
   "cell_type": "code",
   "execution_count": 39,
   "metadata": {
    "scrolled": true
   },
   "outputs": [
    {
     "ename": "AttributeError",
     "evalue": "type object 'TFLiteConverter' has no attribute 'from_keras_model'",
     "output_type": "error",
     "traceback": [
      "\u001b[1;31m---------------------------------------------------------------------------\u001b[0m",
      "\u001b[1;31mAttributeError\u001b[0m                            Traceback (most recent call last)",
      "\u001b[1;32m<ipython-input-39-0d95e07fe09c>\u001b[0m in \u001b[0;36m<module>\u001b[1;34m\u001b[0m\n\u001b[0;32m      1\u001b[0m \u001b[1;31m# Convert the model to the TensorFlow Lite format with quantization\u001b[0m\u001b[1;33m\u001b[0m\u001b[1;33m\u001b[0m\u001b[1;33m\u001b[0m\u001b[0m\n\u001b[1;32m----> 2\u001b[1;33m \u001b[0mconverter\u001b[0m \u001b[1;33m=\u001b[0m \u001b[0mtf\u001b[0m\u001b[1;33m.\u001b[0m\u001b[0mlite\u001b[0m\u001b[1;33m.\u001b[0m\u001b[0mTFLiteConverter\u001b[0m\u001b[1;33m.\u001b[0m\u001b[0mfrom_keras_model\u001b[0m\u001b[1;33m(\u001b[0m\u001b[0mmodel\u001b[0m\u001b[1;33m)\u001b[0m\u001b[1;33m\u001b[0m\u001b[1;33m\u001b[0m\u001b[0m\n\u001b[0m\u001b[0;32m      3\u001b[0m \u001b[0mconverter\u001b[0m\u001b[1;33m.\u001b[0m\u001b[0moptimizations\u001b[0m \u001b[1;33m=\u001b[0m \u001b[1;33m[\u001b[0m\u001b[0mtf\u001b[0m\u001b[1;33m.\u001b[0m\u001b[0mlite\u001b[0m\u001b[1;33m.\u001b[0m\u001b[0mOptimize\u001b[0m\u001b[1;33m.\u001b[0m\u001b[0mOPTIMIZE_FOR_SIZE\u001b[0m\u001b[1;33m]\u001b[0m\u001b[1;33m\u001b[0m\u001b[1;33m\u001b[0m\u001b[0m\n\u001b[0;32m      4\u001b[0m \u001b[0mtflite_model\u001b[0m \u001b[1;33m=\u001b[0m \u001b[0mconverter\u001b[0m\u001b[1;33m.\u001b[0m\u001b[0mconvert\u001b[0m\u001b[1;33m(\u001b[0m\u001b[1;33m)\u001b[0m\u001b[1;33m\u001b[0m\u001b[1;33m\u001b[0m\u001b[0m\n\u001b[0;32m      5\u001b[0m \u001b[1;33m\u001b[0m\u001b[0m\n",
      "\u001b[1;31mAttributeError\u001b[0m: type object 'TFLiteConverter' has no attribute 'from_keras_model'"
     ]
    }
   ],
   "source": [
    "# Convert the model to the TensorFlow Lite format with quantization\n",
    "converter = tf.lite.TFLiteConverter.from_keras_model(model)\n",
    "converter.optimizations = [tf.lite.Optimize.OPTIMIZE_FOR_SIZE]\n",
    "tflite_model = converter.convert()\n",
    "\n",
    "# Save the model to disk\n",
    "open(\"all.tflite\", \"wb\").write(tflite_model)"
   ]
  },
  {
   "cell_type": "code",
   "execution_count": null,
   "metadata": {},
   "outputs": [],
   "source": [
    "import tensorflow as tf\n",
    "tf.__version__"
   ]
  },
  {
   "cell_type": "code",
   "execution_count": 61,
   "metadata": {},
   "outputs": [],
   "source": [
    "predict = model.predict(bruv)"
   ]
  },
  {
   "cell_type": "code",
   "execution_count": 62,
   "metadata": {},
   "outputs": [],
   "source": [
    "#adjusting from normalization\n",
    "for y in range(len(songs)):\n",
    "    for x in range(15):\n",
    "            predict[y][x][0] = predict[y][x][0] * 11\n",
    "            while(predict[y][x][0] > 127):\n",
    "                predict[y][x][0] = predict[y][x][0] / 10"
   ]
  },
  {
   "cell_type": "code",
   "execution_count": 65,
   "metadata": {},
   "outputs": [],
   "source": [
    "for z in range(1500,1524):\n",
    "    mid = MidiFile()\n",
    "    track = MidiTrack()\n",
    "    mid.tracks.append(track)\n",
    "    track2 = MidiTrack()\n",
    "    mid.tracks.append(track2)\n",
    "    track3 = MidiTrack()\n",
    "    mid.tracks.append(track3)\n",
    "    track4 = MidiTrack()\n",
    "    mid.tracks.append(track4)\n",
    "    octave = 12 * 5\n",
    "    t = randrange(len(timing))\n",
    "\n",
    "    track.append(Message('program_change', program=2,time=0))\n",
    "    track2.append(Message('program_change', program=0, time=0))\n",
    "    \n",
    "    for i in range(2):\n",
    "        track2.append(Message('note_on', note= 48, velocity=64, time=0))\n",
    "        track2.append(Message('note_off', note= 48, velocity=64, time=1920))\n",
    "        track3.append(Message('note_on', note= 50, velocity=64, time=0))\n",
    "        track3.append(Message('note_off', note= 50, velocity=64, time=1920))\n",
    "        track4.append(Message('note_on', note= 52, velocity=64, time=0))\n",
    "        track4.append(Message('note_off', note=52, velocity=64, time=1920))\n",
    "\n",
    "        track2.append(Message('note_on', note= 47, velocity=64, time=0))\n",
    "        track2.append(Message('note_off', note= 47, velocity=64, time=1920))\n",
    "        track3.append(Message('note_on', note= 48, velocity=64, time=0))\n",
    "        track3.append(Message('note_off', note= 48, velocity=64, time=1920))\n",
    "        track4.append(Message('note_on', note= 50, velocity=64, time=0))\n",
    "        track4.append(Message('note_off', note=50, velocity=64, time=1920))\n",
    "\n",
    "        track2.append(Message('note_on', note= 45, velocity=64, time=0))\n",
    "        track2.append(Message('note_off', note= 45, velocity=64, time=1920))\n",
    "        track3.append(Message('note_on', note= 47, velocity=64, time=0))\n",
    "        track3.append(Message('note_off', note= 47, velocity=64, time=1920))\n",
    "        track4.append(Message('note_on', note= 48, velocity=64, time=0))\n",
    "        track4.append(Message('note_off', note=48, velocity=64, time=1920))\n",
    "\n",
    "        track2.append(Message('note_on', note= 43, velocity=64, time=0))\n",
    "        track2.append(Message('note_off', note= 43, velocity=64, time=1920))\n",
    "        track3.append(Message('note_on', note= 45, velocity=64, time=0))\n",
    "        track3.append(Message('note_off', note= 45, velocity=64, time=1920))\n",
    "        track4.append(Message('note_on', note= 47, velocity=64, time=0))\n",
    "        track4.append(Message('note_off', note=47, velocity=64, time=1920))\n",
    "    for x in range(3):\n",
    "        for i in range(12):\n",
    "            track.append(Message('note_on', note= octave + NoteBins.note_reg(int(predict[z][i][0])), velocity=64, time=20))\n",
    "            track.append(Message('note_off', note= octave + NoteBins.note_reg(int(predict[z][i][0])), velocity=64, time=timing[t].get(str(i))))\n",
    "    mid.save('test' + str(z) + '.mid')"
   ]
  },
  {
   "cell_type": "code",
   "execution_count": 64,
   "metadata": {},
   "outputs": [
    {
     "data": {
      "text/plain": [
       "array([[[5.620357  ],\n",
       "        [5.600093  ],\n",
       "        [5.56239   ],\n",
       "        ...,\n",
       "        [5.4134326 ],\n",
       "        [5.4159575 ],\n",
       "        [0.4930788 ]],\n",
       "\n",
       "       [[5.6203566 ],\n",
       "        [5.600094  ],\n",
       "        [5.562388  ],\n",
       "        ...,\n",
       "        [5.413438  ],\n",
       "        [5.415968  ],\n",
       "        [0.4930799 ]],\n",
       "\n",
       "       [[5.620356  ],\n",
       "        [5.600092  ],\n",
       "        [5.5623827 ],\n",
       "        ...,\n",
       "        [5.4134274 ],\n",
       "        [5.4159474 ],\n",
       "        [0.49307746]],\n",
       "\n",
       "       ...,\n",
       "\n",
       "       [[0.51094157],\n",
       "        [0.50909966],\n",
       "        [0.50567216],\n",
       "        ...,\n",
       "        [0.49213105],\n",
       "        [0.4923614 ],\n",
       "        [0.49308082]],\n",
       "\n",
       "       [[0.5109415 ],\n",
       "        [0.5090991 ],\n",
       "        [0.5056712 ],\n",
       "        ...,\n",
       "        [0.4921301 ],\n",
       "        [0.49235952],\n",
       "        [0.49307835]],\n",
       "\n",
       "       [[0.5109415 ],\n",
       "        [0.50909925],\n",
       "        [0.5056713 ],\n",
       "        ...,\n",
       "        [0.49213016],\n",
       "        [0.49235964],\n",
       "        [0.4930785 ]]], dtype=float32)"
      ]
     },
     "execution_count": 64,
     "metadata": {},
     "output_type": "execute_result"
    }
   ],
   "source": [
    "predict"
   ]
  },
  {
   "cell_type": "code",
   "execution_count": null,
   "metadata": {},
   "outputs": [],
   "source": []
  }
 ],
 "metadata": {
  "kernelspec": {
   "display_name": "Python 3",
   "language": "python",
   "name": "python3"
  },
  "language_info": {
   "codemirror_mode": {
    "name": "ipython",
    "version": 3
   },
   "file_extension": ".py",
   "mimetype": "text/x-python",
   "name": "python",
   "nbconvert_exporter": "python",
   "pygments_lexer": "ipython3",
   "version": "3.7.3"
  }
 },
 "nbformat": 4,
 "nbformat_minor": 2
}
