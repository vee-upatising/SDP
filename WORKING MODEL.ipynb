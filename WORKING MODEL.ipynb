{
 "cells": [
  {
   "cell_type": "code",
   "execution_count": 1,
   "metadata": {},
   "outputs": [
    {
     "name": "stderr",
     "output_type": "stream",
     "text": [
      "Using TensorFlow backend.\n"
     ]
    }
   ],
   "source": [
    "import numpy as np\n",
    "import pandas as pd\n",
    "import random\n",
    "import tensorflow as tf\n",
    "\n",
    "from tensorflow import keras\n",
    "from keras import backend as K\n",
    "from keras.models import Sequential\n",
    "from keras.layers import Dense, Activation, Dropout, GRU\n",
    "from keras.layers import LSTM, Reshape, RepeatVector, TimeDistributed\n",
    "from sklearn.model_selection import train_test_split\n",
    "\n",
    "import numpy as np\n",
    "import os\n",
    "from mido import MidiFile, MidiTrack, Message\n",
    "import mido\n",
    "\n",
    "from scipy.special import softmax\n",
    "import NoteBins\n",
    "\n",
    "import matplotlib.pyplot as plt"
   ]
  },
  {
   "cell_type": "code",
   "execution_count": 74,
   "metadata": {
    "scrolled": true
   },
   "outputs": [],
   "source": [
    "paths = []\n",
    "songs = []\n",
    "for r, d, f in os.walk(r\"C:\\Users\\Vee\\Desktop\\python\\blues\"):\n",
    "    for file in f:\n",
    "        if '.mid' in file:\n",
    "            paths.append(os.path.join(r, file))\n",
    "\n",
    "for path in paths:\n",
    "    mid = MidiFile(path, type = 1)\n",
    "    songs.append(mid)"
   ]
  },
  {
   "cell_type": "code",
   "execution_count": 75,
   "metadata": {},
   "outputs": [],
   "source": [
    "notes = []\n",
    "dataset = []\n",
    "fuckboy = []"
   ]
  },
  {
   "cell_type": "code",
   "execution_count": 76,
   "metadata": {},
   "outputs": [],
   "source": [
    "#for each in midi object in list of songs\n",
    "for i in range(len(songs)):\n",
    "    #for each note in midi object\n",
    "    for msg in songs[i]:\n",
    "        #filtering out meta messages\n",
    "        if not msg.is_meta:\n",
    "            #filtering out control changes\n",
    "            if (msg.type == 'note_on'):\n",
    "                #normalizing note and velocity values\n",
    "                notes.append([NoteBins.note_reg(msg.note)/11])\n",
    "    for i in range(1, len(notes)):\n",
    "        fuckboy.append(notes[i])\n",
    "        if (i % 12 == 0):\n",
    "            dataset.append(fuckboy)\n",
    "            fuckboy = []\n",
    "    fuckboy = []\n",
    "    notes = []"
   ]
  },
  {
   "cell_type": "code",
   "execution_count": 77,
   "metadata": {},
   "outputs": [
    {
     "data": {
      "text/plain": [
       "(3088, 12, 1)"
      ]
     },
     "execution_count": 77,
     "metadata": {},
     "output_type": "execute_result"
    }
   ],
   "source": [
    "dataset = np.array(dataset)\n",
    "dataset.shape"
   ]
  },
  {
   "cell_type": "code",
   "execution_count": 78,
   "metadata": {},
   "outputs": [],
   "source": [
    "bruv = []\n",
    "#for each in midi object in list of songs\n",
    "for i in range(len(songs)):\n",
    "    #for each note in midi object\n",
    "    for msg in songs[i]:\n",
    "        #filtering out meta messages\n",
    "        if not msg.is_meta:\n",
    "            #filtering out control changes\n",
    "            if (msg.type == 'note_on'):\n",
    "                #normalizing note and velocity values\n",
    "                notes.append([NoteBins.note_reg(msg.note)/11])\n",
    "    for i in range(1, len(notes)):\n",
    "        fuckboy.append(notes[i])\n",
    "        if (i % 12 == 0):\n",
    "            bruv.append(fuckboy[0:4])\n",
    "            fuckboy = []\n",
    "    fuckboy = []\n",
    "    notes = []"
   ]
  },
  {
   "cell_type": "code",
   "execution_count": 79,
   "metadata": {},
   "outputs": [
    {
     "data": {
      "text/plain": [
       "(3088, 4, 1)"
      ]
     },
     "execution_count": 79,
     "metadata": {},
     "output_type": "execute_result"
    }
   ],
   "source": [
    "bruv = np.array(bruv)\n",
    "bruv.shape"
   ]
  },
  {
   "cell_type": "code",
   "execution_count": 80,
   "metadata": {},
   "outputs": [],
   "source": [
    "#splitting data into train and test sets. 3/4 train, 1/4 test.\n",
    "x_train,x_test,y_train,y_test = train_test_split(bruv, dataset, test_size=0.4, shuffle=False, random_state=42)"
   ]
  },
  {
   "cell_type": "code",
   "execution_count": 81,
   "metadata": {},
   "outputs": [
    {
     "name": "stdout",
     "output_type": "stream",
     "text": [
      "Model: \"sequential_5\"\n",
      "_________________________________________________________________\n",
      "Layer (type)                 Output Shape              Param #   \n",
      "=================================================================\n",
      "lstm_22 (LSTM)               (None, 4)                 96        \n",
      "_________________________________________________________________\n",
      "repeat_vector_5 (RepeatVecto (None, 12, 4)             0         \n",
      "_________________________________________________________________\n",
      "lstm_23 (LSTM)               (None, 12, 64)            17664     \n",
      "_________________________________________________________________\n",
      "lstm_24 (LSTM)               (None, 12, 128)           98816     \n",
      "_________________________________________________________________\n",
      "lstm_25 (LSTM)               (None, 12, 256)           394240    \n",
      "_________________________________________________________________\n",
      "time_distributed_13 (TimeDis (None, 12, 512)           131584    \n",
      "_________________________________________________________________\n",
      "time_distributed_14 (TimeDis (None, 12, 1024)          525312    \n",
      "_________________________________________________________________\n",
      "time_distributed_15 (TimeDis (None, 12, 1)             1025      \n",
      "=================================================================\n",
      "Total params: 1,168,737\n",
      "Trainable params: 1,168,737\n",
      "Non-trainable params: 0\n",
      "_________________________________________________________________\n",
      "None\n"
     ]
    }
   ],
   "source": [
    "# define model\n",
    "model = Sequential()\n",
    "#shaping input to match data\n",
    "model.add(LSTM(4, activation = 'tanh', input_shape=(4, 1), recurrent_activation='sigmoid', use_bias=True, kernel_initializer='glorot_uniform', recurrent_initializer='orthogonal', bias_initializer='zeros', unit_forget_bias=True))\n",
    "#specifying output to have 40 timesteps\n",
    "model.add(RepeatVector(12))\n",
    "#specifying 1 feature as the output\n",
    "model.add(LSTM(64, activation = 'tanh', return_sequences=True, recurrent_activation='sigmoid', use_bias=True, kernel_initializer='glorot_uniform', recurrent_initializer='orthogonal', bias_initializer='zeros', unit_forget_bias=True, dropout = 0.2))\n",
    "model.add(LSTM(128, activation = 'sigmoid', return_sequences=True, dropout = 0.2, recurrent_dropout=0.5 , recurrent_activation='tanh'))\n",
    "model.add(LSTM(256, activation = 'sigmoid', return_sequences=True, dropout = 0.2, recurrent_dropout=0.5 , recurrent_activation='tanh'))\n",
    "model.add(TimeDistributed(Dense(512, activation = 'selu')))\n",
    "model.add(TimeDistributed(Dense(1024, activation = 'selu')))\n",
    "model.add(TimeDistributed(Dense(1, activation = 'selu')))\n",
    "model.compile(loss='mean_absolute_error', optimizer='adam')\n",
    "print(model.summary())"
   ]
  },
  {
   "cell_type": "code",
   "execution_count": 82,
   "metadata": {
    "scrolled": true
   },
   "outputs": [
    {
     "name": "stdout",
     "output_type": "stream",
     "text": [
      "Train on 3088 samples, validate on 1236 samples\n",
      "Epoch 1/20\n",
      "3088/3088 [==============================] - 2s 627us/step - loss: 0.4026 - val_loss: 0.3100\n",
      "Epoch 2/20\n",
      "3088/3088 [==============================] - 0s 106us/step - loss: 0.2815 - val_loss: 0.2849\n",
      "Epoch 3/20\n",
      "3088/3088 [==============================] - 0s 105us/step - loss: 0.2742 - val_loss: 0.2758\n",
      "Epoch 4/20\n",
      "3088/3088 [==============================] - 0s 93us/step - loss: 0.2724 - val_loss: 0.2772\n",
      "Epoch 5/20\n",
      "3088/3088 [==============================] - 0s 89us/step - loss: 0.2678 - val_loss: 0.2741\n",
      "Epoch 6/20\n",
      "3088/3088 [==============================] - 0s 88us/step - loss: 0.2700 - val_loss: 0.2710\n",
      "Epoch 7/20\n",
      "3088/3088 [==============================] - 0s 95us/step - loss: 0.2668 - val_loss: 0.2754\n",
      "Epoch 8/20\n",
      "3088/3088 [==============================] - 0s 95us/step - loss: 0.2684 - val_loss: 0.2751\n",
      "Epoch 9/20\n",
      "3088/3088 [==============================] - 0s 88us/step - loss: 0.2677 - val_loss: 0.2725\n",
      "Epoch 10/20\n",
      "3088/3088 [==============================] - 0s 89us/step - loss: 0.2662 - val_loss: 0.2718\n",
      "Epoch 11/20\n",
      "3088/3088 [==============================] - 0s 104us/step - loss: 0.2669 - val_loss: 0.2718\n",
      "Epoch 12/20\n",
      "3088/3088 [==============================] - 0s 91us/step - loss: 0.2663 - val_loss: 0.2730\n",
      "Epoch 13/20\n",
      "3088/3088 [==============================] - 0s 88us/step - loss: 0.2660 - val_loss: 0.2692\n",
      "Epoch 14/20\n",
      "3088/3088 [==============================] - 0s 90us/step - loss: 0.2651 - val_loss: 0.2684\n",
      "Epoch 15/20\n",
      "3088/3088 [==============================] - 0s 90us/step - loss: 0.2642 - val_loss: 0.2681\n",
      "Epoch 16/20\n",
      "3088/3088 [==============================] - 0s 91us/step - loss: 0.2637 - val_loss: 0.2673\n",
      "Epoch 17/20\n",
      "3088/3088 [==============================] - 0s 91us/step - loss: 0.2636 - val_loss: 0.2667\n",
      "Epoch 18/20\n",
      "3088/3088 [==============================] - 0s 89us/step - loss: 0.2625 - val_loss: 0.2651\n",
      "Epoch 19/20\n",
      "3088/3088 [==============================] - 0s 90us/step - loss: 0.2616 - val_loss: 0.2644\n",
      "Epoch 20/20\n",
      "3088/3088 [==============================] - 0s 99us/step - loss: 0.2617 - val_loss: 0.2632\n"
     ]
    }
   ],
   "source": [
    "history = model.fit(bruv, dataset, epochs=20, batch_size=1000, verbose=1,validation_data=(x_test, y_test))"
   ]
  },
  {
   "cell_type": "code",
   "execution_count": 83,
   "metadata": {},
   "outputs": [
    {
     "data": {
      "image/png": "[encoded data removed]",
      "text/plain": [
       "<Figure size 432x288 with 1 Axes>"
      ]
     },
     "metadata": {
      "needs_background": "light"
     },
     "output_type": "display_data"
    }
   ],
   "source": [
    "# Plot training & validation loss values\n",
    "plt.plot(history.history['loss'])\n",
    "plt.plot(history.history['val_loss'])\n",
    "plt.title('Model loss')\n",
    "plt.ylabel('Loss')\n",
    "plt.xlabel('Epoch')\n",
    "plt.legend(['Validation', 'Test'], loc='upper right')\n",
    "plt.show()"
   ]
  },
  {
   "cell_type": "code",
   "execution_count": 84,
   "metadata": {},
   "outputs": [],
   "source": [
    "j = 0\n",
    "fuckie = [[[4], [3], [7], [5]]]\n",
    "fuckie = np.array(fuckie)\n",
    "fuckie.reshape(1,4,1)\n",
    "\n",
    "jamie = model.predict_on_batch(fuckie)"
   ]
  },
  {
   "cell_type": "raw",
   "metadata": {
    "scrolled": true
   },
   "source": [
    "#adjusting from normalization\n",
    "for y in range(len(songs)):\n",
    "    for x in range(20):\n",
    "            predict[y][x][0] = predict[y][x][0] * 11\n",
    "            while(predict[y][x][0] > 127):\n",
    "                predict[y][x][0] = predict[y][x][0] / 10"
   ]
  },
  {
   "cell_type": "raw",
   "metadata": {},
   "source": [
    "#forced mode\n",
    "mid = MidiFile()\n",
    "track = MidiTrack()\n",
    "mid.tracks.append(track)\n",
    "\n",
    "track.append(Message('program_change', program=5, time=0))\n",
    "x = 0\n",
    "octave = 12 * 5\n",
    "for g in range(5):\n",
    "    for i in range(20):\n",
    "        track.append(Message('note_on', note= octave + NoteBins.note_reg(int(predict[x][i][0])), velocity=64, time=77)) #how much of space to use\n",
    "        track.append(Message('note_off', note= octave + NoteBins.note_reg(int(predict[x][i][0])), velocity=64, time=120)) #allocate space\n",
    "mid.save('james.mid')"
   ]
  },
  {
   "cell_type": "code",
   "execution_count": 85,
   "metadata": {},
   "outputs": [],
   "source": [
    "#adjusting from normalization\n",
    "for x in range(12):\n",
    "    jamie[0][x][0] = abs(jamie[0][x][0] * 11)\n",
    "    while(jamie[0][x][0] > 127):\n",
    "        jamie[0][x][0] = jamie[0][x][0] / 10"
   ]
  },
  {
   "cell_type": "code",
   "execution_count": 86,
   "metadata": {
    "scrolled": true
   },
   "outputs": [
    {
     "data": {
      "text/plain": [
       "array([[[ 7.3604493],\n",
       "        [ 8.942799 ],\n",
       "        [ 9.9291115],\n",
       "        [10.379912 ],\n",
       "        [10.530971 ],\n",
       "        [10.5066805],\n",
       "        [10.3845625],\n",
       "        [10.216709 ],\n",
       "        [10.036293 ],\n",
       "        [ 9.862912 ],\n",
       "        [ 9.707508 ],\n",
       "        [ 9.574696 ]]], dtype=float32)"
      ]
     },
     "execution_count": 86,
     "metadata": {},
     "output_type": "execute_result"
    }
   ],
   "source": [
    "jamie\n",
    "#jamie[0][0][0]"
   ]
  },
  {
   "cell_type": "code",
   "execution_count": 87,
   "metadata": {},
   "outputs": [],
   "source": [
    "#forced mode\n",
    "mid = MidiFile()\n",
    "track = MidiTrack()\n",
    "mid.tracks.append(track)\n",
    "octave = 12 * 5\n",
    "\n",
    "track.append(Message('program_change', program=2,time=0))\n",
    "for x in range(5):\n",
    "    for i in range(12):\n",
    "        track.append(Message('note_on', note= octave + NoteBins.note_reg(int(jamie[0][i][0])), velocity=64, time=20))\n",
    "        track.append(Message('note_off', note= octave + NoteBins.note_reg(int(jamie[0][i][0])), velocity=64, time=200))\n",
    "mid.save('b.mid')"
   ]
  },
  {
   "cell_type": "code",
   "execution_count": 88,
   "metadata": {},
   "outputs": [],
   "source": [
    "from keras.models import load_model\n",
    "\n",
    "# Creates a HDF5 file 'my_model.h5'\n",
    "model.save('blues.h5')"
   ]
  },
  {
   "cell_type": "code",
   "execution_count": null,
   "metadata": {},
   "outputs": [],
   "source": []
  }
 ],
 "metadata": {
  "kernelspec": {
   "display_name": "Python 3",
   "language": "python",
   "name": "python3"
  },
  "language_info": {
   "codemirror_mode": {
    "name": "ipython",
    "version": 3
   },
   "file_extension": ".py",
   "mimetype": "text/x-python",
   "name": "python",
   "nbconvert_exporter": "python",
   "pygments_lexer": "ipython3",
   "version": "3.7.3"
  }
 },
 "nbformat": 4,
 "nbformat_minor": 2
}
