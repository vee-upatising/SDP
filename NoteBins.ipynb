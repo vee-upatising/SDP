{
 "cells": [
  {
   "cell_type": "code",
   "execution_count": 1,
   "metadata": {},
   "outputs": [],
   "source": [
    "def note_reg(note):\n",
    "    C = [0, 12, 24, 36, 48, 60, 72, 84, 96, 108, 120]\n",
    "    C_sharp = [1, 13, 25, 37, 49, 61, 73, 85, 97, 109, 121]\n",
    "    D = [2, 14, 26, 38, 50, 62, 74, 86, 98, 110, 122]\n",
    "    D_sharp = [3, 15, 27, 39, 51, 63, 75, 87, 99, 111, 123]\n",
    "    E = [4, 16, 28, 40, 52, 64, 76, 88, 100, 112, 124]\n",
    "    F = [5, 17, 29, 41, 53, 65, 77, 89, 101, 113, 125]\n",
    "    F_sharp = [6, 18, 30, 42, 54, 66, 78, 90, 102, 114, 126]\n",
    "    G = [7, 19, 31, 43, 55, 67, 79, 91, 103, 115, 127]\n",
    "    G_sharp = [8, 20, 32, 44, 56, 68, 80, 92, 104, 116]\n",
    "    A = [9, 21, 33, 45, 57, 69, 81, 93, 105, 117]\n",
    "    A_sharp = [10, 22, 34, 46, 58, 70, 82, 94, 106, 118]\n",
    "    B = [11, 23, 35, 47, 59, 71, 83, 95, 107, 119]\n",
    "    if (note in C):\n",
    "        return 0\n",
    "    elif(note in C_sharp):\n",
    "        return 1\n",
    "    elif(note in D):\n",
    "        return 2\n",
    "    elif(note in D_sharp):\n",
    "        return 3\n",
    "    elif(note in E):\n",
    "        return 4\n",
    "    elif(note in F):\n",
    "        return 5\n",
    "    elif(note in F_sharp):\n",
    "        return 6\n",
    "    elif(note in G):\n",
    "        return 7\n",
    "    elif(note in G_sharp):\n",
    "        return 8\n",
    "    elif(note in A):\n",
    "        return 9\n",
    "    elif(note in A_sharp):\n",
    "        return 10\n",
    "    elif(note in B):\n",
    "        return 11\n",
    "    else:\n",
    "        return note_reg(int(note/10))"
   ]
  },
  {
   "cell_type": "code",
   "execution_count": null,
   "metadata": {},
   "outputs": [],
   "source": []
  }
 ],
 "metadata": {
  "kernelspec": {
   "display_name": "Python 3",
   "language": "python",
   "name": "python3"
  },
  "language_info": {
   "codemirror_mode": {
    "name": "ipython",
    "version": 3
   },
   "file_extension": ".py",
   "mimetype": "text/x-python",
   "name": "python",
   "nbconvert_exporter": "python",
   "pygments_lexer": "ipython3",
   "version": "3.7.3"
  }
 },
 "nbformat": 4,
 "nbformat_minor": 2
}
