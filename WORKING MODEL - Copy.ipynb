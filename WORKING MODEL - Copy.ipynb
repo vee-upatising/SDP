{
 "cells": [
  {
   "cell_type": "code",
   "execution_count": 171,
   "metadata": {},
   "outputs": [],
   "source": [
    "import numpy as np\n",
    "import pandas as pd\n",
    "import random\n",
    "import tensorflow as tf\n",
    "\n",
    "from tensorflow import keras\n",
    "from keras import backend as K\n",
    "from keras.models import Sequential\n",
    "from keras.layers import Dense, Activation, Dropout\n",
    "from keras.layers import LSTM, Reshape, RepeatVector, TimeDistributed\n",
    "from sklearn.model_selection import train_test_split\n",
    "from keras.preprocessing.text import Tokenizer\n",
    "from collections import Counter\n",
    "\n",
    "import numpy as np\n",
    "import os\n",
    "from mido import MidiFile, MidiTrack, Message\n",
    "import mido"
   ]
  },
  {
   "cell_type": "code",
   "execution_count": 106,
   "metadata": {
    "scrolled": true
   },
   "outputs": [],
   "source": [
    "paths = []\n",
    "songs = []\n",
    "for r, d, f in os.walk(r\"C:\\Users\\Vee\\Desktop\\python\\songs\"):\n",
    "    for file in f:\n",
    "        if '.mid' in file:\n",
    "            paths.append(os.path.join(r, file))\n",
    "\n",
    "for path in paths:\n",
    "    mid = MidiFile(path, type = 1)\n",
    "    songs.append(mid)"
   ]
  },
  {
   "cell_type": "code",
   "execution_count": 124,
   "metadata": {},
   "outputs": [],
   "source": [
    "notes = []\n",
    "dataset = []"
   ]
  },
  {
   "cell_type": "code",
   "execution_count": 125,
   "metadata": {},
   "outputs": [],
   "source": [
    "#for each in midi object in list of songs\n",
    "for i in range(len(songs)):\n",
    "    #for each note in midi object\n",
    "    for msg in songs[i]:\n",
    "        #filtering out meta messages\n",
    "        if not msg.is_meta:\n",
    "            #filtering out control changes\n",
    "            if (msg.type == 'note_on') or (msg.type == 'note_off'):\n",
    "                #normalizing note and velocity values\n",
    "                notes.append([msg.note/127, msg.velocity/127, msg.time])\n",
    "    #if more than 30 notes delete them\n",
    "    if len(notes) > 60:\n",
    "        for x in range(len(notes)-60):\n",
    "            notes = np.delete(notes, 60, 0)\n",
    "    #if less than 30 notes pad with zeros\n",
    "    elif len(notes) < 60:\n",
    "        for x in range(60 - len(notes)):\n",
    "            notes.append([0,0,0])\n",
    "    dataset.append(notes)    \n",
    "    notes = []"
   ]
  },
  {
   "cell_type": "code",
   "execution_count": 126,
   "metadata": {},
   "outputs": [
    {
     "data": {
      "text/plain": [
       "(17, 60, 3)"
      ]
     },
     "execution_count": 126,
     "metadata": {},
     "output_type": "execute_result"
    }
   ],
   "source": [
    "dataset = np.array(dataset)\n",
    "dataset.shape"
   ]
  },
  {
   "cell_type": "code",
   "execution_count": 127,
   "metadata": {},
   "outputs": [],
   "source": [
    "bruv = []\n",
    "#for each in midi object in list of songs\n",
    "for i in range(len(songs)):\n",
    "    #for each note in midi object\n",
    "    for msg in songs[i]:\n",
    "        #filtering out meta messages\n",
    "        if not msg.is_meta:\n",
    "            #filtering out control changes\n",
    "            if (msg.type == 'note_on') or (msg.type == 'note_off'):\n",
    "                #normalizing note and velocity values\n",
    "                notes.append([msg.note/127, msg.velocity/127, msg.time])\n",
    "    #if more than 40 notes delete them\n",
    "    if len(notes) > 4:\n",
    "        for x in range(len(notes)-4):\n",
    "            notes = np.delete(notes, 4, 0)\n",
    "    bruv.append(notes)    \n",
    "    notes = []"
   ]
  },
  {
   "cell_type": "code",
   "execution_count": 128,
   "metadata": {},
   "outputs": [
    {
     "data": {
      "text/plain": [
       "(17, 4, 3)"
      ]
     },
     "execution_count": 128,
     "metadata": {},
     "output_type": "execute_result"
    }
   ],
   "source": [
    "bruv = np.array(bruv)\n",
    "bruv.shape"
   ]
  },
  {
   "cell_type": "code",
   "execution_count": 129,
   "metadata": {},
   "outputs": [],
   "source": [
    "#splitting data into train and test sets. 3/4 train, 1/4 test.\n",
    "x_train,x_test,y_train,y_test = train_test_split(bruv, dataset, test_size=0.2, shuffle=False, random_state=42)"
   ]
  },
  {
   "cell_type": "code",
   "execution_count": 130,
   "metadata": {},
   "outputs": [
    {
     "name": "stdout",
     "output_type": "stream",
     "text": [
      "Model: \"sequential_36\"\n",
      "_________________________________________________________________\n",
      "Layer (type)                 Output Shape              Param #   \n",
      "=================================================================\n",
      "lstm_216 (LSTM)              (None, 200)               163200    \n",
      "_________________________________________________________________\n",
      "repeat_vector_6 (RepeatVecto (None, 60, 200)           0         \n",
      "_________________________________________________________________\n",
      "lstm_217 (LSTM)              (None, 60, 200)           320800    \n",
      "_________________________________________________________________\n",
      "lstm_218 (LSTM)              (None, 60, 200)           320800    \n",
      "_________________________________________________________________\n",
      "lstm_219 (LSTM)              (None, 60, 200)           320800    \n",
      "_________________________________________________________________\n",
      "time_distributed_14 (TimeDis (None, 60, 3)             603       \n",
      "_________________________________________________________________\n",
      "time_distributed_15 (TimeDis (None, 60, 3)             12        \n",
      "_________________________________________________________________\n",
      "dropout_26 (Dropout)         (None, 60, 3)             0         \n",
      "_________________________________________________________________\n",
      "time_distributed_16 (TimeDis (None, 60, 3)             12        \n",
      "_________________________________________________________________\n",
      "time_distributed_17 (TimeDis (None, 60, 3)             12        \n",
      "_________________________________________________________________\n",
      "time_distributed_18 (TimeDis (None, 60, 3)             12        \n",
      "_________________________________________________________________\n",
      "activation_17 (Activation)   (None, 60, 3)             0         \n",
      "=================================================================\n",
      "Total params: 1,126,251\n",
      "Trainable params: 1,126,251\n",
      "Non-trainable params: 0\n",
      "_________________________________________________________________\n",
      "None\n"
     ]
    }
   ],
   "source": [
    "# define model\n",
    "model = Sequential()\n",
    "#shaping input to match data\n",
    "model.add(LSTM(200, activation='relu', input_shape=(4, 3)))\n",
    "#specifying output to have 60 timesteps\n",
    "model.add(RepeatVector(60))\n",
    "model.add(LSTM(200, activation='relu', return_sequences=True))\n",
    "model.add(LSTM(200, activation='relu', return_sequences=True))\n",
    "model.add(LSTM(200, activation='relu', return_sequences=True))\n",
    "#specifying 3 features as the output\n",
    "model.add(TimeDistributed(Dense(3)))\n",
    "model.add(TimeDistributed(Dense(3)))\n",
    "model.add(Dropout(0.2))\n",
    "model.add(TimeDistributed(Dense(3)))\n",
    "model.add(TimeDistributed(Dense(3)))\n",
    "model.add(TimeDistributed(Dense(3)))\n",
    "model.add(Activation('tanh'))\n",
    "model.compile(loss='mean_absolute_error', optimizer='adam')\n",
    "print(model.summary())"
   ]
  },
  {
   "cell_type": "code",
   "execution_count": 131,
   "metadata": {
    "scrolled": true
   },
   "outputs": [
    {
     "name": "stdout",
     "output_type": "stream",
     "text": [
      "Train on 17 samples, validate on 4 samples\n",
      "Epoch 1/20\n",
      " - 9s - loss: 0.3197 - val_loss: 0.2685\n",
      "Epoch 2/20\n",
      " - 2s - loss: 0.3141 - val_loss: 0.2624\n",
      "Epoch 3/20\n",
      " - 2s - loss: 0.3081 - val_loss: 0.2553\n",
      "Epoch 4/20\n",
      " - 2s - loss: 0.3011 - val_loss: 0.2472\n",
      "Epoch 5/20\n",
      " - 2s - loss: 0.2953 - val_loss: 0.2411\n",
      "Epoch 6/20\n",
      " - 2s - loss: 0.2887 - val_loss: 0.2341\n",
      "Epoch 7/20\n",
      " - 2s - loss: 0.2822 - val_loss: 0.2261\n",
      "Epoch 8/20\n",
      " - 2s - loss: 0.2742 - val_loss: 0.2164\n",
      "Epoch 9/20\n",
      " - 2s - loss: 0.2655 - val_loss: 0.2021\n",
      "Epoch 10/20\n",
      " - 2s - loss: 0.2564 - val_loss: 0.1927\n",
      "Epoch 11/20\n",
      " - 2s - loss: 0.2471 - val_loss: 0.1774\n",
      "Epoch 12/20\n",
      " - 2s - loss: 0.2419 - val_loss: 0.1748\n",
      "Epoch 13/20\n",
      " - 2s - loss: 0.2360 - val_loss: 0.1716\n",
      "Epoch 14/20\n",
      " - 2s - loss: 0.2301 - val_loss: 0.1666\n",
      "Epoch 15/20\n",
      " - 2s - loss: 0.2273 - val_loss: 0.1681\n",
      "Epoch 16/20\n",
      " - 2s - loss: 0.2213 - val_loss: 0.1620\n",
      "Epoch 17/20\n",
      " - 2s - loss: 0.2170 - val_loss: 0.1586\n",
      "Epoch 18/20\n",
      " - 2s - loss: 0.2138 - val_loss: 0.1551\n",
      "Epoch 19/20\n",
      " - 2s - loss: 0.2115 - val_loss: 0.1534\n",
      "Epoch 20/20\n",
      " - 2s - loss: 0.2076 - val_loss: 0.1531\n"
     ]
    },
    {
     "data": {
      "text/plain": [
       "<keras.callbacks.History at 0x2521ec79908>"
      ]
     },
     "execution_count": 131,
     "metadata": {},
     "output_type": "execute_result"
    }
   ],
   "source": [
    "model.fit(bruv, dataset, epochs=20, batch_size=5, verbose=2,validation_data=(x_test, y_test))"
   ]
  },
  {
   "cell_type": "code",
   "execution_count": 161,
   "metadata": {},
   "outputs": [],
   "source": [
    "predict = model.predict(bruv)\n",
    "#disregarding negative values\n",
    "predict = abs(predict)"
   ]
  },
  {
   "cell_type": "code",
   "execution_count": 163,
   "metadata": {
    "scrolled": true
   },
   "outputs": [],
   "source": [
    "#adjusting from normalization\n",
    "for x in range(60):\n",
    "    for i in range(2):\n",
    "        predict[0][x][i] = predict[0][x][i] * 127"
   ]
  },
  {
   "cell_type": "code",
   "execution_count": 166,
   "metadata": {
    "scrolled": true
   },
   "outputs": [
    {
     "data": {
      "text/plain": [
       "array([[4.07358360e+01, 1.11188946e+01, 7.49659911e-03],\n",
       "       [4.35735664e+01, 1.29605055e+01, 2.74126958e-02],\n",
       "       [4.65148582e+01, 1.48792925e+01, 4.68983315e-02],\n",
       "       [4.93690338e+01, 1.67606735e+01, 6.48470148e-02],\n",
       "       [5.19895172e+01, 1.85057411e+01, 8.03357586e-02],\n",
       "       [5.42825127e+01, 2.00486965e+01, 9.28409696e-02],\n",
       "       [5.62055969e+01, 2.13602562e+01, 1.02305971e-01],\n",
       "       [5.77584152e+01, 2.24324493e+01, 1.08900346e-01],\n",
       "       [5.89620323e+01, 2.32734833e+01, 1.12913437e-01],\n",
       "       [5.98603287e+01, 2.39086304e+01, 1.14805885e-01],\n",
       "       [6.04956398e+01, 2.43628864e+01, 1.14970505e-01],\n",
       "       [6.09251099e+01, 2.46772938e+01, 1.14055589e-01],\n",
       "       [6.11967583e+01, 2.48850040e+01, 1.12498991e-01],\n",
       "       [6.13485985e+01, 2.50109520e+01, 1.10568129e-01],\n",
       "       [6.14116020e+01, 2.50758457e+01, 1.08462729e-01],\n",
       "       [6.14129219e+01, 2.50989132e+01, 1.06369190e-01],\n",
       "       [6.13728905e+01, 2.50934772e+01, 1.04384236e-01],\n",
       "       [6.13123932e+01, 2.50739746e+01, 1.02632836e-01],\n",
       "       [6.12402306e+01, 2.50454502e+01, 1.01101398e-01],\n",
       "       [6.11630058e+01, 2.50118179e+01, 9.97751355e-02],\n",
       "       [6.10855789e+01, 2.49760933e+01, 9.86377522e-02],\n",
       "       [6.10113144e+01, 2.49404488e+01, 9.76722166e-02],\n",
       "       [6.09423981e+01, 2.49064026e+01, 9.68606025e-02],\n",
       "       [6.08801079e+01, 2.48749313e+01, 9.61852595e-02],\n",
       "       [6.08250122e+01, 2.48465729e+01, 9.56288651e-02],\n",
       "       [6.07773743e+01, 2.48219891e+01, 9.51832384e-02],\n",
       "       [6.07371941e+01, 2.48014183e+01, 9.48373303e-02],\n",
       "       [6.07037659e+01, 2.47843876e+01, 9.45704132e-02],\n",
       "       [6.06763458e+01, 2.47704353e+01, 9.43659246e-02],\n",
       "       [6.06541214e+01, 2.47591228e+01, 9.42103863e-02],\n",
       "       [6.06363297e+01, 2.47500420e+01, 9.40930694e-02],\n",
       "       [6.06222343e+01, 2.47428226e+01, 9.40053836e-02],\n",
       "       [6.06112061e+01, 2.47371292e+01, 9.39404815e-02],\n",
       "       [6.06026688e+01, 2.47326927e+01, 9.38929841e-02],\n",
       "       [6.05961342e+01, 2.47292633e+01, 9.38586816e-02],\n",
       "       [6.05911903e+01, 2.47266350e+01, 9.38342363e-02],\n",
       "       [6.05875092e+01, 2.47246475e+01, 9.38170925e-02],\n",
       "       [6.05848007e+01, 2.47231598e+01, 9.38053429e-02],\n",
       "       [6.05828323e+01, 2.47220497e+01, 9.37974527e-02],\n",
       "       [6.05814247e+01, 2.47212372e+01, 9.37923118e-02],\n",
       "       [6.05804520e+01, 2.47206554e+01, 9.37891826e-02],\n",
       "       [6.05797806e+01, 2.47202377e+01, 9.37872902e-02],\n",
       "       [6.05793495e+01, 2.47199383e+01, 9.37864110e-02],\n",
       "       [6.05790787e+01, 2.47197418e+01, 9.37860385e-02],\n",
       "       [6.05789146e+01, 2.47196026e+01, 9.37860236e-02],\n",
       "       [6.05788345e+01, 2.47195168e+01, 9.37862620e-02],\n",
       "       [6.05788116e+01, 2.47194595e+01, 9.37866047e-02],\n",
       "       [6.05788116e+01, 2.47194252e+01, 9.37869549e-02],\n",
       "       [6.05788345e+01, 2.47194080e+01, 9.37873051e-02],\n",
       "       [6.05788803e+01, 2.47193985e+01, 9.37876850e-02],\n",
       "       [6.05789146e+01, 2.47193985e+01, 9.37879682e-02],\n",
       "       [6.05789528e+01, 2.47194023e+01, 9.37882364e-02],\n",
       "       [6.05789795e+01, 2.47194023e+01, 9.37884077e-02],\n",
       "       [6.05790176e+01, 2.47194080e+01, 9.37886387e-02],\n",
       "       [6.05790405e+01, 2.47194157e+01, 9.37887430e-02],\n",
       "       [6.05790558e+01, 2.47194157e+01, 9.37888622e-02],\n",
       "       [6.05790939e+01, 2.47194176e+01, 9.37889665e-02],\n",
       "       [6.05791092e+01, 2.47194214e+01, 9.37890783e-02],\n",
       "       [6.05791168e+01, 2.47194214e+01, 9.37890783e-02],\n",
       "       [6.05791321e+01, 2.47194252e+01, 9.37891826e-02]], dtype=float32)"
      ]
     },
     "execution_count": 166,
     "metadata": {},
     "output_type": "execute_result"
    }
   ],
   "source": [
    "predict[0]"
   ]
  },
  {
   "cell_type": "code",
   "execution_count": 167,
   "metadata": {},
   "outputs": [],
   "source": [
    "from keras.models import load_model\n",
    "\n",
    "# Creates a HDF5 file 'my_model.h5'\n",
    "model.save('my_model.h5')"
   ]
  },
  {
   "cell_type": "code",
   "execution_count": 183,
   "metadata": {},
   "outputs": [],
   "source": [
    "midler = MidiFile()\n",
    "track = MidiTrack()\n",
    "midler.tracks.append(track)\n",
    "track.append(Message('program_change', program=12, time=0))\n",
    "for x in range(60):\n",
    "    track.append(Message('note_on', note=int(predict[0][x][0]), velocity=int(predict[0][x][1]), time=int(predict[0][x][2])))\n",
    "    track.append(Message('note_off', note=int(predict[0][x][0]), velocity=int(predict[0][x][1]), time=int(predict[0][x][2])))\n",
    "midler.save('new_song.mid')"
   ]
  },
  {
   "cell_type": "code",
   "execution_count": 184,
   "metadata": {},
   "outputs": [
    {
     "name": "stdout",
     "output_type": "stream",
     "text": [
      "program_change channel=0 program=12 time=0\n",
      "note_on channel=0 note=40 velocity=11 time=0\n",
      "note_off channel=0 note=40 velocity=11 time=0\n",
      "note_on channel=0 note=43 velocity=12 time=0\n",
      "note_off channel=0 note=43 velocity=12 time=0\n",
      "note_on channel=0 note=46 velocity=14 time=0\n",
      "note_off channel=0 note=46 velocity=14 time=0\n",
      "note_on channel=0 note=49 velocity=16 time=0\n",
      "note_off channel=0 note=49 velocity=16 time=0\n",
      "note_on channel=0 note=51 velocity=18 time=0\n",
      "note_off channel=0 note=51 velocity=18 time=0\n",
      "note_on channel=0 note=54 velocity=20 time=0\n",
      "note_off channel=0 note=54 velocity=20 time=0\n",
      "note_on channel=0 note=56 velocity=21 time=0\n",
      "note_off channel=0 note=56 velocity=21 time=0\n",
      "note_on channel=0 note=57 velocity=22 time=0\n",
      "note_off channel=0 note=57 velocity=22 time=0\n",
      "note_on channel=0 note=58 velocity=23 time=0\n",
      "note_off channel=0 note=58 velocity=23 time=0\n",
      "note_on channel=0 note=59 velocity=23 time=0\n",
      "note_off channel=0 note=59 velocity=23 time=0\n",
      "note_on channel=0 note=60 velocity=24 time=0\n",
      "note_off channel=0 note=60 velocity=24 time=0\n",
      "note_on channel=0 note=60 velocity=24 time=0\n",
      "note_off channel=0 note=60 velocity=24 time=0\n",
      "note_on channel=0 note=61 velocity=24 time=0\n",
      "note_off channel=0 note=61 velocity=24 time=0\n",
      "note_on channel=0 note=61 velocity=25 time=0\n",
      "note_off channel=0 note=61 velocity=25 time=0\n",
      "note_on channel=0 note=61 velocity=25 time=0\n",
      "note_off channel=0 note=61 velocity=25 time=0\n",
      "note_on channel=0 note=61 velocity=25 time=0\n",
      "note_off channel=0 note=61 velocity=25 time=0\n",
      "note_on channel=0 note=61 velocity=25 time=0\n",
      "note_off channel=0 note=61 velocity=25 time=0\n",
      "note_on channel=0 note=61 velocity=25 time=0\n",
      "note_off channel=0 note=61 velocity=25 time=0\n",
      "note_on channel=0 note=61 velocity=25 time=0\n",
      "note_off channel=0 note=61 velocity=25 time=0\n",
      "note_on channel=0 note=61 velocity=25 time=0\n",
      "note_off channel=0 note=61 velocity=25 time=0\n",
      "note_on channel=0 note=61 velocity=24 time=0\n",
      "note_off channel=0 note=61 velocity=24 time=0\n",
      "note_on channel=0 note=61 velocity=24 time=0\n",
      "note_off channel=0 note=61 velocity=24 time=0\n",
      "note_on channel=0 note=60 velocity=24 time=0\n",
      "note_off channel=0 note=60 velocity=24 time=0\n",
      "note_on channel=0 note=60 velocity=24 time=0\n",
      "note_off channel=0 note=60 velocity=24 time=0\n",
      "note_on channel=0 note=60 velocity=24 time=0\n",
      "note_off channel=0 note=60 velocity=24 time=0\n",
      "note_on channel=0 note=60 velocity=24 time=0\n",
      "note_off channel=0 note=60 velocity=24 time=0\n",
      "note_on channel=0 note=60 velocity=24 time=0\n",
      "note_off channel=0 note=60 velocity=24 time=0\n",
      "note_on channel=0 note=60 velocity=24 time=0\n",
      "note_off channel=0 note=60 velocity=24 time=0\n",
      "note_on channel=0 note=60 velocity=24 time=0\n",
      "note_off channel=0 note=60 velocity=24 time=0\n",
      "note_on channel=0 note=60 velocity=24 time=0\n",
      "note_off channel=0 note=60 velocity=24 time=0\n",
      "note_on channel=0 note=60 velocity=24 time=0\n",
      "note_off channel=0 note=60 velocity=24 time=0\n",
      "note_on channel=0 note=60 velocity=24 time=0\n",
      "note_off channel=0 note=60 velocity=24 time=0\n",
      "note_on channel=0 note=60 velocity=24 time=0\n",
      "note_off channel=0 note=60 velocity=24 time=0\n",
      "note_on channel=0 note=60 velocity=24 time=0\n",
      "note_off channel=0 note=60 velocity=24 time=0\n",
      "note_on channel=0 note=60 velocity=24 time=0\n",
      "note_off channel=0 note=60 velocity=24 time=0\n",
      "note_on channel=0 note=60 velocity=24 time=0\n",
      "note_off channel=0 note=60 velocity=24 time=0\n",
      "note_on channel=0 note=60 velocity=24 time=0\n",
      "note_off channel=0 note=60 velocity=24 time=0\n",
      "note_on channel=0 note=60 velocity=24 time=0\n",
      "note_off channel=0 note=60 velocity=24 time=0\n",
      "note_on channel=0 note=60 velocity=24 time=0\n",
      "note_off channel=0 note=60 velocity=24 time=0\n",
      "note_on channel=0 note=60 velocity=24 time=0\n",
      "note_off channel=0 note=60 velocity=24 time=0\n",
      "note_on channel=0 note=60 velocity=24 time=0\n",
      "note_off channel=0 note=60 velocity=24 time=0\n",
      "note_on channel=0 note=60 velocity=24 time=0\n",
      "note_off channel=0 note=60 velocity=24 time=0\n",
      "note_on channel=0 note=60 velocity=24 time=0\n",
      "note_off channel=0 note=60 velocity=24 time=0\n",
      "note_on channel=0 note=60 velocity=24 time=0\n",
      "note_off channel=0 note=60 velocity=24 time=0\n",
      "note_on channel=0 note=60 velocity=24 time=0\n",
      "note_off channel=0 note=60 velocity=24 time=0\n",
      "note_on channel=0 note=60 velocity=24 time=0\n",
      "note_off channel=0 note=60 velocity=24 time=0\n",
      "note_on channel=0 note=60 velocity=24 time=0\n",
      "note_off channel=0 note=60 velocity=24 time=0\n",
      "note_on channel=0 note=60 velocity=24 time=0\n",
      "note_off channel=0 note=60 velocity=24 time=0\n",
      "note_on channel=0 note=60 velocity=24 time=0\n",
      "note_off channel=0 note=60 velocity=24 time=0\n",
      "note_on channel=0 note=60 velocity=24 time=0\n",
      "note_off channel=0 note=60 velocity=24 time=0\n",
      "note_on channel=0 note=60 velocity=24 time=0\n",
      "note_off channel=0 note=60 velocity=24 time=0\n",
      "note_on channel=0 note=60 velocity=24 time=0\n",
      "note_off channel=0 note=60 velocity=24 time=0\n",
      "note_on channel=0 note=60 velocity=24 time=0\n",
      "note_off channel=0 note=60 velocity=24 time=0\n",
      "note_on channel=0 note=60 velocity=24 time=0\n",
      "note_off channel=0 note=60 velocity=24 time=0\n",
      "note_on channel=0 note=60 velocity=24 time=0\n",
      "note_off channel=0 note=60 velocity=24 time=0\n",
      "note_on channel=0 note=60 velocity=24 time=0\n",
      "note_off channel=0 note=60 velocity=24 time=0\n",
      "note_on channel=0 note=60 velocity=24 time=0\n",
      "note_off channel=0 note=60 velocity=24 time=0\n",
      "note_on channel=0 note=60 velocity=24 time=0\n",
      "note_off channel=0 note=60 velocity=24 time=0\n",
      "note_on channel=0 note=60 velocity=24 time=0\n",
      "note_off channel=0 note=60 velocity=24 time=0\n",
      "note_on channel=0 note=60 velocity=24 time=0\n",
      "note_off channel=0 note=60 velocity=24 time=0\n",
      "<meta message end_of_track time=0>\n"
     ]
    }
   ],
   "source": [
    "for msg in midler:\n",
    "    print(msg)"
   ]
  }
 ],
 "metadata": {
  "kernelspec": {
   "display_name": "Python 3",
   "language": "python",
   "name": "python3"
  },
  "language_info": {
   "codemirror_mode": {
    "name": "ipython",
    "version": 3
   },
   "file_extension": ".py",
   "mimetype": "text/x-python",
   "name": "python",
   "nbconvert_exporter": "python",
   "pygments_lexer": "ipython3",
   "version": "3.7.3"
  }
 },
 "nbformat": 4,
 "nbformat_minor": 2
}
