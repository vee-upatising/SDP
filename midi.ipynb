{
 "cells": [
  {
   "cell_type": "code",
   "execution_count": 121,
   "metadata": {},
   "outputs": [],
   "source": [
    "import numpy as np\n",
    "from mido import MidiFile\n",
    "\n",
    "mid = MidiFile('music.mid')\n",
    "chord = MidiFile('chord.mid')"
   ]
  },
  {
   "cell_type": "code",
   "execution_count": 122,
   "metadata": {},
   "outputs": [
    {
     "name": "stdout",
     "output_type": "stream",
     "text": [
      "note_on channel=0 note=74 velocity=102 time=0\n",
      "note_off channel=0 note=74 velocity=127 time=1.0\n",
      "note_on channel=0 note=74 velocity=117 time=0\n",
      "note_off channel=0 note=74 velocity=127 time=0.5\n",
      "note_on channel=0 note=77 velocity=108 time=0\n",
      "note_off channel=0 note=77 velocity=127 time=0.25\n",
      "note_on channel=0 note=79 velocity=119 time=0\n",
      "note_on channel=0 note=77 velocity=114 time=1.75\n",
      "note_off channel=0 note=79 velocity=127 time=0\n",
      "note_on channel=0 note=74 velocity=99 time=0.5\n",
      "note_off channel=0 note=77 velocity=127 time=0\n",
      "note_off channel=0 note=74 velocity=127 time=1.0\n",
      "note_on channel=0 note=74 velocity=107 time=0\n",
      "note_off channel=0 note=74 velocity=127 time=0.5\n",
      "note_on channel=0 note=77 velocity=101 time=0\n",
      "note_off channel=0 note=77 velocity=127 time=0.25\n",
      "note_on channel=0 note=79 velocity=108 time=0\n",
      "note_on channel=0 note=77 velocity=122 time=1.75\n",
      "note_off channel=0 note=79 velocity=127 time=0\n",
      "note_on channel=0 note=74 velocity=108 time=0.5\n",
      "note_off channel=0 note=77 velocity=127 time=0\n",
      "note_off channel=0 note=74 velocity=127 time=1.0\n",
      "note_on channel=0 note=74 velocity=109 time=0\n",
      "note_off channel=0 note=74 velocity=127 time=0.5\n",
      "note_on channel=0 note=77 velocity=118 time=0\n",
      "note_off channel=0 note=77 velocity=127 time=0.25\n",
      "note_on channel=0 note=79 velocity=119 time=0\n",
      "note_on channel=0 note=74 velocity=111 time=1.75\n",
      "note_off channel=0 note=79 velocity=127 time=0\n",
      "note_off channel=0 note=74 velocity=127 time=0.5\n",
      "note_on channel=0 note=76 velocity=110 time=0\n",
      "note_on channel=0 note=74 velocity=117 time=1.0\n",
      "note_off channel=0 note=76 velocity=127 time=0\n",
      "note_on channel=0 note=72 velocity=99 time=0.5\n",
      "note_off channel=0 note=74 velocity=127 time=0\n",
      "note_off channel=0 note=72 velocity=127 time=0.5\n",
      "note_on channel=0 note=76 velocity=124 time=0\n",
      "note_off channel=0 note=76 velocity=127 time=2.0\n"
     ]
    }
   ],
   "source": [
    "for msg in mid:\n",
    "    if not msg.is_meta:\n",
    "        print(msg)"
   ]
  },
  {
   "cell_type": "code",
   "execution_count": 123,
   "metadata": {},
   "outputs": [],
   "source": [
    "notes = []"
   ]
  },
  {
   "cell_type": "code",
   "execution_count": 124,
   "metadata": {},
   "outputs": [],
   "source": [
    "for msg in mid:\n",
    "    if not msg.is_meta:\n",
    "        notes.append([msg.note, msg.velocity, msg.time])"
   ]
  },
  {
   "cell_type": "code",
   "execution_count": 125,
   "metadata": {},
   "outputs": [],
   "source": [
    "notes = np.array(notes)"
   ]
  },
  {
   "cell_type": "code",
   "execution_count": 128,
   "metadata": {},
   "outputs": [],
   "source": [
    "if len(notes) > 30:\n",
    "    for x in range(len(notes)-30):\n",
    "        notes = np.delete(notes, 30, 0)"
   ]
  },
  {
   "cell_type": "code",
   "execution_count": 129,
   "metadata": {},
   "outputs": [
    {
     "data": {
      "text/plain": [
       "array([[ 74.  , 102.  ,   0.  ],\n",
       "       [ 74.  , 127.  ,   1.  ],\n",
       "       [ 74.  , 117.  ,   0.  ],\n",
       "       [ 74.  , 127.  ,   0.5 ],\n",
       "       [ 77.  , 108.  ,   0.  ],\n",
       "       [ 77.  , 127.  ,   0.25],\n",
       "       [ 79.  , 119.  ,   0.  ],\n",
       "       [ 77.  , 114.  ,   1.75],\n",
       "       [ 79.  , 127.  ,   0.  ],\n",
       "       [ 74.  ,  99.  ,   0.5 ],\n",
       "       [ 77.  , 127.  ,   0.  ],\n",
       "       [ 74.  , 127.  ,   1.  ],\n",
       "       [ 74.  , 107.  ,   0.  ],\n",
       "       [ 74.  , 127.  ,   0.5 ],\n",
       "       [ 77.  , 101.  ,   0.  ],\n",
       "       [ 77.  , 127.  ,   0.25],\n",
       "       [ 79.  , 108.  ,   0.  ],\n",
       "       [ 77.  , 122.  ,   1.75],\n",
       "       [ 79.  , 127.  ,   0.  ],\n",
       "       [ 74.  , 108.  ,   0.5 ],\n",
       "       [ 77.  , 127.  ,   0.  ],\n",
       "       [ 74.  , 127.  ,   1.  ],\n",
       "       [ 74.  , 109.  ,   0.  ],\n",
       "       [ 74.  , 127.  ,   0.5 ],\n",
       "       [ 77.  , 118.  ,   0.  ],\n",
       "       [ 77.  , 127.  ,   0.25],\n",
       "       [ 79.  , 119.  ,   0.  ],\n",
       "       [ 74.  , 111.  ,   1.75],\n",
       "       [ 79.  , 127.  ,   0.  ],\n",
       "       [ 74.  , 127.  ,   0.5 ]])"
      ]
     },
     "execution_count": 129,
     "metadata": {},
     "output_type": "execute_result"
    }
   ],
   "source": [
    "notes"
   ]
  },
  {
   "cell_type": "code",
   "execution_count": 131,
   "metadata": {},
   "outputs": [],
   "source": [
    "notes = notes.reshape(1,30,3)"
   ]
  },
  {
   "cell_type": "code",
   "execution_count": 132,
   "metadata": {},
   "outputs": [
    {
     "data": {
      "text/plain": [
       "array([[[ 74.  , 102.  ,   0.  ],\n",
       "        [ 74.  , 127.  ,   1.  ],\n",
       "        [ 74.  , 117.  ,   0.  ],\n",
       "        [ 74.  , 127.  ,   0.5 ],\n",
       "        [ 77.  , 108.  ,   0.  ],\n",
       "        [ 77.  , 127.  ,   0.25],\n",
       "        [ 79.  , 119.  ,   0.  ],\n",
       "        [ 77.  , 114.  ,   1.75],\n",
       "        [ 79.  , 127.  ,   0.  ],\n",
       "        [ 74.  ,  99.  ,   0.5 ],\n",
       "        [ 77.  , 127.  ,   0.  ],\n",
       "        [ 74.  , 127.  ,   1.  ],\n",
       "        [ 74.  , 107.  ,   0.  ],\n",
       "        [ 74.  , 127.  ,   0.5 ],\n",
       "        [ 77.  , 101.  ,   0.  ],\n",
       "        [ 77.  , 127.  ,   0.25],\n",
       "        [ 79.  , 108.  ,   0.  ],\n",
       "        [ 77.  , 122.  ,   1.75],\n",
       "        [ 79.  , 127.  ,   0.  ],\n",
       "        [ 74.  , 108.  ,   0.5 ],\n",
       "        [ 77.  , 127.  ,   0.  ],\n",
       "        [ 74.  , 127.  ,   1.  ],\n",
       "        [ 74.  , 109.  ,   0.  ],\n",
       "        [ 74.  , 127.  ,   0.5 ],\n",
       "        [ 77.  , 118.  ,   0.  ],\n",
       "        [ 77.  , 127.  ,   0.25],\n",
       "        [ 79.  , 119.  ,   0.  ],\n",
       "        [ 74.  , 111.  ,   1.75],\n",
       "        [ 79.  , 127.  ,   0.  ],\n",
       "        [ 74.  , 127.  ,   0.5 ]]])"
      ]
     },
     "execution_count": 132,
     "metadata": {},
     "output_type": "execute_result"
    }
   ],
   "source": [
    "notes"
   ]
  }
 ],
 "metadata": {
  "kernelspec": {
   "display_name": "Python 3",
   "language": "python",
   "name": "python3"
  },
  "language_info": {
   "codemirror_mode": {
    "name": "ipython",
    "version": 3
   },
   "file_extension": ".py",
   "mimetype": "text/x-python",
   "name": "python",
   "nbconvert_exporter": "python",
   "pygments_lexer": "ipython3",
   "version": "3.7.3"
  }
 },
 "nbformat": 4,
 "nbformat_minor": 2
}
