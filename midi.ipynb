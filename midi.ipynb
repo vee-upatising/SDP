{
 "cells": [
  {
   "cell_type": "code",
   "execution_count": 1,
   "metadata": {},
   "outputs": [],
   "source": [
    "import numpy as np\n",
    "from mido import MidiFile\n",
    "#load midi files into midi object\n",
    "mid = MidiFile('1.mid')\n",
    "chords = MidiFile('music.mid')"
   ]
  },
  {
   "cell_type": "code",
   "execution_count": 2,
   "metadata": {
    "scrolled": true
   },
   "outputs": [
    {
     "name": "stdout",
     "output_type": "stream",
     "text": [
      "note_on channel=0 note=72 velocity=94 time=0\n",
      "note_off channel=0 note=72 velocity=127 time=1.5\n",
      "note_on channel=0 note=71 velocity=120 time=0.25\n",
      "note_off channel=0 note=71 velocity=64 time=0.25\n",
      "note_on channel=0 note=76 velocity=100 time=0\n",
      "note_on channel=0 note=74 velocity=115 time=0.5\n",
      "note_off channel=0 note=76 velocity=127 time=0\n",
      "note_off channel=0 note=74 velocity=127 time=0.5\n",
      "note_on channel=0 note=74 velocity=116 time=0\n",
      "note_on channel=0 note=72 velocity=104 time=0.5\n",
      "note_off channel=0 note=74 velocity=127 time=0\n",
      "note_off channel=0 note=72 velocity=127 time=0.5\n",
      "note_on channel=0 note=72 velocity=118 time=0\n",
      "note_on channel=0 note=69 velocity=101 time=1.5\n",
      "note_off channel=0 note=72 velocity=127 time=0\n",
      "note_off channel=0 note=69 velocity=127 time=0.25\n",
      "note_on channel=0 note=72 velocity=117 time=0\n",
      "note_off channel=0 note=72 velocity=127 time=0.25\n",
      "note_on channel=0 note=76 velocity=103 time=0\n",
      "note_on channel=0 note=74 velocity=102 time=0.5\n",
      "note_off channel=0 note=76 velocity=127 time=0\n",
      "note_off channel=0 note=74 velocity=127 time=0.5\n",
      "note_on channel=0 note=74 velocity=118 time=0\n",
      "note_on channel=0 note=72 velocity=111 time=0.5\n",
      "note_off channel=0 note=74 velocity=127 time=0\n",
      "note_on channel=0 note=69 velocity=100 time=0.25\n",
      "note_off channel=0 note=72 velocity=127 time=0\n",
      "note_off channel=0 note=69 velocity=127 time=0.25\n",
      "note_on channel=0 note=72 velocity=122 time=0\n",
      "note_on channel=0 note=69 velocity=96 time=1.25\n",
      "note_off channel=0 note=72 velocity=127 time=0\n",
      "note_off channel=0 note=69 velocity=127 time=0.25\n",
      "note_on channel=0 note=72 velocity=114 time=0\n",
      "note_on channel=0 note=69 velocity=106 time=0.25\n",
      "note_off channel=0 note=72 velocity=127 time=0\n",
      "note_off channel=0 note=69 velocity=127 time=0.25\n",
      "note_on channel=0 note=76 velocity=99 time=0\n",
      "note_on channel=0 note=74 velocity=117 time=0.5\n",
      "note_off channel=0 note=76 velocity=127 time=0\n",
      "note_off channel=0 note=74 velocity=127 time=0.25\n",
      "note_on channel=0 note=74 velocity=122 time=0\n",
      "note_on channel=0 note=71 velocity=121 time=1.25\n",
      "note_off channel=0 note=74 velocity=127 time=0\n",
      "note_on channel=0 note=69 velocity=114 time=0.75\n",
      "note_off channel=0 note=71 velocity=127 time=0\n",
      "note_on channel=0 note=67 velocity=102 time=0.25\n",
      "note_off channel=0 note=69 velocity=127 time=0\n",
      "note_off channel=0 note=67 velocity=127 time=3.0\n"
     ]
    }
   ],
   "source": [
    "#showing all notes in music.mid\n",
    "for msg in chords:\n",
    "    if not msg.is_meta:\n",
    "        print(msg)"
   ]
  },
  {
   "cell_type": "code",
   "execution_count": 3,
   "metadata": {},
   "outputs": [],
   "source": [
    "#creating placeholder arrays\n",
    "dataset = []\n",
    "notes = []\n",
    "songs = []\n",
    "#adding midi object to list of songs\n",
    "songs.append(chords)\n",
    "songs.append(mid)"
   ]
  },
  {
   "cell_type": "code",
   "execution_count": 4,
   "metadata": {},
   "outputs": [],
   "source": [
    "#for each in midi object in list of songs\n",
    "for track in songs:\n",
    "    #for each note in midi object\n",
    "    for msg in track:\n",
    "        #filtering our meta messages\n",
    "        if not msg.is_meta:\n",
    "            notes.append([msg.note, msg.velocity, msg.time])\n",
    "    #if more than 30 notes delete them\n",
    "    if len(notes) > 30:\n",
    "        for x in range(len(notes)-30):\n",
    "            notes = np.delete(notes, 30, 0)\n",
    "    #if less than 30 notes pad with zeros\n",
    "    elif len(notes) < 30:\n",
    "        for x in range(30 - len(notes)):\n",
    "            notes.append([0,0,0])\n",
    "    #add song to dataset\n",
    "    dataset.append(notes)\n",
    "    #clear temp array\n",
    "    notes = []"
   ]
  },
  {
   "cell_type": "code",
   "execution_count": 5,
   "metadata": {},
   "outputs": [
    {
     "data": {
      "text/plain": [
       "array([[[ 72.       ,  94.       ,   0.       ],\n",
       "        [ 72.       , 127.       ,   1.5      ],\n",
       "        [ 71.       , 120.       ,   0.25     ],\n",
       "        [ 71.       ,  64.       ,   0.25     ],\n",
       "        [ 76.       , 100.       ,   0.       ],\n",
       "        [ 74.       , 115.       ,   0.5      ],\n",
       "        [ 76.       , 127.       ,   0.       ],\n",
       "        [ 74.       , 127.       ,   0.5      ],\n",
       "        [ 74.       , 116.       ,   0.       ],\n",
       "        [ 72.       , 104.       ,   0.5      ],\n",
       "        [ 74.       , 127.       ,   0.       ],\n",
       "        [ 72.       , 127.       ,   0.5      ],\n",
       "        [ 72.       , 118.       ,   0.       ],\n",
       "        [ 69.       , 101.       ,   1.5      ],\n",
       "        [ 72.       , 127.       ,   0.       ],\n",
       "        [ 69.       , 127.       ,   0.25     ],\n",
       "        [ 72.       , 117.       ,   0.       ],\n",
       "        [ 72.       , 127.       ,   0.25     ],\n",
       "        [ 76.       , 103.       ,   0.       ],\n",
       "        [ 74.       , 102.       ,   0.5      ],\n",
       "        [ 76.       , 127.       ,   0.       ],\n",
       "        [ 74.       , 127.       ,   0.5      ],\n",
       "        [ 74.       , 118.       ,   0.       ],\n",
       "        [ 72.       , 111.       ,   0.5      ],\n",
       "        [ 74.       , 127.       ,   0.       ],\n",
       "        [ 69.       , 100.       ,   0.25     ],\n",
       "        [ 72.       , 127.       ,   0.       ],\n",
       "        [ 69.       , 127.       ,   0.25     ],\n",
       "        [ 72.       , 122.       ,   0.       ],\n",
       "        [ 69.       ,  96.       ,   1.25     ]],\n",
       "\n",
       "       [[ 36.       , 119.       ,   2.7      ],\n",
       "        [ 36.       ,   0.       ,   0.2859375],\n",
       "        [  0.       ,   0.       ,   0.       ],\n",
       "        [  0.       ,   0.       ,   0.       ],\n",
       "        [  0.       ,   0.       ,   0.       ],\n",
       "        [  0.       ,   0.       ,   0.       ],\n",
       "        [  0.       ,   0.       ,   0.       ],\n",
       "        [  0.       ,   0.       ,   0.       ],\n",
       "        [  0.       ,   0.       ,   0.       ],\n",
       "        [  0.       ,   0.       ,   0.       ],\n",
       "        [  0.       ,   0.       ,   0.       ],\n",
       "        [  0.       ,   0.       ,   0.       ],\n",
       "        [  0.       ,   0.       ,   0.       ],\n",
       "        [  0.       ,   0.       ,   0.       ],\n",
       "        [  0.       ,   0.       ,   0.       ],\n",
       "        [  0.       ,   0.       ,   0.       ],\n",
       "        [  0.       ,   0.       ,   0.       ],\n",
       "        [  0.       ,   0.       ,   0.       ],\n",
       "        [  0.       ,   0.       ,   0.       ],\n",
       "        [  0.       ,   0.       ,   0.       ],\n",
       "        [  0.       ,   0.       ,   0.       ],\n",
       "        [  0.       ,   0.       ,   0.       ],\n",
       "        [  0.       ,   0.       ,   0.       ],\n",
       "        [  0.       ,   0.       ,   0.       ],\n",
       "        [  0.       ,   0.       ,   0.       ],\n",
       "        [  0.       ,   0.       ,   0.       ],\n",
       "        [  0.       ,   0.       ,   0.       ],\n",
       "        [  0.       ,   0.       ,   0.       ],\n",
       "        [  0.       ,   0.       ,   0.       ],\n",
       "        [  0.       ,   0.       ,   0.       ]]])"
      ]
     },
     "execution_count": 5,
     "metadata": {},
     "output_type": "execute_result"
    }
   ],
   "source": [
    "#reshape data to size that I want\n",
    "dataset = np.array(dataset)\n",
    "dataset.reshape(2,30,3)"
   ]
  }
 ],
 "metadata": {
  "kernelspec": {
   "display_name": "Python 3",
   "language": "python",
   "name": "python3"
  },
  "language_info": {
   "codemirror_mode": {
    "name": "ipython",
    "version": 3
   },
   "file_extension": ".py",
   "mimetype": "text/x-python",
   "name": "python",
   "nbconvert_exporter": "python",
   "pygments_lexer": "ipython3",
   "version": "3.7.3"
  }
 },
 "nbformat": 4,
 "nbformat_minor": 2
}
