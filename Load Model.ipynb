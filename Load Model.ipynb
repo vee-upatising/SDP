{
 "cells": [
  {
   "cell_type": "code",
   "execution_count": 1,
   "metadata": {},
   "outputs": [
    {
     "name": "stderr",
     "output_type": "stream",
     "text": [
      "Using TensorFlow backend.\n",
      "WARNING: Logging before flag parsing goes to stderr.\n",
      "W0924 04:02:17.056717 19696 deprecation_wrapper.py:119] From D:\\Anaconda\\lib\\site-packages\\keras\\backend\\tensorflow_backend.py:66: The name tf.get_default_graph is deprecated. Please use tf.compat.v1.get_default_graph instead.\n",
      "\n",
      "W0924 04:02:17.068656 19696 deprecation_wrapper.py:119] From D:\\Anaconda\\lib\\site-packages\\keras\\backend\\tensorflow_backend.py:541: The name tf.placeholder is deprecated. Please use tf.compat.v1.placeholder instead.\n",
      "\n",
      "W0924 04:02:17.069653 19696 deprecation_wrapper.py:119] From D:\\Anaconda\\lib\\site-packages\\keras\\backend\\tensorflow_backend.py:4432: The name tf.random_uniform is deprecated. Please use tf.random.uniform instead.\n",
      "\n",
      "W0924 04:02:17.295052 19696 deprecation.py:323] From D:\\Anaconda\\lib\\site-packages\\keras\\backend\\tensorflow_backend.py:3492: add_dispatch_support.<locals>.wrapper (from tensorflow.python.ops.array_ops) is deprecated and will be removed in a future version.\n",
      "Instructions for updating:\n",
      "Use tf.where in 2.0, which has the same broadcast rule as np.where\n",
      "W0924 04:02:18.239372 19696 deprecation_wrapper.py:119] From D:\\Anaconda\\lib\\site-packages\\keras\\backend\\tensorflow_backend.py:190: The name tf.get_default_session is deprecated. Please use tf.compat.v1.get_default_session instead.\n",
      "\n",
      "W0924 04:02:18.240368 19696 deprecation_wrapper.py:119] From D:\\Anaconda\\lib\\site-packages\\keras\\backend\\tensorflow_backend.py:197: The name tf.ConfigProto is deprecated. Please use tf.compat.v1.ConfigProto instead.\n",
      "\n",
      "W0924 04:02:18.947249 19696 deprecation_wrapper.py:119] From D:\\Anaconda\\lib\\site-packages\\keras\\optimizers.py:793: The name tf.train.Optimizer is deprecated. Please use tf.compat.v1.train.Optimizer instead.\n",
      "\n"
     ]
    }
   ],
   "source": [
    "import numpy as np\n",
    "import pandas as pd\n",
    "import tensorflow as tf\n",
    "import mido\n",
    "\n",
    "from tensorflow import keras\n",
    "from keras.models import load_model\n",
    "from mido import MidiFile, MidiTrack, Message\n",
    "\n",
    "\n",
    "model = load_model('my_model.h5')"
   ]
  },
  {
   "cell_type": "code",
   "execution_count": 16,
   "metadata": {},
   "outputs": [
    {
     "data": {
      "text/plain": [
       "array([[[ 22, 100,  35],\n",
       "        [ 32, 100,  65],\n",
       "        [ 32, 100,  52],\n",
       "        [ 32, 100,  26]]])"
      ]
     },
     "execution_count": 16,
     "metadata": {},
     "output_type": "execute_result"
    }
   ],
   "source": [
    "fuckie = [[[22, 100, 35], [32, 100, 65], [32, 100, 52], [32, 100, 26]]]\n",
    "fuckie = np.array(fuckie)\n",
    "fuckie.reshape(1,4,3)"
   ]
  },
  {
   "cell_type": "code",
   "execution_count": 17,
   "metadata": {},
   "outputs": [],
   "source": [
    "jamie = model.predict_on_batch(fuckie)"
   ]
  },
  {
   "cell_type": "code",
   "execution_count": 18,
   "metadata": {},
   "outputs": [],
   "source": [
    "#adjusting from normalization\n",
    "for x in range(40):\n",
    "    for i in range(2):\n",
    "        jamie[0][x][i] = abs(jamie[0][x][i] * 127)\n",
    "        while(jamie[0][x][i] > 127):\n",
    "            jamie[0][x][i] = jamie[0][x][i] / 10"
   ]
  },
  {
   "cell_type": "code",
   "execution_count": 21,
   "metadata": {},
   "outputs": [
    {
     "data": {
      "text/plain": [
       "array([[[ 37,  42,   0],\n",
       "        [ 40,  35,   0],\n",
       "        [ 41,  26,   0],\n",
       "        [ 41,  18,   0],\n",
       "        [ 40,  12,   0],\n",
       "        [ 39,   7,   0],\n",
       "        [ 33,   4,   0],\n",
       "        [ 18,   7,   0],\n",
       "        [  2,  12,   0],\n",
       "        [ 28,  18,   0],\n",
       "        [ 52,  21,   0],\n",
       "        [ 72,  16,   0],\n",
       "        [ 84,   9,   0],\n",
       "        [ 78,   1,   0],\n",
       "        [ 50,  34,   0],\n",
       "        [ 28,  84,   0],\n",
       "        [ 28,  18,   0],\n",
       "        [110,  29,   0],\n",
       "        [ 22,  45,   0],\n",
       "        [ 26,  58,   0],\n",
       "        [ 20,  65,   0],\n",
       "        [103,  64,   0],\n",
       "        [ 22,  80,  -2],\n",
       "        [ 31,  87,  -2],\n",
       "        [ 40,  90,  -3],\n",
       "        [ 67,  84,  -4],\n",
       "        [ 65,  69,  -4],\n",
       "        [ 22,  38,  -2],\n",
       "        [ 65,  35,  -3],\n",
       "        [ 13,  47,   0],\n",
       "        [ 19,  24,  -1],\n",
       "        [ 50,  96,   0],\n",
       "        [ 40, 101,   0],\n",
       "        [ 96,  13,  -2],\n",
       "        [ 14,  17,  -3],\n",
       "        [ 55,  19,   1],\n",
       "        [ 17, 122,  -4],\n",
       "        [ 57,  14, -19],\n",
       "        [112,  36,  -9],\n",
       "        [ 75,  20, -10]]])"
      ]
     },
     "execution_count": 21,
     "metadata": {},
     "output_type": "execute_result"
    }
   ],
   "source": [
    "jamie.astype(int)"
   ]
  },
  {
   "cell_type": "code",
   "execution_count": 23,
   "metadata": {},
   "outputs": [],
   "source": [
    "#free mode\n",
    "mid = MidiFile()\n",
    "track = MidiTrack()\n",
    "mid.tracks.append(track)\n",
    "\n",
    "track.append(Message('program_change', program=1, time=0))\n",
    "for i in range(40):\n",
    "    track.append(Message('note_on', note= int(jamie[0][i][0]), velocity=55, time=45))\n",
    "    track.append(Message('note_off', note= int(jamie[0][i][0]), velocity=55, time=115))\n",
    "mid.save('jamie.mid')"
   ]
  },
  {
   "cell_type": "code",
   "execution_count": null,
   "metadata": {},
   "outputs": [],
   "source": []
  }
 ],
 "metadata": {
  "kernelspec": {
   "display_name": "Python 3",
   "language": "python",
   "name": "python3"
  },
  "language_info": {
   "codemirror_mode": {
    "name": "ipython",
    "version": 3
   },
   "file_extension": ".py",
   "mimetype": "text/x-python",
   "name": "python",
   "nbconvert_exporter": "python",
   "pygments_lexer": "ipython3",
   "version": "3.7.3"
  }
 },
 "nbformat": 4,
 "nbformat_minor": 2
}
