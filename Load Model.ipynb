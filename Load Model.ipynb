{
 "cells": [
  {
   "cell_type": "code",
   "execution_count": 1,
   "metadata": {},
   "outputs": [
    {
     "name": "stderr",
     "output_type": "stream",
     "text": [
      "Using TensorFlow backend.\n"
     ]
    },
    {
     "name": "stdout",
     "output_type": "stream",
     "text": [
      "WARNING:tensorflow:From C:\\Users\\Vee\\Anaconda3\\lib\\site-packages\\keras\\backend\\tensorflow_backend.py:422: The name tf.global_variables is deprecated. Please use tf.compat.v1.global_variables instead.\n",
      "\n"
     ]
    }
   ],
   "source": [
    "import numpy as np\n",
    "import mido\n",
    "import tensorflow as tf\n",
    "import time\n",
    "\n",
    "from keras.models import load_model\n",
    "from mido import MidiFile, MidiTrack, Message\n",
    "from random import randrange\n",
    "\n",
    "\n",
    "model = load_model('sb.h5')"
   ]
  },
  {
   "cell_type": "code",
   "execution_count": 2,
   "metadata": {},
   "outputs": [],
   "source": [
    "note_one = 60\n",
    "note_two = 65\n",
    "note_three = 67\n",
    "note_four = 67"
   ]
  },
  {
   "cell_type": "code",
   "execution_count": 9,
   "metadata": {},
   "outputs": [
    {
     "data": {
      "text/plain": [
       "array([[[5.45454545, 5.90909091, 6.09090909, 6.09090909]]])"
      ]
     },
     "execution_count": 9,
     "metadata": {},
     "output_type": "execute_result"
    }
   ],
   "source": [
    "#Midi Notes range from 0 - 127\n",
    "#Input 4 notes for a chord progression\n",
    "user_input = [[[note_one/11], [note_two/11], [note_three/11], [note_four/11]]]\n",
    "user_input = np.array(user_input)\n",
    "#reshaping input to 3D\n",
    "user_input.reshape(1,1,4)"
   ]
  },
  {
   "cell_type": "code",
   "execution_count": 10,
   "metadata": {},
   "outputs": [
    {
     "data": {
      "text/plain": [
       "array([[[ 5],\n",
       "        [ 9],\n",
       "        [13],\n",
       "        [16],\n",
       "        [18],\n",
       "        [20],\n",
       "        [22],\n",
       "        [23],\n",
       "        [24],\n",
       "        [25],\n",
       "        [25],\n",
       "        [25],\n",
       "        [26],\n",
       "        [26],\n",
       "        [26],\n",
       "        [26]]])"
      ]
     },
     "execution_count": 10,
     "metadata": {},
     "output_type": "execute_result"
    }
   ],
   "source": [
    "#Performing inference on the model\n",
    "start_time = time.time()\n",
    "predict = model.predict_on_batch(user_input)\n",
    "elapsed_time = time.time() - start_time\n",
    "#Adjusting from normalization\n",
    "predict = predict * 11\n",
    "predict = abs(predict)\n",
    "predict.astype(int)"
   ]
  },
  {
   "cell_type": "code",
   "execution_count": 11,
   "metadata": {
    "scrolled": true
   },
   "outputs": [
    {
     "data": {
      "text/plain": [
       "0.03588461875915527"
      ]
     },
     "execution_count": 11,
     "metadata": {},
     "output_type": "execute_result"
    }
   ],
   "source": [
    "elapsed_time"
   ]
  },
  {
   "cell_type": "code",
   "execution_count": 12,
   "metadata": {},
   "outputs": [],
   "source": [
    "#helper function to classify notes into bins\n",
    "def note_reg(note):\n",
    "    C = [0, 12, 24, 36, 48, 60, 72, 84, 96, 108, 120]\n",
    "    C_sharp = [1, 13, 25, 37, 49, 61, 73, 85, 97, 109, 121]\n",
    "    D = [2, 14, 26, 38, 50, 62, 74, 86, 98, 110, 122]\n",
    "    D_sharp = [3, 15, 27, 39, 51, 63, 75, 87, 99, 111, 123]\n",
    "    E = [4, 16, 28, 40, 52, 64, 76, 88, 100, 112, 124]\n",
    "    F = [5, 17, 29, 41, 53, 65, 77, 89, 101, 113, 125]\n",
    "    F_sharp = [6, 18, 30, 42, 54, 66, 78, 90, 102, 114, 126]\n",
    "    G = [7, 19, 31, 43, 55, 67, 79, 91, 103, 115, 127]\n",
    "    G_sharp = [8, 20, 32, 44, 56, 68, 80, 92, 104, 116]\n",
    "    A = [9, 21, 33, 45, 57, 69, 81, 93, 105, 117]\n",
    "    A_sharp = [10, 22, 34, 46, 58, 70, 82, 94, 106, 118]\n",
    "    B = [11, 23, 35, 47, 59, 71, 83, 95, 107, 119]\n",
    "    if (note in C):\n",
    "        return 0\n",
    "    elif(note in C_sharp):\n",
    "        return 1\n",
    "    elif(note in D):\n",
    "        return 2\n",
    "    elif(note in D_sharp):\n",
    "        return 3\n",
    "    elif(note in E):\n",
    "        return 4\n",
    "    elif(note in F):\n",
    "        return 5\n",
    "    elif(note in F_sharp):\n",
    "        return 6\n",
    "    elif(note in G):\n",
    "        return 7\n",
    "    elif(note in G_sharp):\n",
    "        return 8\n",
    "    elif(note in A):\n",
    "        return 9\n",
    "    elif(note in A_sharp):\n",
    "        return 10\n",
    "    elif(note in B):\n",
    "        return 11\n",
    "    else:\n",
    "        return 0"
   ]
  },
  {
   "cell_type": "code",
   "execution_count": 13,
   "metadata": {},
   "outputs": [],
   "source": [
    "#timing array\n",
    "timing = np.load('csp.npy',allow_pickle=True)\n",
    "avg = sum([note_one,note_two,note_three,note_four]) / len([note_one,note_two,note_three,note_four])"
   ]
  },
  {
   "cell_type": "code",
   "execution_count": 14,
   "metadata": {},
   "outputs": [],
   "source": [
    "#new midi file\n",
    "mid = MidiFile()\n",
    "track2 = MidiTrack()\n",
    "mid.tracks.append(track2)\n",
    "\n",
    "track = MidiTrack()\n",
    "mid.tracks.append(track)\n",
    "\n",
    "#scalable octave variable\n",
    "octave = 12 * int(avg /10)\n",
    "#timing array index\n",
    "t = randrange(len(timing))\n",
    "\n",
    "track.append(Message('program_change', program=0, time=0))\n",
    "track2.append(Message('program_change', program=0, time=0))\n",
    "for x in range(4):\n",
    "    track2.append(Message('note_on', note= note_one, velocity=127, time=0))\n",
    "    track2.append(Message('note_off', note= note_one, velocity=127, time=1920))\n",
    "    track2.append(Message('note_on', note= note_two, velocity=127, time=0))\n",
    "    track2.append(Message('note_off', note= note_two, velocity=127, time=1920))\n",
    "    track2.append(Message('note_on', note= note_three, velocity=127, time=0))\n",
    "    track2.append(Message('note_off', note= note_three, velocity=127, time=1920))\n",
    "    track2.append(Message('note_on', note= note_four, velocity=127, time=0))\n",
    "    track2.append(Message('note_off', note= note_four, velocity=127, time=1920))\n",
    "for x in range(5):\n",
    "    for i in range(12):\n",
    "        track.append(Message('note_on', note= octave + note_reg(int(predict[0][i][0])), velocity=64, time=20))\n",
    "        track.append(Message('note_off', note= octave + note_reg(int(predict[0][i][0])), velocity=64, time=timing[t].get(str(i))))\n",
    "mid.save('song.mid')"
   ]
  }
 ],
 "metadata": {
  "kernelspec": {
   "display_name": "Python 3",
   "language": "python",
   "name": "python3"
  },
  "language_info": {
   "codemirror_mode": {
    "name": "ipython",
    "version": 3
   },
   "file_extension": ".py",
   "mimetype": "text/x-python",
   "name": "python",
   "nbconvert_exporter": "python",
   "pygments_lexer": "ipython3",
   "version": "3.7.3"
  }
 },
 "nbformat": 4,
 "nbformat_minor": 2
}
